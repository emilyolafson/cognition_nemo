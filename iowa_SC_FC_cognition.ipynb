{
 "cells": [
  {
   "cell_type": "code",
   "execution_count": 209,
   "id": "2dc70a80",
   "metadata": {},
   "outputs": [],
   "source": [
    "#import relevant libraries\n",
    "import sys; sys.path\n",
    "import pandas as pd\n",
    "import numpy as np \n",
    "import seaborn as sns\n",
    "from datetime import datetime\n",
    "import pickle \n",
    "from sklearn.pipeline import Pipeline\n",
    "import scipy.io as sio\n",
    "from scipy.stats import spearmanr, pearsonr\n",
    "from joblib import parallel_backend\n",
    "from sklearn import preprocessing, linear_model\n",
    "from sklearn.metrics import explained_variance_score, r2_score, make_scorer\n",
    "from sklearn.preprocessing import StandardScaler\n",
    "from sklearn.model_selection import train_test_split, GridSearchCV, cross_val_score, KFold\n",
    "from sklearn.decomposition import PCA\n",
    "import matplotlib.pyplot as plt\n",
    "from matplotlib.pyplot import figure\n",
    "from sklearn.utils.fixes import loguniform\n",
    "import matplotlib as mpl\n"
   ]
  },
  {
   "cell_type": "code",
   "execution_count": 3,
   "id": "029c80b5",
   "metadata": {},
   "outputs": [],
   "source": [
    "# Set paths\n",
    "data_dir='/home/ubuntu/cognition_iowa/data/'\n",
    "results_dir='/home/ubuntu/cognition_iowa/results/' \n",
    "\n",
    "#Load input variables (estimated SC and FC) and save all subjects to one .mat file for eFC prediction (Zijin's code)\n",
    "nROIs=86\n",
    "subj_id =  pd.read_csv(data_dir + 'final_subIDs.csv',header=None)[0]\n",
    "sc = np.zeros([len(subj_id),3655])\n",
    "\n",
    "for i in range(len(subj_id)):\n",
    "    filename = data_dir + \"sc/%s_nemo_output_chacoconn_fs86subj_nemoSC_volnorm.txt\" % (subj_id[i])\n",
    "    sc_tmp = pd.read_csv(filename, header=0, sep=' ').values\n",
    "    np.fill_diagonal(sc_tmp, 0)\n",
    "    sc[i,:] = sc_tmp[np.triu_indices(nROIs,k=1)]\n",
    "    \n",
    "sio.savemat(data_dir + 'allstroke_SCs.mat', {'sc':sc}) # used to predict eFC using Zijin's code.\n",
    "\n",
    "# Load FC\n",
    "fc = np.zeros([len(subj_id),3655])\n",
    "\n",
    "for i in range(len(subj_id)):\n",
    "    filename = data_dir + \"fc/%s_FC.txt\" % (subj_id[i])\n",
    "    fc_tmp = pd.read_csv(filename, header=0, sep=' ').values\n",
    "    np.fill_diagonal(sc_tmp, 0)\n",
    "    fc[i,:] = fc_tmp[np.triu_indices(nROIs,k=1)]\n",
    "    \n",
    "    \n",
    "# Load demographic variables and outcome measures (TMT and WAIS)\n",
    "#read in demographic info at first time point\n",
    "demo =  pd.read_csv(data_dir + 'demographic_final.csv',header=0)\n",
    "\n",
    "#read in cognitive scores at first time point\n",
    "tmt = pd.read_csv(data_dir + 'T_MT_A_TIME.csv',header=None)\n",
    "wais = pd.read_csv(data_dir + 'WAIS_IV_DS_TOTAL_RAW.csv',header=None)"
   ]
  },
  {
   "cell_type": "code",
   "execution_count": 56,
   "id": "46b10f2a",
   "metadata": {},
   "outputs": [],
   "source": [
    "def prepare_data(X):\n",
    "    '''Clean X-data (remove zero-value input variables)'''\n",
    "\n",
    "    # remove inputs that are 0 for all subjects\n",
    "    zeros=X==0\n",
    "    zeros=np.sum(zeros,0)\n",
    "    zeros=zeros==X.shape[0]\n",
    "    X=X[:,~zeros]\n",
    "    print(\"Final size of X: \" + str(X.shape))\n",
    "    \n",
    "    return X\n",
    "\n",
    "def np_pearson_cor(x, y):\n",
    "    '''Fast array-based pearson correlation that is more efficient. \n",
    "    https://cancerdatascience.org/blog/posts/pearson-correlation/.\n",
    "        x - input N x p\n",
    "        y - output N x 1\n",
    "        \n",
    "        returns correlation p x 1 '''\n",
    "    xv = x - x.mean(axis=0)\n",
    "    yv = y - y.mean(axis=0)\n",
    "    xvss = (xv * xv).sum(axis=0)\n",
    "    yvss = (yv * yv).sum(axis=0)\n",
    "    result = np.matmul(xv.transpose(), yv) / np.sqrt(np.outer(xvss, yvss))\n",
    "    \n",
    "    # bound the values to -1 to 1 in the event of precision issues\n",
    "    return np.maximum(np.minimum(result, 1.0), -1.0)\n",
    "\n",
    "\n",
    "def naive_pearson_cor(X, Y):\n",
    "    '''Naive (scipy-based) pearson correlation. \n",
    "    https://cancerdatascience.org/blog/posts/pearson-correlation/.\n",
    "        x - input N x p\n",
    "        y - output N x 1\n",
    "        \n",
    "        returns correlation p x 1 '''\n",
    "    result = np.zeros(shape=(X.shape[1], Y.shape[1]))\n",
    "    for i in range(X.shape[1]):\n",
    "        for j in range(Y.shape[1]):\n",
    "            r, _ = pearsonr(X[:,i], Y[:,j])\n",
    "            result[i,j] = r\n",
    "    return result\n",
    "\n",
    "\n",
    "def feature_select_PCA(x_train, x_test, a):\n",
    "    \"\"\"Return values for the top a PCs of x based on PCA of x.\n",
    "         \n",
    "         Inputs:\n",
    "             x = input matrix\n",
    "             y = variable/s predicted \n",
    "             a = number of PCs\n",
    "         \n",
    "        Returns:\n",
    "            x_train_featselect = training data with selected features \n",
    "            x_test_featselect = test data matrix with selected features \n",
    "            var_expl = variance explained by top a components\"\"\"\n",
    "    \n",
    "    # check that dimension of x is greater than a\n",
    "    if x_train.shape[1]<a:\n",
    "        raise Exception('Number of features in X is less than the number of features specified to retain (a).') \n",
    "    \n",
    "    # Feature selection: use only the top n features based on top a PCs in training data \n",
    "    pca = PCA(n_components=a, copy=True, random_state=42)\n",
    "    x_train_featselect = pca.fit(x_train).transform(x_train)\n",
    "    x_test_featselect = pca.transform(x_test)\n",
    "    \n",
    "    var_expl = pca.explained_variance_\n",
    "\n",
    "\n",
    "    return x_train_featselect,x_test_featselect, var_expl\n",
    "\n",
    "def feature_select_correlation(x_train, x_test, y, a):\n",
    "    \"\"\"Return values for the top a features of x based on abs. value Spearman correlation with y.\n",
    "         Inputs:\n",
    "             x = input matrix\n",
    "             y = variable/s predicted \n",
    "             a = number of features to retain\n",
    "        \n",
    "        Returns:\n",
    "            x_train_featselect = training data with selected features \n",
    "            x_test_featselect = test data matrix with selected features\n",
    "        \"\"\"\n",
    "    \n",
    "    # check that dimension of x is greater than a\n",
    "    if x_train.shape[1]<a:\n",
    "        raise Exception('Number of features in X is less than the number of features specified to retain (a).') \n",
    "        \n",
    "    # Feature selection: use only the top n features based on correlation of training features with y\n",
    "    correl = abs(np_pearson_cor(x_train, y))\n",
    "    ind = np.argpartition(correl, -a, 0)[-a:] # select top a features\n",
    "\n",
    "    # return training/test data with only top features\n",
    "    x_train_featselect=np.squeeze(x_train[:,ind],2)\n",
    "    x_test_featselect=np.squeeze(x_test[:,ind],2)\n",
    "\n",
    "    return x_train_featselect,x_test_featselect\n",
    "\n",
    "\n",
    "def scale_data(x_train, x_test):\n",
    "    '''Scale the training data and apply transformation to the test/validation data.\n",
    "\n",
    "        Inputs:\n",
    "            x_train = training predictors\n",
    "            x_test = training predictors \n",
    "        \n",
    "        Returns:\n",
    "            x_train_scaled\n",
    "            x_test_scaled '''\n",
    "    \n",
    "    # Scale x_train \n",
    "    scaler = preprocessing.StandardScaler().fit(x_train)\n",
    "    \n",
    "    # apply transformation to train & test set.\n",
    "    x_train_scaled = scaler.transform(x_train)\n",
    "    x_test_scaled = scaler.transform(x_test)\n",
    "    \n",
    "    return x_train_scaled, x_test_scaled\n",
    "\n",
    "\n",
    "def gcv_ridge(hyperparam, x, y, k, featsel='None', a=x.shape[1]):\n",
    "    \"\"\"Perform gridsearch using k-fold cross-validation on a single hyperparameter \n",
    "    in ridge regression, and return mean R^2 across inner folds.\n",
    "    \n",
    "    Inputs: \n",
    "        hyperparam = list of hyperparameter values to train & test on validation est\n",
    "        x = N x p input matrix\n",
    "        y = 1 x p variable to predict\n",
    "        k = k value in k-fold cross validation \n",
    "        featsel = type string, feature selection method, default=\"None\"\n",
    "            'None' - no feature selection; use all variables for prediction\n",
    "            'correlation'- calculate the abs. val. Pearson correlation between all training variables with the varibale to predict. Use the highest 'a' variables based on their correlation for prediction\n",
    "            'PCA' - perform PCA on the training variables and use the top 'a' PCs as input variables, by variance explained, for prediction\n",
    "        a = number of features to select using one of the above methods, default=p   \n",
    "    \n",
    "    Returns:\n",
    "        r2 = the mean R^2 (coefficient of determination) across inner loop folds for the given hyperparameter\n",
    "    \"\"\"\n",
    "    \n",
    "    # make sure k is reasonable \n",
    "    if x.shape[0]/k <= 2:\n",
    "        raise Exception('R^2 is not well-defined with less than 2 subjects.')   \n",
    "    \n",
    "    # set alpha in ridge regression\n",
    "    alpha = hyperparam\n",
    "    \n",
    "    # Initialize lists with final results\n",
    "    y_pred_total = []\n",
    "    y_valid_total = []\n",
    "    R2 = []\n",
    "    \n",
    "    # Split data into test and train: random state fixed for reproducibility\n",
    "    kf = KFold(n_splits=k,shuffle=True,random_state=42)\n",
    "    \n",
    "    # K-fold cross-validation \n",
    "    for train_index, valid_index in kf.split(x):\n",
    "        x_train, x_valid = x[train_index], x[valid_index]\n",
    "        y_train, y_valid = y[train_index], y[valid_index]\n",
    "        \n",
    "        x_train, x_valid = scale_data(x_train, x_valid)\n",
    "        \n",
    "        if featsel=='correlation':\n",
    "            x_train, x_valid = feature_select_correlation(x_train, x_valid, y_train, a)\n",
    "\n",
    "        elif featsel=='PCA':\n",
    "            x_train, x_valid, var_expl = feature_select_PCA(x_train, x_valid, a)\n",
    "\n",
    "        #x_train, x_valid = feature_select_correlation(x_train, x_valid, y_train, 10)\n",
    "        \n",
    "        # Fit ridge regression with (x_train_scaled, y_train), and predict x_train_scaled\n",
    "        regr = linear_model.Ridge(alpha=alpha, normalize=True, max_iter=1000000, random_state=1)\n",
    "        y_pred = regr.fit(x_train, y_train).predict(x_valid)\n",
    "\n",
    "        R2.append(r2_score(y_valid, y_pred))\n",
    "        \n",
    "        # Append y_pred and y_valid values of this k-fold step to list with total values\n",
    "        y_pred_total.append(y_pred)\n",
    "        y_valid_total.append(y_valid)\n",
    "    \n",
    "    r2=np.mean(R2)\n",
    "    return r2"
   ]
  },
  {
   "cell_type": "code",
   "execution_count": null,
   "id": "d45e6b4b",
   "metadata": {},
   "outputs": [
    {
     "name": "stdout",
     "output_type": "stream",
     "text": [
      "Final size of X: (101, 6771)\n"
     ]
    }
   ],
   "source": [
    "#set the number of folds you want in the inner and outer folds of the nested cross-validation\n",
    "k = 5\n",
    "\n",
    "#set the proportion of data you want in your training set\n",
    "train_size = .8\n",
    "\n",
    "#set x data to be the input variable you want to use\n",
    "#ie fc, sc, or hc\n",
    "X = np.concatenate([sc, fc], axis=1)\n",
    "X=prepare_data(X)\n",
    "\n",
    "#set y to be the measure you want to predict\n",
    "Y = np.array(wais)\n",
    "\n",
    "# set aside data for hold-out final testing: \n",
    "x, x_test, y, y_test = train_test_split(X, Y, test_size=1-train_size, shuffle=True, random_state=42)\n",
    "\n",
    "# set hyperparameter search space\n",
    "# range of alphas\n",
    "n_alphas=20\n",
    "alpha_start=-3\n",
    "alpha_end=3\n",
    "alphas = np.logspace(alpha_start, alpha_end, n_alphas, base=10, dtype=None)\n",
    "\n",
    "#number of principal components\n",
    "pc_start=10\n",
    "pc_end=40\n",
    "n_pcs=pc_end-pc_start+1\n",
    "pcas = np.linspace(pc_start, pc_end,n_pcs, dtype=int)\n",
    "\n",
    "gcv_values=np.empty(shape=(len(alphas),len(pcas)),dtype='float')\n",
    "\n",
    "# iterate through alphas\n",
    "for alpha in alphas:\n",
    "    row, = np.where(alphas==alpha)\n",
    "    for pc in pcas:\n",
    "        column, = np.where(pcas==pc)\n",
    "        r2=gcv_ridge(alpha, x, y, 5, 'PCA', pc)\n",
    "        gcv_values[row,column]=r2 "
   ]
  },
  {
   "cell_type": "code",
   "execution_count": 300,
   "id": "5cce0adb",
   "metadata": {},
   "outputs": [
    {
     "name": "stderr",
     "output_type": "stream",
     "text": [
      "<ipython-input-300-14be6a6aba4d>:9: MatplotlibDeprecationWarning: Adding an axes using the same arguments as a previous axes currently reuses the earlier instance.  In a future version, a new instance will always be created and returned.  Meanwhile, this warning can be suppressed, and the future behavior ensured, by passing a unique label to each axes instance.\n",
      "  ax = plt.axes()\n"
     ]
    },
    {
     "data": {
      "image/png": "[encoded data removed]",
      "text/plain": [
       "<Figure size 1224x1008 with 2 Axes>"
      ]
     },
     "metadata": {
      "needs_background": "light"
     },
     "output_type": "display_data"
    },
    {
     "data": {
      "text/plain": [
       "<Figure size 432x288 with 0 Axes>"
      ]
     },
     "metadata": {},
     "output_type": "display_data"
    }
   ],
   "source": [
    "plt.figure(figsize=(17,14))\n",
    "shifted_cmap = shiftedColorMap(plt.get_cmap('bwr'), midpoint=0.94, name='shifted')\n",
    "\n",
    "plt.imshow(gcv_values, cmap=shifted_cmap, interpolation='nearest')\n",
    "\n",
    "plt.xlabel('# PCs', fontsize=15, fontweight='bold')\n",
    "plt.ylabel('Alphas', fontsize=15, fontweight='bold')\n",
    "\n",
    "ax = plt.axes()\n",
    "\n",
    "ax.xaxis.set_major_locator(plt.MultipleLocator(1))\n",
    "ax.yaxis.set_major_locator(plt.MultipleLocator(1))\n",
    "\n",
    "xticks= np.linspace(pc_start, pc_end,n_pcs, dtype=int)\n",
    "yticks= np.logspace(alpha_start, alpha_end, n_alphas, base=10, dtype=None)\n",
    "\n",
    "plt.xticks(np.arange(len(pcas)), fontsize=18)\n",
    "plt.yticks(np.arange(len(alphas)), fontsize=18)\n",
    "\n",
    "ax.set_xticklabels(xticks)\n",
    "ax.set_yticklabels(np.round(yticks,3))\n",
    "\n",
    "#ax.xaxis.set_major_formatter(mpl.ticker.StrMethodFormatter('{xticks: .2f}'))\n",
    "cbar = plt.colorbar()\n",
    "cbar.set_label('R^2')\n",
    "plt.show()\n",
    "\n",
    "plt.savefig(results_dir+'alpha_PCspace_1.png')"
   ]
  },
  {
   "cell_type": "code",
   "execution_count": 296,
   "id": "207d17b7",
   "metadata": {},
   "outputs": [
    {
     "data": {
      "text/plain": [
       "0.1883589674666259"
      ]
     },
     "execution_count": 296,
     "metadata": {},
     "output_type": "execute_result"
    }
   ],
   "source": [
    "np.max(gcv_values)"
   ]
  },
  {
   "cell_type": "code",
   "execution_count": 254,
   "id": "f773a149",
   "metadata": {},
   "outputs": [
    {
     "data": {
      "text/plain": [
       "array([20, 21, 22, 23, 24, 25, 26, 27, 28, 29, 30])"
      ]
     },
     "execution_count": 254,
     "metadata": {},
     "output_type": "execute_result"
    }
   ],
   "source": [
    " np.linspace(20, 30,11, dtype=int)"
   ]
  },
  {
   "cell_type": "code",
   "execution_count": 284,
   "id": "d1db7ff7",
   "metadata": {},
   "outputs": [],
   "source": [
    "import matplotlib\n",
    "import matplotlib.pyplot as plt\n",
    "from mpl_toolkits.axes_grid1 import AxesGrid\n",
    "def shiftedColorMap(cmap, start=0, midpoint=0.5, stop=1.0, name='shiftedcmap'):\n",
    "    '''\n",
    "    Function to offset the \"center\" of a colormap. Useful for\n",
    "    data with a negative min and positive max and you want the\n",
    "    middle of the colormap's dynamic range to be at zero.\n",
    "\n",
    "    Input\n",
    "    -----\n",
    "      cmap : The matplotlib colormap to be altered\n",
    "      start : Offset from lowest point in the colormap's range.\n",
    "          Defaults to 0.0 (no lower offset). Should be between\n",
    "          0.0 and `midpoint`.\n",
    "      midpoint : The new center of the colormap. Defaults to \n",
    "          0.5 (no shift). Should be between 0.0 and 1.0. In\n",
    "          general, this should be  1 - vmax / (vmax + abs(vmin))\n",
    "          For example if your data range from -15.0 to +5.0 and\n",
    "          you want the center of the colormap at 0.0, `midpoint`\n",
    "          should be set to  1 - 5/(5 + 15)) or 0.75\n",
    "      stop : Offset from highest point in the colormap's range.\n",
    "          Defaults to 1.0 (no upper offset). Should be between\n",
    "          `midpoint` and 1.0.\n",
    "    '''\n",
    "    cdict = {\n",
    "        'red': [],\n",
    "        'green': [],\n",
    "        'blue': [],\n",
    "        'alpha': []\n",
    "    }\n",
    "\n",
    "    # regular index to compute the colors\n",
    "    reg_index = np.linspace(start, stop, 257)\n",
    "\n",
    "    # shifted index to match the data\n",
    "    shift_index = np.hstack([\n",
    "        np.linspace(0.0, midpoint, 128, endpoint=False), \n",
    "        np.linspace(midpoint, 1.0, 129, endpoint=True)\n",
    "    ])\n",
    "\n",
    "    for ri, si in zip(reg_index, shift_index):\n",
    "        r, g, b, a = cmap(ri)\n",
    "\n",
    "        cdict['red'].append((si, r, r))\n",
    "        cdict['green'].append((si, g, g))\n",
    "        cdict['blue'].append((si, b, b))\n",
    "        cdict['alpha'].append((si, a, a))\n",
    "\n",
    "    newcmap = matplotlib.colors.LinearSegmentedColormap(name, cdict)\n",
    "    plt.register_cmap(cmap=newcmap)\n",
    "\n",
    "    return newcmap"
   ]
  },
  {
   "cell_type": "code",
   "execution_count": 257,
   "id": "d9acc857",
   "metadata": {},
   "outputs": [
    {
     "name": "stdout",
     "output_type": "stream",
     "text": [
      "[[-2.12548334e-01 -1.80454740e-01 -2.84541193e-01 -2.74358545e-01\n",
      "  -4.57880259e-01 -5.44224028e-01 -8.92629153e-01 -1.22231056e+00\n",
      "  -1.54320118e+00 -1.18192871e+00 -1.16688828e+00]\n",
      " [-2.11077115e-01 -1.79154701e-01 -2.82912173e-01 -2.72939781e-01\n",
      "  -4.56315049e-01 -5.42502617e-01 -8.89566408e-01 -1.21841390e+00\n",
      "  -1.53853977e+00 -1.17810576e+00 -1.16312407e+00]\n",
      " [-2.08051529e-01 -1.76481229e-01 -2.79561687e-01 -2.70021577e-01\n",
      "  -4.53094487e-01 -5.38960340e-01 -8.83264336e-01 -1.21039522e+00\n",
      "  -1.52894673e+00 -1.17023893e+00 -1.15537807e+00]\n",
      " [-2.01869769e-01 -1.71019231e-01 -2.72714500e-01 -2.64057132e-01\n",
      "  -4.46507224e-01 -5.31713712e-01 -8.70373401e-01 -1.19399005e+00\n",
      "  -1.50931798e+00 -1.15414494e+00 -1.13953121e+00]\n",
      " [-1.89407500e-01 -1.60009398e-01 -2.58904007e-01 -2.52024219e-01\n",
      "  -4.33197515e-01 -5.17066137e-01 -8.44323531e-01 -1.16082647e+00\n",
      "  -1.46962665e+00 -1.12161272e+00 -1.10749818e+00]\n",
      " [-1.64962054e-01 -1.38418816e-01 -2.31786219e-01 -2.28384995e-01\n",
      "  -4.06966527e-01 -4.88175455e-01 -7.92969864e-01 -1.09539910e+00\n",
      "  -1.39127514e+00 -1.05744030e+00 -1.04430909e+00]\n",
      " [-1.19586034e-01 -9.83650567e-02 -1.81340186e-01 -1.84363292e-01\n",
      "  -3.57789120e-01 -4.33921205e-01 -6.96637160e-01 -9.72469313e-01\n",
      "  -1.24388269e+00 -9.36905218e-01 -9.25615570e-01]\n",
      " [-4.40458458e-02 -3.17694761e-02 -9.69583004e-02 -1.10556834e-01\n",
      "  -2.74136583e-01 -3.41304588e-01 -5.32569657e-01 -7.62390560e-01\n",
      "  -9.91348188e-01 -7.31052071e-01 -7.22887859e-01]\n",
      " [ 5.81199502e-02  5.80281924e-02  1.84546509e-02 -9.06288554e-03\n",
      "  -1.55269378e-01 -2.08668160e-01 -2.98800431e-01 -4.60824910e-01\n",
      "  -6.26801876e-01 -4.35969024e-01 -4.32223542e-01]\n",
      " [ 1.51530771e-01  1.39412794e-01  1.27394756e-01  8.81688461e-02\n",
      "  -3.13984175e-02 -6.78453425e-02 -5.35875919e-02 -1.38865162e-01\n",
      "  -2.32516988e-01 -1.21971329e-01 -1.22774064e-01]\n",
      " [ 1.84299734e-01  1.66382215e-01  1.73135148e-01  1.32042825e-01\n",
      "   4.54986777e-02  2.46032967e-02  1.01733050e-01  7.58751477e-02\n",
      "   4.00506676e-02  8.54956128e-02  8.19785944e-02]\n",
      " [ 1.48700717e-01  1.32577722e-01  1.44891354e-01  1.12214635e-01\n",
      "   5.72914428e-02  4.68806171e-02  1.30540664e-01  1.32765478e-01\n",
      "   1.26636268e-01  1.37516143e-01  1.33758738e-01]\n",
      " [ 8.72822245e-02  7.63157853e-02  8.63553205e-02  6.52767711e-02\n",
      "   3.40436578e-02  2.92015259e-02  8.99083787e-02  9.82234886e-02\n",
      "   1.01020329e-01  1.00412523e-01  9.76987131e-02]\n",
      " [ 3.61369603e-02  2.97976471e-02  3.60249658e-02  2.41323894e-02\n",
      "   7.63732544e-03  5.40849362e-03  4.14696553e-02  4.80086113e-02\n",
      "   5.13993962e-02  4.90085788e-02  4.73995501e-02]\n",
      " [ 3.96448345e-03  6.10631397e-04  4.00903121e-03 -2.21124601e-03\n",
      "  -1.05560647e-02 -1.15955825e-02  7.72003398e-03  1.16037709e-02\n",
      "   1.38321733e-02  1.20678003e-02  1.12066711e-02]\n",
      " [-1.37228866e-02 -1.54179390e-02 -1.36755310e-02 -1.68021619e-02\n",
      "  -2.09282542e-02 -2.14202084e-02 -1.16012304e-02 -9.53683828e-03\n",
      "  -8.30661315e-03 -9.31787358e-03 -9.75545260e-03]\n",
      " [-2.28249182e-02 -2.36622377e-02 -2.27956529e-02 -2.43360926e-02\n",
      "  -2.63526814e-02 -2.65877948e-02 -2.17240083e-02 -2.06802395e-02\n",
      "  -2.00479528e-02 -2.05757537e-02 -2.07924663e-02]\n",
      " [-2.73599818e-02 -2.77689765e-02 -2.73443072e-02 -2.80957946e-02\n",
      "  -2.90757337e-02 -2.91887200e-02 -2.68098154e-02 -2.62943394e-02\n",
      "  -2.59797187e-02 -2.62441667e-02 -2.63501526e-02]\n",
      " [-2.95843384e-02 -2.97830234e-02 -2.95764006e-02 -2.99412419e-02\n",
      "  -3.04160958e-02 -3.04705484e-02 -2.93141646e-02 -2.90624311e-02\n",
      "  -2.89082390e-02 -2.90382602e-02 -2.90897777e-02]\n",
      " [-3.06670593e-02 -3.07633220e-02 -3.06631379e-02 -3.08398510e-02\n",
      "  -3.10696391e-02 -3.10959197e-02 -3.05354799e-02 -3.04132062e-02\n",
      "  -3.03381838e-02 -3.04015428e-02 -3.04265101e-02]]\n"
     ]
    }
   ],
   "source": [
    "print(gcv_values)"
   ]
  },
  {
   "cell_type": "code",
   "execution_count": 59,
   "id": "e8065908",
   "metadata": {},
   "outputs": [
    {
     "data": {
      "text/plain": [
       "(101, 3570)"
      ]
     },
     "execution_count": 59,
     "metadata": {},
     "output_type": "execute_result"
    }
   ],
   "source": [
    "# model selection & regularization optimization\n",
    "# Model selection & hyperparameter optimization\n",
    "# We optimize alpha using only the training data (X_train, cog_train)\n",
    "# https://stackoverflow.com/questions/42228735/scikit-learn-gridsearchcv-with-multiple-repetitions/42230764#42230764\n",
    "\n",
    "p=1\n",
    "k=5\n",
    "#joblib-based parallelism to increase speed\n",
    "with parallel_backend('loky', n_jobs=20):\n",
    "\n",
    "    #print permutation # you're on\n",
    "    print('Permutation %d' %(p+1))\n",
    "\n",
    "    #Splitting the dataset into a hold-out test set and training set for model selection.\n",
    "    x, x_test, y, y_test = train_test_split(X, Y, test_size=1-train_size, shuffle=True, random_state=p)\n",
    "    print(\"Size of X: \" + str(x.shape))\n",
    "    print(\"Size of y: \" + str(y.shape))\n",
    "\n",
    "    # Initializing Regression models\n",
    "    regr1= linear_model.Ridge(normalize=True, max_iter=1000000)\n",
    "\n",
    "    #set the param grid be to the hyperparamters you want to search through\n",
    "    #set hyperparameter grid space you want to search through for the model\n",
    "    alphas = np.linspace(1e-5, 1, num=100, endpoint=True,dtype=None, axis=0)\n",
    "    \n",
    "    # Setting up multiple GridSearchCV objects, 1 for each algorithm\n",
    "    inner_cv = KFold(n_splits=k, shuffle=True, random_state=3)\n",
    "    \n",
    "    paramGrid ={'alpha': alphas}    \n",
    "    scores = {\"R-squared\": \"r2\", \"Explained-var\": \"explained_variance\", \"MSE\":'neg_mean_squared_error'}\n",
    "\n",
    "    # Setting up GridSearchCV object\n",
    "    gcv = GridSearchCV(estimator=regr1,\n",
    "                           param_grid=paramGrid,\n",
    "                           scoring=scores,\n",
    "                           n_jobs=1,\n",
    "                           cv=inner_cv,\n",
    "                           verbose=0,\n",
    "                           refit=\"R-squared\")\n",
    "    gridcvs={}\n",
    "    gridcvs['Ridge'] = gcv\n",
    "\n",
    "    best_params=[]\n",
    "\n",
    "    #Normalize training and test data using scaler fit to training data    \n",
    "    scaler = preprocessing.StandardScaler().fit(x[train_idx])\n",
    "    x[train_idx] = scaler.transform(x[train_idx])\n",
    "    x[test_idx] = scaler.transform(x[test_idx])\n",
    "\n",
    "    # split data into training and validation ---- inner loop \n",
    "\n",
    "    gridcvs['Ridge'].fit(x[train_idx], y[train_idx]) # inner loop hyperparam tuning\n",
    "    for i in range(0,k):\n",
    "        plt.plot(gridcvs['Ridge'].cv_results_['param_alpha'], gridcvs['Ridge'].cv_results_['split'+str(i)+'_test_R-squared'])    \n",
    "        plt.ylim([-10, 1])\n",
    "    \n",
    "    print(gridcvs['Ridge'].best_score_)\n",
    "    print(gridcvs['Ridge'].best_params_)\n"
   ]
  },
  {
   "cell_type": "code",
   "execution_count": 43,
   "id": "820f51e6",
   "metadata": {
    "scrolled": false
   },
   "outputs": [
    {
     "name": "stdout",
     "output_type": "stream",
     "text": [
      "Cognition:  TMT\n",
      "Permutation 1\n",
      "Fitting 5 folds for each of 100 candidates, totalling 500 fits\n",
      "Fitting 5 folds for each of 100 candidates, totalling 500 fits\n",
      "Fitting 5 folds for each of 100 candidates, totalling 500 fits\n",
      "Fitting 5 folds for each of 100 candidates, totalling 500 fits\n",
      "Fitting 5 folds for each of 100 candidates, totalling 500 fits\n",
      "mean R^2 performance on test data: 0.038139662297032806\n",
      "Permutation 2\n",
      "Fitting 5 folds for each of 100 candidates, totalling 500 fits\n",
      "Fitting 5 folds for each of 100 candidates, totalling 500 fits\n",
      "Fitting 5 folds for each of 100 candidates, totalling 500 fits\n",
      "Fitting 5 folds for each of 100 candidates, totalling 500 fits\n",
      "Fitting 5 folds for each of 100 candidates, totalling 500 fits\n",
      "mean R^2 performance on test data: 0.017793627829188807\n",
      "Permutation 3\n",
      "Fitting 5 folds for each of 100 candidates, totalling 500 fits\n",
      "Fitting 5 folds for each of 100 candidates, totalling 500 fits\n",
      "Fitting 5 folds for each of 100 candidates, totalling 500 fits\n",
      "Fitting 5 folds for each of 100 candidates, totalling 500 fits\n",
      "Fitting 5 folds for each of 100 candidates, totalling 500 fits\n",
      "mean R^2 performance on test data: 0.16227561403145727\n",
      "Permutation 4\n",
      "Fitting 5 folds for each of 100 candidates, totalling 500 fits\n",
      "Fitting 5 folds for each of 100 candidates, totalling 500 fits\n"
     ]
    },
    {
     "name": "stderr",
     "output_type": "stream",
     "text": [
      "/home/ubuntu/anaconda3/lib/python3.8/site-packages/scipy/stats/stats.py:4264: SpearmanRConstantInputWarning: An input array is constant; the correlation coefficent is not defined.\n",
      "  warnings.warn(SpearmanRConstantInputWarning())\n"
     ]
    },
    {
     "name": "stdout",
     "output_type": "stream",
     "text": [
      "Fitting 5 folds for each of 100 candidates, totalling 500 fits\n",
      "Fitting 5 folds for each of 100 candidates, totalling 500 fits\n",
      "Fitting 5 folds for each of 100 candidates, totalling 500 fits\n",
      "mean R^2 performance on test data: 0.05526471221335112\n",
      "Permutation 5\n",
      "Fitting 5 folds for each of 100 candidates, totalling 500 fits\n",
      "Fitting 5 folds for each of 100 candidates, totalling 500 fits\n",
      "Fitting 5 folds for each of 100 candidates, totalling 500 fits\n",
      "Fitting 5 folds for each of 100 candidates, totalling 500 fits\n",
      "Fitting 5 folds for each of 100 candidates, totalling 500 fits\n",
      "mean R^2 performance on test data: 0.13454766419628042\n",
      "Permutation 6\n"
     ]
    },
    {
     "name": "stderr",
     "output_type": "stream",
     "text": [
      "/home/ubuntu/anaconda3/lib/python3.8/site-packages/scipy/stats/stats.py:4264: SpearmanRConstantInputWarning: An input array is constant; the correlation coefficent is not defined.\n",
      "  warnings.warn(SpearmanRConstantInputWarning())\n"
     ]
    },
    {
     "name": "stdout",
     "output_type": "stream",
     "text": [
      "Fitting 5 folds for each of 100 candidates, totalling 500 fits\n",
      "Fitting 5 folds for each of 100 candidates, totalling 500 fits\n",
      "Fitting 5 folds for each of 100 candidates, totalling 500 fits\n",
      "Fitting 5 folds for each of 100 candidates, totalling 500 fits\n",
      "Fitting 5 folds for each of 100 candidates, totalling 500 fits\n",
      "mean R^2 performance on test data: -0.07686717889594052\n",
      "Permutation 7\n",
      "Fitting 5 folds for each of 100 candidates, totalling 500 fits\n",
      "Fitting 5 folds for each of 100 candidates, totalling 500 fits\n"
     ]
    },
    {
     "name": "stderr",
     "output_type": "stream",
     "text": [
      "/home/ubuntu/anaconda3/lib/python3.8/site-packages/scipy/stats/stats.py:4264: SpearmanRConstantInputWarning: An input array is constant; the correlation coefficent is not defined.\n",
      "  warnings.warn(SpearmanRConstantInputWarning())\n"
     ]
    },
    {
     "name": "stdout",
     "output_type": "stream",
     "text": [
      "Fitting 5 folds for each of 100 candidates, totalling 500 fits\n",
      "Fitting 5 folds for each of 100 candidates, totalling 500 fits\n",
      "Fitting 5 folds for each of 100 candidates, totalling 500 fits\n",
      "mean R^2 performance on test data: 0.09656032564432501\n",
      "Permutation 8\n",
      "Fitting 5 folds for each of 100 candidates, totalling 500 fits\n",
      "Fitting 5 folds for each of 100 candidates, totalling 500 fits\n",
      "Fitting 5 folds for each of 100 candidates, totalling 500 fits\n",
      "Fitting 5 folds for each of 100 candidates, totalling 500 fits\n",
      "Fitting 5 folds for each of 100 candidates, totalling 500 fits\n",
      "mean R^2 performance on test data: -0.01009480856913123\n",
      "Permutation 9\n",
      "Fitting 5 folds for each of 100 candidates, totalling 500 fits\n",
      "Fitting 5 folds for each of 100 candidates, totalling 500 fits\n",
      "Fitting 5 folds for each of 100 candidates, totalling 500 fits\n",
      "Fitting 5 folds for each of 100 candidates, totalling 500 fits\n",
      "Fitting 5 folds for each of 100 candidates, totalling 500 fits\n",
      "mean R^2 performance on test data: -0.1839258144330606\n",
      "Permutation 10\n",
      "Fitting 5 folds for each of 100 candidates, totalling 500 fits\n",
      "Fitting 5 folds for each of 100 candidates, totalling 500 fits\n",
      "Fitting 5 folds for each of 100 candidates, totalling 500 fits\n",
      "Fitting 5 folds for each of 100 candidates, totalling 500 fits\n"
     ]
    },
    {
     "name": "stderr",
     "output_type": "stream",
     "text": [
      "/home/ubuntu/anaconda3/lib/python3.8/site-packages/scipy/stats/stats.py:4264: SpearmanRConstantInputWarning: An input array is constant; the correlation coefficent is not defined.\n",
      "  warnings.warn(SpearmanRConstantInputWarning())\n"
     ]
    },
    {
     "name": "stdout",
     "output_type": "stream",
     "text": [
      "Fitting 5 folds for each of 100 candidates, totalling 500 fits\n",
      "mean R^2 performance on test data: 0.1078302927777663\n",
      "Permutation 11\n",
      "Fitting 5 folds for each of 100 candidates, totalling 500 fits\n",
      "Fitting 5 folds for each of 100 candidates, totalling 500 fits\n",
      "Fitting 5 folds for each of 100 candidates, totalling 500 fits\n",
      "Fitting 5 folds for each of 100 candidates, totalling 500 fits\n",
      "Fitting 5 folds for each of 100 candidates, totalling 500 fits\n",
      "mean R^2 performance on test data: 0.1300014910501895\n",
      "Permutation 12\n"
     ]
    },
    {
     "name": "stderr",
     "output_type": "stream",
     "text": [
      "/home/ubuntu/anaconda3/lib/python3.8/site-packages/scipy/stats/stats.py:4264: SpearmanRConstantInputWarning: An input array is constant; the correlation coefficent is not defined.\n",
      "  warnings.warn(SpearmanRConstantInputWarning())\n"
     ]
    },
    {
     "name": "stdout",
     "output_type": "stream",
     "text": [
      "Fitting 5 folds for each of 100 candidates, totalling 500 fits\n",
      "Fitting 5 folds for each of 100 candidates, totalling 500 fits\n",
      "Fitting 5 folds for each of 100 candidates, totalling 500 fits\n",
      "Fitting 5 folds for each of 100 candidates, totalling 500 fits\n",
      "Fitting 5 folds for each of 100 candidates, totalling 500 fits\n",
      "mean R^2 performance on test data: 0.0930870143166633\n",
      "Permutation 13\n",
      "Fitting 5 folds for each of 100 candidates, totalling 500 fits\n",
      "Fitting 5 folds for each of 100 candidates, totalling 500 fits\n",
      "Fitting 5 folds for each of 100 candidates, totalling 500 fits\n",
      "Fitting 5 folds for each of 100 candidates, totalling 500 fits\n",
      "Fitting 5 folds for each of 100 candidates, totalling 500 fits\n",
      "mean R^2 performance on test data: 0.05504648216199868\n",
      "Permutation 14\n",
      "Fitting 5 folds for each of 100 candidates, totalling 500 fits\n",
      "Fitting 5 folds for each of 100 candidates, totalling 500 fits\n"
     ]
    },
    {
     "name": "stderr",
     "output_type": "stream",
     "text": [
      "/home/ubuntu/anaconda3/lib/python3.8/site-packages/scipy/stats/stats.py:4264: SpearmanRConstantInputWarning: An input array is constant; the correlation coefficent is not defined.\n",
      "  warnings.warn(SpearmanRConstantInputWarning())\n"
     ]
    },
    {
     "name": "stdout",
     "output_type": "stream",
     "text": [
      "Fitting 5 folds for each of 100 candidates, totalling 500 fits\n",
      "Fitting 5 folds for each of 100 candidates, totalling 500 fits\n"
     ]
    },
    {
     "name": "stderr",
     "output_type": "stream",
     "text": [
      "/home/ubuntu/anaconda3/lib/python3.8/site-packages/scipy/stats/stats.py:4264: SpearmanRConstantInputWarning: An input array is constant; the correlation coefficent is not defined.\n",
      "  warnings.warn(SpearmanRConstantInputWarning())\n"
     ]
    },
    {
     "name": "stdout",
     "output_type": "stream",
     "text": [
      "Fitting 5 folds for each of 100 candidates, totalling 500 fits\n",
      "mean R^2 performance on test data: -0.046652157873226185\n",
      "Permutation 15\n",
      "Fitting 5 folds for each of 100 candidates, totalling 500 fits\n",
      "Fitting 5 folds for each of 100 candidates, totalling 500 fits\n",
      "Fitting 5 folds for each of 100 candidates, totalling 500 fits\n",
      "Fitting 5 folds for each of 100 candidates, totalling 500 fits\n",
      "Fitting 5 folds for each of 100 candidates, totalling 500 fits\n",
      "mean R^2 performance on test data: 0.024935156598388762\n",
      "Permutation 16\n",
      "Fitting 5 folds for each of 100 candidates, totalling 500 fits\n",
      "Fitting 5 folds for each of 100 candidates, totalling 500 fits\n",
      "Fitting 5 folds for each of 100 candidates, totalling 500 fits\n",
      "Fitting 5 folds for each of 100 candidates, totalling 500 fits\n",
      "Fitting 5 folds for each of 100 candidates, totalling 500 fits\n",
      "mean R^2 performance on test data: 0.07773459331001506\n",
      "Permutation 17\n",
      "Fitting 5 folds for each of 100 candidates, totalling 500 fits\n",
      "Fitting 5 folds for each of 100 candidates, totalling 500 fits\n",
      "Fitting 5 folds for each of 100 candidates, totalling 500 fits\n"
     ]
    },
    {
     "name": "stderr",
     "output_type": "stream",
     "text": [
      "/home/ubuntu/anaconda3/lib/python3.8/site-packages/scipy/stats/stats.py:4264: SpearmanRConstantInputWarning: An input array is constant; the correlation coefficent is not defined.\n",
      "  warnings.warn(SpearmanRConstantInputWarning())\n"
     ]
    },
    {
     "name": "stdout",
     "output_type": "stream",
     "text": [
      "Fitting 5 folds for each of 100 candidates, totalling 500 fits\n",
      "Fitting 5 folds for each of 100 candidates, totalling 500 fits\n",
      "mean R^2 performance on test data: 0.08262861705776221\n",
      "Permutation 18\n",
      "Fitting 5 folds for each of 100 candidates, totalling 500 fits\n",
      "Fitting 5 folds for each of 100 candidates, totalling 500 fits\n",
      "Fitting 5 folds for each of 100 candidates, totalling 500 fits\n",
      "Fitting 5 folds for each of 100 candidates, totalling 500 fits\n",
      "Fitting 5 folds for each of 100 candidates, totalling 500 fits\n",
      "mean R^2 performance on test data: 0.008696721821020237\n",
      "Permutation 19\n",
      "Fitting 5 folds for each of 100 candidates, totalling 500 fits\n",
      "Fitting 5 folds for each of 100 candidates, totalling 500 fits\n",
      "Fitting 5 folds for each of 100 candidates, totalling 500 fits\n",
      "Fitting 5 folds for each of 100 candidates, totalling 500 fits\n"
     ]
    },
    {
     "name": "stderr",
     "output_type": "stream",
     "text": [
      "/home/ubuntu/anaconda3/lib/python3.8/site-packages/scipy/stats/stats.py:4264: SpearmanRConstantInputWarning: An input array is constant; the correlation coefficent is not defined.\n",
      "  warnings.warn(SpearmanRConstantInputWarning())\n"
     ]
    },
    {
     "name": "stdout",
     "output_type": "stream",
     "text": [
      "Fitting 5 folds for each of 100 candidates, totalling 500 fits\n",
      "mean R^2 performance on test data: 0.05407991003470625\n",
      "Permutation 20\n",
      "Fitting 5 folds for each of 100 candidates, totalling 500 fits\n",
      "Fitting 5 folds for each of 100 candidates, totalling 500 fits\n",
      "Fitting 5 folds for each of 100 candidates, totalling 500 fits\n"
     ]
    },
    {
     "name": "stderr",
     "output_type": "stream",
     "text": [
      "/home/ubuntu/anaconda3/lib/python3.8/site-packages/scipy/stats/stats.py:4264: SpearmanRConstantInputWarning: An input array is constant; the correlation coefficent is not defined.\n",
      "  warnings.warn(SpearmanRConstantInputWarning())\n"
     ]
    },
    {
     "name": "stdout",
     "output_type": "stream",
     "text": [
      "Fitting 5 folds for each of 100 candidates, totalling 500 fits\n",
      "Fitting 5 folds for each of 100 candidates, totalling 500 fits\n",
      "mean R^2 performance on test data: 0.1322666093050238\n",
      "Permutation 21\n",
      "Fitting 5 folds for each of 100 candidates, totalling 500 fits\n",
      "Fitting 5 folds for each of 100 candidates, totalling 500 fits\n",
      "Fitting 5 folds for each of 100 candidates, totalling 500 fits\n",
      "Fitting 5 folds for each of 100 candidates, totalling 500 fits\n",
      "Fitting 5 folds for each of 100 candidates, totalling 500 fits\n",
      "mean R^2 performance on test data: -0.013585793506877808\n",
      "Permutation 22\n",
      "Fitting 5 folds for each of 100 candidates, totalling 500 fits\n",
      "Fitting 5 folds for each of 100 candidates, totalling 500 fits\n",
      "Fitting 5 folds for each of 100 candidates, totalling 500 fits\n",
      "Fitting 5 folds for each of 100 candidates, totalling 500 fits\n",
      "Fitting 5 folds for each of 100 candidates, totalling 500 fits\n",
      "mean R^2 performance on test data: 0.07522711467389354\n",
      "Permutation 23\n",
      "Fitting 5 folds for each of 100 candidates, totalling 500 fits\n",
      "Fitting 5 folds for each of 100 candidates, totalling 500 fits\n",
      "Fitting 5 folds for each of 100 candidates, totalling 500 fits\n",
      "Fitting 5 folds for each of 100 candidates, totalling 500 fits\n",
      "Fitting 5 folds for each of 100 candidates, totalling 500 fits\n",
      "mean R^2 performance on test data: 0.021275990300170244\n",
      "Permutation 24\n",
      "Fitting 5 folds for each of 100 candidates, totalling 500 fits\n",
      "Fitting 5 folds for each of 100 candidates, totalling 500 fits\n",
      "Fitting 5 folds for each of 100 candidates, totalling 500 fits\n",
      "Fitting 5 folds for each of 100 candidates, totalling 500 fits\n",
      "Fitting 5 folds for each of 100 candidates, totalling 500 fits\n",
      "mean R^2 performance on test data: 0.08262197417833812\n",
      "Permutation 25\n",
      "Fitting 5 folds for each of 100 candidates, totalling 500 fits\n"
     ]
    },
    {
     "name": "stderr",
     "output_type": "stream",
     "text": [
      "/home/ubuntu/anaconda3/lib/python3.8/site-packages/scipy/stats/stats.py:4264: SpearmanRConstantInputWarning: An input array is constant; the correlation coefficent is not defined.\n",
      "  warnings.warn(SpearmanRConstantInputWarning())\n"
     ]
    },
    {
     "name": "stdout",
     "output_type": "stream",
     "text": [
      "Fitting 5 folds for each of 100 candidates, totalling 500 fits\n",
      "Fitting 5 folds for each of 100 candidates, totalling 500 fits\n",
      "Fitting 5 folds for each of 100 candidates, totalling 500 fits\n",
      "Fitting 5 folds for each of 100 candidates, totalling 500 fits\n",
      "mean R^2 performance on test data: 0.19995284165577049\n",
      "Permutation 26\n",
      "Fitting 5 folds for each of 100 candidates, totalling 500 fits\n",
      "Fitting 5 folds for each of 100 candidates, totalling 500 fits\n",
      "Fitting 5 folds for each of 100 candidates, totalling 500 fits\n",
      "Fitting 5 folds for each of 100 candidates, totalling 500 fits\n",
      "Fitting 5 folds for each of 100 candidates, totalling 500 fits\n",
      "mean R^2 performance on test data: 0.1098633275359305\n",
      "Permutation 27\n",
      "Fitting 5 folds for each of 100 candidates, totalling 500 fits\n"
     ]
    },
    {
     "name": "stderr",
     "output_type": "stream",
     "text": [
      "/home/ubuntu/anaconda3/lib/python3.8/site-packages/scipy/stats/stats.py:4264: SpearmanRConstantInputWarning: An input array is constant; the correlation coefficent is not defined.\n",
      "  warnings.warn(SpearmanRConstantInputWarning())\n"
     ]
    },
    {
     "name": "stdout",
     "output_type": "stream",
     "text": [
      "Fitting 5 folds for each of 100 candidates, totalling 500 fits\n",
      "Fitting 5 folds for each of 100 candidates, totalling 500 fits\n",
      "Fitting 5 folds for each of 100 candidates, totalling 500 fits\n"
     ]
    },
    {
     "name": "stderr",
     "output_type": "stream",
     "text": [
      "/home/ubuntu/anaconda3/lib/python3.8/site-packages/scipy/stats/stats.py:4264: SpearmanRConstantInputWarning: An input array is constant; the correlation coefficent is not defined.\n",
      "  warnings.warn(SpearmanRConstantInputWarning())\n"
     ]
    },
    {
     "name": "stdout",
     "output_type": "stream",
     "text": [
      "Fitting 5 folds for each of 100 candidates, totalling 500 fits\n",
      "mean R^2 performance on test data: 0.08065583732616377\n",
      "Permutation 28\n",
      "Fitting 5 folds for each of 100 candidates, totalling 500 fits\n",
      "Fitting 5 folds for each of 100 candidates, totalling 500 fits\n",
      "Fitting 5 folds for each of 100 candidates, totalling 500 fits\n",
      "Fitting 5 folds for each of 100 candidates, totalling 500 fits\n",
      "Fitting 5 folds for each of 100 candidates, totalling 500 fits\n",
      "mean R^2 performance on test data: 0.06524979210992354\n",
      "Permutation 29\n",
      "Fitting 5 folds for each of 100 candidates, totalling 500 fits\n",
      "Fitting 5 folds for each of 100 candidates, totalling 500 fits\n",
      "Fitting 5 folds for each of 100 candidates, totalling 500 fits\n",
      "Fitting 5 folds for each of 100 candidates, totalling 500 fits\n",
      "Fitting 5 folds for each of 100 candidates, totalling 500 fits\n",
      "mean R^2 performance on test data: 0.09352930482780308\n",
      "Permutation 30\n"
     ]
    },
    {
     "name": "stderr",
     "output_type": "stream",
     "text": [
      "/home/ubuntu/anaconda3/lib/python3.8/site-packages/scipy/stats/stats.py:4264: SpearmanRConstantInputWarning: An input array is constant; the correlation coefficent is not defined.\n",
      "  warnings.warn(SpearmanRConstantInputWarning())\n"
     ]
    },
    {
     "name": "stdout",
     "output_type": "stream",
     "text": [
      "Fitting 5 folds for each of 100 candidates, totalling 500 fits\n",
      "Fitting 5 folds for each of 100 candidates, totalling 500 fits\n",
      "Fitting 5 folds for each of 100 candidates, totalling 500 fits\n",
      "Fitting 5 folds for each of 100 candidates, totalling 500 fits\n",
      "Fitting 5 folds for each of 100 candidates, totalling 500 fits\n",
      "mean R^2 performance on test data: 0.0028600977251091566\n",
      "Permutation 31\n",
      "Fitting 5 folds for each of 100 candidates, totalling 500 fits\n"
     ]
    },
    {
     "name": "stderr",
     "output_type": "stream",
     "text": [
      "/home/ubuntu/anaconda3/lib/python3.8/site-packages/scipy/stats/stats.py:4264: SpearmanRConstantInputWarning: An input array is constant; the correlation coefficent is not defined.\n",
      "  warnings.warn(SpearmanRConstantInputWarning())\n"
     ]
    },
    {
     "name": "stdout",
     "output_type": "stream",
     "text": [
      "Fitting 5 folds for each of 100 candidates, totalling 500 fits\n",
      "Fitting 5 folds for each of 100 candidates, totalling 500 fits\n",
      "Fitting 5 folds for each of 100 candidates, totalling 500 fits\n",
      "Fitting 5 folds for each of 100 candidates, totalling 500 fits\n",
      "mean R^2 performance on test data: 0.10936319409183837\n",
      "Permutation 32\n",
      "Fitting 5 folds for each of 100 candidates, totalling 500 fits\n",
      "Fitting 5 folds for each of 100 candidates, totalling 500 fits\n",
      "Fitting 5 folds for each of 100 candidates, totalling 500 fits\n"
     ]
    },
    {
     "name": "stderr",
     "output_type": "stream",
     "text": [
      "/home/ubuntu/anaconda3/lib/python3.8/site-packages/scipy/stats/stats.py:4264: SpearmanRConstantInputWarning: An input array is constant; the correlation coefficent is not defined.\n",
      "  warnings.warn(SpearmanRConstantInputWarning())\n"
     ]
    },
    {
     "name": "stdout",
     "output_type": "stream",
     "text": [
      "Fitting 5 folds for each of 100 candidates, totalling 500 fits\n",
      "Fitting 5 folds for each of 100 candidates, totalling 500 fits\n",
      "mean R^2 performance on test data: 0.013682372549946753\n",
      "Permutation 33\n"
     ]
    },
    {
     "name": "stderr",
     "output_type": "stream",
     "text": [
      "/home/ubuntu/anaconda3/lib/python3.8/site-packages/scipy/stats/stats.py:4264: SpearmanRConstantInputWarning: An input array is constant; the correlation coefficent is not defined.\n",
      "  warnings.warn(SpearmanRConstantInputWarning())\n"
     ]
    },
    {
     "name": "stdout",
     "output_type": "stream",
     "text": [
      "Fitting 5 folds for each of 100 candidates, totalling 500 fits\n",
      "Fitting 5 folds for each of 100 candidates, totalling 500 fits\n",
      "Fitting 5 folds for each of 100 candidates, totalling 500 fits\n",
      "Fitting 5 folds for each of 100 candidates, totalling 500 fits\n"
     ]
    },
    {
     "name": "stderr",
     "output_type": "stream",
     "text": [
      "/home/ubuntu/anaconda3/lib/python3.8/site-packages/scipy/stats/stats.py:4264: SpearmanRConstantInputWarning: An input array is constant; the correlation coefficent is not defined.\n",
      "  warnings.warn(SpearmanRConstantInputWarning())\n"
     ]
    },
    {
     "name": "stdout",
     "output_type": "stream",
     "text": [
      "Fitting 5 folds for each of 100 candidates, totalling 500 fits\n",
      "mean R^2 performance on test data: -0.20802794058904245\n",
      "Permutation 34\n",
      "Fitting 5 folds for each of 100 candidates, totalling 500 fits\n",
      "Fitting 5 folds for each of 100 candidates, totalling 500 fits\n",
      "Fitting 5 folds for each of 100 candidates, totalling 500 fits\n",
      "Fitting 5 folds for each of 100 candidates, totalling 500 fits\n",
      "Fitting 5 folds for each of 100 candidates, totalling 500 fits\n",
      "mean R^2 performance on test data: -0.08641230849216783\n",
      "Permutation 35\n",
      "Fitting 5 folds for each of 100 candidates, totalling 500 fits\n",
      "Fitting 5 folds for each of 100 candidates, totalling 500 fits\n",
      "Fitting 5 folds for each of 100 candidates, totalling 500 fits\n",
      "Fitting 5 folds for each of 100 candidates, totalling 500 fits\n",
      "Fitting 5 folds for each of 100 candidates, totalling 500 fits\n",
      "mean R^2 performance on test data: -0.22904705606761908\n",
      "Permutation 36\n",
      "Fitting 5 folds for each of 100 candidates, totalling 500 fits\n",
      "Fitting 5 folds for each of 100 candidates, totalling 500 fits\n"
     ]
    },
    {
     "name": "stderr",
     "output_type": "stream",
     "text": [
      "/home/ubuntu/anaconda3/lib/python3.8/site-packages/scipy/stats/stats.py:4264: SpearmanRConstantInputWarning: An input array is constant; the correlation coefficent is not defined.\n",
      "  warnings.warn(SpearmanRConstantInputWarning())\n"
     ]
    },
    {
     "name": "stdout",
     "output_type": "stream",
     "text": [
      "Fitting 5 folds for each of 100 candidates, totalling 500 fits\n",
      "Fitting 5 folds for each of 100 candidates, totalling 500 fits\n",
      "Fitting 5 folds for each of 100 candidates, totalling 500 fits\n",
      "mean R^2 performance on test data: 0.05286197773670218\n",
      "Permutation 37\n",
      "Fitting 5 folds for each of 100 candidates, totalling 500 fits\n",
      "Fitting 5 folds for each of 100 candidates, totalling 500 fits\n",
      "Fitting 5 folds for each of 100 candidates, totalling 500 fits\n",
      "Fitting 5 folds for each of 100 candidates, totalling 500 fits\n",
      "Fitting 5 folds for each of 100 candidates, totalling 500 fits\n",
      "mean R^2 performance on test data: -0.12417379737063142\n",
      "Permutation 38\n",
      "Fitting 5 folds for each of 100 candidates, totalling 500 fits\n",
      "Fitting 5 folds for each of 100 candidates, totalling 500 fits\n",
      "Fitting 5 folds for each of 100 candidates, totalling 500 fits\n",
      "Fitting 5 folds for each of 100 candidates, totalling 500 fits\n",
      "Fitting 5 folds for each of 100 candidates, totalling 500 fits\n",
      "mean R^2 performance on test data: -0.05368670787432763\n",
      "Permutation 39\n",
      "Fitting 5 folds for each of 100 candidates, totalling 500 fits\n",
      "Fitting 5 folds for each of 100 candidates, totalling 500 fits\n",
      "Fitting 5 folds for each of 100 candidates, totalling 500 fits\n"
     ]
    },
    {
     "name": "stderr",
     "output_type": "stream",
     "text": [
      "/home/ubuntu/anaconda3/lib/python3.8/site-packages/scipy/stats/stats.py:4264: SpearmanRConstantInputWarning: An input array is constant; the correlation coefficent is not defined.\n",
      "  warnings.warn(SpearmanRConstantInputWarning())\n"
     ]
    },
    {
     "name": "stdout",
     "output_type": "stream",
     "text": [
      "Fitting 5 folds for each of 100 candidates, totalling 500 fits\n",
      "Fitting 5 folds for each of 100 candidates, totalling 500 fits\n",
      "mean R^2 performance on test data: -0.06657540346876692\n",
      "Permutation 40\n",
      "Fitting 5 folds for each of 100 candidates, totalling 500 fits\n",
      "Fitting 5 folds for each of 100 candidates, totalling 500 fits\n",
      "Fitting 5 folds for each of 100 candidates, totalling 500 fits\n",
      "Fitting 5 folds for each of 100 candidates, totalling 500 fits\n",
      "Fitting 5 folds for each of 100 candidates, totalling 500 fits\n",
      "mean R^2 performance on test data: -0.06605821440633945\n",
      "Permutation 41\n",
      "Fitting 5 folds for each of 100 candidates, totalling 500 fits\n",
      "Fitting 5 folds for each of 100 candidates, totalling 500 fits\n",
      "Fitting 5 folds for each of 100 candidates, totalling 500 fits\n",
      "Fitting 5 folds for each of 100 candidates, totalling 500 fits\n",
      "Fitting 5 folds for each of 100 candidates, totalling 500 fits\n",
      "mean R^2 performance on test data: 0.13357090565809276\n",
      "Permutation 42\n",
      "Fitting 5 folds for each of 100 candidates, totalling 500 fits\n",
      "Fitting 5 folds for each of 100 candidates, totalling 500 fits\n",
      "Fitting 5 folds for each of 100 candidates, totalling 500 fits\n",
      "Fitting 5 folds for each of 100 candidates, totalling 500 fits\n",
      "Fitting 5 folds for each of 100 candidates, totalling 500 fits\n",
      "mean R^2 performance on test data: 0.06266222307800262\n",
      "Permutation 43\n",
      "Fitting 5 folds for each of 100 candidates, totalling 500 fits\n",
      "Fitting 5 folds for each of 100 candidates, totalling 500 fits\n",
      "Fitting 5 folds for each of 100 candidates, totalling 500 fits\n",
      "Fitting 5 folds for each of 100 candidates, totalling 500 fits\n",
      "Fitting 5 folds for each of 100 candidates, totalling 500 fits\n",
      "mean R^2 performance on test data: 0.2310752132546698\n",
      "Permutation 44\n",
      "Fitting 5 folds for each of 100 candidates, totalling 500 fits\n",
      "Fitting 5 folds for each of 100 candidates, totalling 500 fits\n",
      "Fitting 5 folds for each of 100 candidates, totalling 500 fits\n",
      "Fitting 5 folds for each of 100 candidates, totalling 500 fits\n",
      "Fitting 5 folds for each of 100 candidates, totalling 500 fits\n",
      "mean R^2 performance on test data: 0.15688276947669055\n",
      "Permutation 45\n",
      "Fitting 5 folds for each of 100 candidates, totalling 500 fits\n",
      "Fitting 5 folds for each of 100 candidates, totalling 500 fits\n",
      "Fitting 5 folds for each of 100 candidates, totalling 500 fits\n",
      "Fitting 5 folds for each of 100 candidates, totalling 500 fits\n",
      "Fitting 5 folds for each of 100 candidates, totalling 500 fits\n",
      "mean R^2 performance on test data: -0.06939491611227466\n",
      "Permutation 46\n",
      "Fitting 5 folds for each of 100 candidates, totalling 500 fits\n",
      "Fitting 5 folds for each of 100 candidates, totalling 500 fits\n"
     ]
    },
    {
     "name": "stderr",
     "output_type": "stream",
     "text": [
      "/home/ubuntu/anaconda3/lib/python3.8/site-packages/scipy/stats/stats.py:4264: SpearmanRConstantInputWarning: An input array is constant; the correlation coefficent is not defined.\n",
      "  warnings.warn(SpearmanRConstantInputWarning())\n"
     ]
    },
    {
     "name": "stdout",
     "output_type": "stream",
     "text": [
      "Fitting 5 folds for each of 100 candidates, totalling 500 fits\n",
      "Fitting 5 folds for each of 100 candidates, totalling 500 fits\n",
      "Fitting 5 folds for each of 100 candidates, totalling 500 fits\n",
      "mean R^2 performance on test data: 0.14059808082231312\n",
      "Permutation 47\n",
      "Fitting 5 folds for each of 100 candidates, totalling 500 fits\n",
      "Fitting 5 folds for each of 100 candidates, totalling 500 fits\n",
      "Fitting 5 folds for each of 100 candidates, totalling 500 fits\n",
      "Fitting 5 folds for each of 100 candidates, totalling 500 fits\n",
      "Fitting 5 folds for each of 100 candidates, totalling 500 fits\n",
      "mean R^2 performance on test data: 0.045981028155827476\n",
      "Permutation 48\n",
      "Fitting 5 folds for each of 100 candidates, totalling 500 fits\n",
      "Fitting 5 folds for each of 100 candidates, totalling 500 fits\n",
      "Fitting 5 folds for each of 100 candidates, totalling 500 fits\n",
      "Fitting 5 folds for each of 100 candidates, totalling 500 fits\n",
      "Fitting 5 folds for each of 100 candidates, totalling 500 fits\n",
      "mean R^2 performance on test data: 0.06158472070369392\n",
      "Permutation 49\n",
      "Fitting 5 folds for each of 100 candidates, totalling 500 fits\n",
      "Fitting 5 folds for each of 100 candidates, totalling 500 fits\n",
      "Fitting 5 folds for each of 100 candidates, totalling 500 fits\n",
      "Fitting 5 folds for each of 100 candidates, totalling 500 fits\n",
      "Fitting 5 folds for each of 100 candidates, totalling 500 fits\n",
      "mean R^2 performance on test data: 0.02119449378764149\n",
      "Permutation 50\n",
      "Fitting 5 folds for each of 100 candidates, totalling 500 fits\n",
      "Fitting 5 folds for each of 100 candidates, totalling 500 fits\n",
      "Fitting 5 folds for each of 100 candidates, totalling 500 fits\n",
      "Fitting 5 folds for each of 100 candidates, totalling 500 fits\n",
      "Fitting 5 folds for each of 100 candidates, totalling 500 fits\n",
      "mean R^2 performance on test data: -0.008096125760893825\n",
      "Permutation 51\n",
      "Fitting 5 folds for each of 100 candidates, totalling 500 fits\n",
      "Fitting 5 folds for each of 100 candidates, totalling 500 fits\n",
      "Fitting 5 folds for each of 100 candidates, totalling 500 fits\n",
      "Fitting 5 folds for each of 100 candidates, totalling 500 fits\n",
      "Fitting 5 folds for each of 100 candidates, totalling 500 fits\n",
      "mean R^2 performance on test data: 0.12023162099795004\n",
      "Permutation 52\n",
      "Fitting 5 folds for each of 100 candidates, totalling 500 fits\n",
      "Fitting 5 folds for each of 100 candidates, totalling 500 fits\n",
      "Fitting 5 folds for each of 100 candidates, totalling 500 fits\n",
      "Fitting 5 folds for each of 100 candidates, totalling 500 fits\n",
      "Fitting 5 folds for each of 100 candidates, totalling 500 fits\n",
      "mean R^2 performance on test data: 0.030981526027346894\n",
      "Permutation 53\n",
      "Fitting 5 folds for each of 100 candidates, totalling 500 fits\n"
     ]
    },
    {
     "name": "stderr",
     "output_type": "stream",
     "text": [
      "/home/ubuntu/anaconda3/lib/python3.8/site-packages/scipy/stats/stats.py:4264: SpearmanRConstantInputWarning: An input array is constant; the correlation coefficent is not defined.\n",
      "  warnings.warn(SpearmanRConstantInputWarning())\n"
     ]
    },
    {
     "name": "stdout",
     "output_type": "stream",
     "text": [
      "Fitting 5 folds for each of 100 candidates, totalling 500 fits\n",
      "Fitting 5 folds for each of 100 candidates, totalling 500 fits\n",
      "Fitting 5 folds for each of 100 candidates, totalling 500 fits\n",
      "Fitting 5 folds for each of 100 candidates, totalling 500 fits\n",
      "mean R^2 performance on test data: 0.06222667354916549\n",
      "Permutation 54\n",
      "Fitting 5 folds for each of 100 candidates, totalling 500 fits\n",
      "Fitting 5 folds for each of 100 candidates, totalling 500 fits\n"
     ]
    },
    {
     "name": "stderr",
     "output_type": "stream",
     "text": [
      "/home/ubuntu/anaconda3/lib/python3.8/site-packages/scipy/stats/stats.py:4264: SpearmanRConstantInputWarning: An input array is constant; the correlation coefficent is not defined.\n",
      "  warnings.warn(SpearmanRConstantInputWarning())\n"
     ]
    },
    {
     "name": "stdout",
     "output_type": "stream",
     "text": [
      "Fitting 5 folds for each of 100 candidates, totalling 500 fits\n"
     ]
    },
    {
     "name": "stderr",
     "output_type": "stream",
     "text": [
      "/home/ubuntu/anaconda3/lib/python3.8/site-packages/scipy/stats/stats.py:4264: SpearmanRConstantInputWarning: An input array is constant; the correlation coefficent is not defined.\n",
      "  warnings.warn(SpearmanRConstantInputWarning())\n"
     ]
    },
    {
     "name": "stdout",
     "output_type": "stream",
     "text": [
      "Fitting 5 folds for each of 100 candidates, totalling 500 fits\n",
      "Fitting 5 folds for each of 100 candidates, totalling 500 fits\n",
      "mean R^2 performance on test data: 0.10589146641345104\n",
      "Permutation 55\n",
      "Fitting 5 folds for each of 100 candidates, totalling 500 fits\n",
      "Fitting 5 folds for each of 100 candidates, totalling 500 fits\n",
      "Fitting 5 folds for each of 100 candidates, totalling 500 fits\n",
      "Fitting 5 folds for each of 100 candidates, totalling 500 fits\n",
      "Fitting 5 folds for each of 100 candidates, totalling 500 fits\n",
      "mean R^2 performance on test data: 0.11180812340634436\n",
      "Permutation 56\n",
      "Fitting 5 folds for each of 100 candidates, totalling 500 fits\n",
      "Fitting 5 folds for each of 100 candidates, totalling 500 fits\n",
      "Fitting 5 folds for each of 100 candidates, totalling 500 fits\n",
      "Fitting 5 folds for each of 100 candidates, totalling 500 fits\n"
     ]
    },
    {
     "name": "stderr",
     "output_type": "stream",
     "text": [
      "/home/ubuntu/anaconda3/lib/python3.8/site-packages/scipy/stats/stats.py:4264: SpearmanRConstantInputWarning: An input array is constant; the correlation coefficent is not defined.\n",
      "  warnings.warn(SpearmanRConstantInputWarning())\n"
     ]
    },
    {
     "name": "stdout",
     "output_type": "stream",
     "text": [
      "Fitting 5 folds for each of 100 candidates, totalling 500 fits\n",
      "mean R^2 performance on test data: 0.04189351411884288\n",
      "Permutation 57\n",
      "Fitting 5 folds for each of 100 candidates, totalling 500 fits\n",
      "Fitting 5 folds for each of 100 candidates, totalling 500 fits\n",
      "Fitting 5 folds for each of 100 candidates, totalling 500 fits\n",
      "Fitting 5 folds for each of 100 candidates, totalling 500 fits\n",
      "Fitting 5 folds for each of 100 candidates, totalling 500 fits\n",
      "mean R^2 performance on test data: 0.05751685287556134\n",
      "Permutation 58\n",
      "Fitting 5 folds for each of 100 candidates, totalling 500 fits\n",
      "Fitting 5 folds for each of 100 candidates, totalling 500 fits\n",
      "Fitting 5 folds for each of 100 candidates, totalling 500 fits\n",
      "Fitting 5 folds for each of 100 candidates, totalling 500 fits\n",
      "Fitting 5 folds for each of 100 candidates, totalling 500 fits\n",
      "mean R^2 performance on test data: -0.13144164562405938\n",
      "Permutation 59\n"
     ]
    },
    {
     "name": "stderr",
     "output_type": "stream",
     "text": [
      "/home/ubuntu/anaconda3/lib/python3.8/site-packages/scipy/stats/stats.py:4264: SpearmanRConstantInputWarning: An input array is constant; the correlation coefficent is not defined.\n",
      "  warnings.warn(SpearmanRConstantInputWarning())\n"
     ]
    },
    {
     "name": "stdout",
     "output_type": "stream",
     "text": [
      "Fitting 5 folds for each of 100 candidates, totalling 500 fits\n",
      "Fitting 5 folds for each of 100 candidates, totalling 500 fits\n",
      "Fitting 5 folds for each of 100 candidates, totalling 500 fits\n",
      "Fitting 5 folds for each of 100 candidates, totalling 500 fits\n",
      "Fitting 5 folds for each of 100 candidates, totalling 500 fits\n",
      "mean R^2 performance on test data: 0.1356781465409747\n",
      "Permutation 60\n",
      "Fitting 5 folds for each of 100 candidates, totalling 500 fits\n",
      "Fitting 5 folds for each of 100 candidates, totalling 500 fits\n"
     ]
    },
    {
     "name": "stderr",
     "output_type": "stream",
     "text": [
      "/home/ubuntu/anaconda3/lib/python3.8/site-packages/scipy/stats/stats.py:4264: SpearmanRConstantInputWarning: An input array is constant; the correlation coefficent is not defined.\n",
      "  warnings.warn(SpearmanRConstantInputWarning())\n"
     ]
    },
    {
     "name": "stdout",
     "output_type": "stream",
     "text": [
      "Fitting 5 folds for each of 100 candidates, totalling 500 fits\n",
      "Fitting 5 folds for each of 100 candidates, totalling 500 fits\n",
      "Fitting 5 folds for each of 100 candidates, totalling 500 fits\n",
      "mean R^2 performance on test data: 0.21380144625890143\n",
      "Permutation 61\n",
      "Fitting 5 folds for each of 100 candidates, totalling 500 fits\n",
      "Fitting 5 folds for each of 100 candidates, totalling 500 fits\n",
      "Fitting 5 folds for each of 100 candidates, totalling 500 fits\n",
      "Fitting 5 folds for each of 100 candidates, totalling 500 fits\n",
      "Fitting 5 folds for each of 100 candidates, totalling 500 fits\n",
      "mean R^2 performance on test data: 0.07594829796964105\n",
      "Permutation 62\n",
      "Fitting 5 folds for each of 100 candidates, totalling 500 fits\n",
      "Fitting 5 folds for each of 100 candidates, totalling 500 fits\n",
      "Fitting 5 folds for each of 100 candidates, totalling 500 fits\n",
      "Fitting 5 folds for each of 100 candidates, totalling 500 fits\n",
      "Fitting 5 folds for each of 100 candidates, totalling 500 fits\n",
      "mean R^2 performance on test data: -0.17812632357075264\n",
      "Permutation 63\n",
      "Fitting 5 folds for each of 100 candidates, totalling 500 fits\n",
      "Fitting 5 folds for each of 100 candidates, totalling 500 fits\n",
      "Fitting 5 folds for each of 100 candidates, totalling 500 fits\n",
      "Fitting 5 folds for each of 100 candidates, totalling 500 fits\n",
      "Fitting 5 folds for each of 100 candidates, totalling 500 fits\n",
      "mean R^2 performance on test data: 0.1344832485210857\n",
      "Permutation 64\n",
      "Fitting 5 folds for each of 100 candidates, totalling 500 fits\n",
      "Fitting 5 folds for each of 100 candidates, totalling 500 fits\n",
      "Fitting 5 folds for each of 100 candidates, totalling 500 fits\n"
     ]
    },
    {
     "name": "stderr",
     "output_type": "stream",
     "text": [
      "/home/ubuntu/anaconda3/lib/python3.8/site-packages/scipy/stats/stats.py:4264: SpearmanRConstantInputWarning: An input array is constant; the correlation coefficent is not defined.\n",
      "  warnings.warn(SpearmanRConstantInputWarning())\n"
     ]
    },
    {
     "name": "stdout",
     "output_type": "stream",
     "text": [
      "Fitting 5 folds for each of 100 candidates, totalling 500 fits\n",
      "Fitting 5 folds for each of 100 candidates, totalling 500 fits\n",
      "mean R^2 performance on test data: 0.1640261282602525\n",
      "Permutation 65\n",
      "Fitting 5 folds for each of 100 candidates, totalling 500 fits\n",
      "Fitting 5 folds for each of 100 candidates, totalling 500 fits\n",
      "Fitting 5 folds for each of 100 candidates, totalling 500 fits\n",
      "Fitting 5 folds for each of 100 candidates, totalling 500 fits\n",
      "Fitting 5 folds for each of 100 candidates, totalling 500 fits\n",
      "mean R^2 performance on test data: 0.2285453262884582\n",
      "Permutation 66\n",
      "Fitting 5 folds for each of 100 candidates, totalling 500 fits\n",
      "Fitting 5 folds for each of 100 candidates, totalling 500 fits\n",
      "Fitting 5 folds for each of 100 candidates, totalling 500 fits\n",
      "Fitting 5 folds for each of 100 candidates, totalling 500 fits\n",
      "Fitting 5 folds for each of 100 candidates, totalling 500 fits\n",
      "mean R^2 performance on test data: -0.010488578489293165\n",
      "Permutation 67\n",
      "Fitting 5 folds for each of 100 candidates, totalling 500 fits\n"
     ]
    },
    {
     "name": "stderr",
     "output_type": "stream",
     "text": [
      "/home/ubuntu/anaconda3/lib/python3.8/site-packages/scipy/stats/stats.py:4264: SpearmanRConstantInputWarning: An input array is constant; the correlation coefficent is not defined.\n",
      "  warnings.warn(SpearmanRConstantInputWarning())\n"
     ]
    },
    {
     "name": "stdout",
     "output_type": "stream",
     "text": [
      "Fitting 5 folds for each of 100 candidates, totalling 500 fits\n",
      "Fitting 5 folds for each of 100 candidates, totalling 500 fits\n",
      "Fitting 5 folds for each of 100 candidates, totalling 500 fits\n",
      "Fitting 5 folds for each of 100 candidates, totalling 500 fits\n",
      "mean R^2 performance on test data: 0.0009339946229704133\n",
      "Permutation 68\n",
      "Fitting 5 folds for each of 100 candidates, totalling 500 fits\n",
      "Fitting 5 folds for each of 100 candidates, totalling 500 fits\n",
      "Fitting 5 folds for each of 100 candidates, totalling 500 fits\n",
      "Fitting 5 folds for each of 100 candidates, totalling 500 fits\n",
      "Fitting 5 folds for each of 100 candidates, totalling 500 fits\n",
      "mean R^2 performance on test data: 0.10059860069498934\n",
      "Permutation 69\n",
      "Fitting 5 folds for each of 100 candidates, totalling 500 fits\n",
      "Fitting 5 folds for each of 100 candidates, totalling 500 fits\n",
      "Fitting 5 folds for each of 100 candidates, totalling 500 fits\n",
      "Fitting 5 folds for each of 100 candidates, totalling 500 fits\n",
      "Fitting 5 folds for each of 100 candidates, totalling 500 fits\n",
      "mean R^2 performance on test data: 0.0685076526470751\n",
      "Permutation 70\n",
      "Fitting 5 folds for each of 100 candidates, totalling 500 fits\n",
      "Fitting 5 folds for each of 100 candidates, totalling 500 fits\n",
      "Fitting 5 folds for each of 100 candidates, totalling 500 fits\n",
      "Fitting 5 folds for each of 100 candidates, totalling 500 fits\n",
      "Fitting 5 folds for each of 100 candidates, totalling 500 fits\n",
      "mean R^2 performance on test data: 0.11285819993007237\n",
      "Permutation 71\n",
      "Fitting 5 folds for each of 100 candidates, totalling 500 fits\n",
      "Fitting 5 folds for each of 100 candidates, totalling 500 fits\n",
      "Fitting 5 folds for each of 100 candidates, totalling 500 fits\n",
      "Fitting 5 folds for each of 100 candidates, totalling 500 fits\n",
      "Fitting 5 folds for each of 100 candidates, totalling 500 fits\n",
      "mean R^2 performance on test data: 0.03776192632465123\n",
      "Permutation 72\n",
      "Fitting 5 folds for each of 100 candidates, totalling 500 fits\n",
      "Fitting 5 folds for each of 100 candidates, totalling 500 fits\n",
      "Fitting 5 folds for each of 100 candidates, totalling 500 fits\n",
      "Fitting 5 folds for each of 100 candidates, totalling 500 fits\n",
      "Fitting 5 folds for each of 100 candidates, totalling 500 fits\n",
      "mean R^2 performance on test data: -0.10466841001290483\n",
      "Permutation 73\n",
      "Fitting 5 folds for each of 100 candidates, totalling 500 fits\n",
      "Fitting 5 folds for each of 100 candidates, totalling 500 fits\n",
      "Fitting 5 folds for each of 100 candidates, totalling 500 fits\n"
     ]
    },
    {
     "name": "stderr",
     "output_type": "stream",
     "text": [
      "/home/ubuntu/anaconda3/lib/python3.8/site-packages/scipy/stats/stats.py:4264: SpearmanRConstantInputWarning: An input array is constant; the correlation coefficent is not defined.\n",
      "  warnings.warn(SpearmanRConstantInputWarning())\n"
     ]
    },
    {
     "name": "stdout",
     "output_type": "stream",
     "text": [
      "Fitting 5 folds for each of 100 candidates, totalling 500 fits\n",
      "Fitting 5 folds for each of 100 candidates, totalling 500 fits\n",
      "mean R^2 performance on test data: 0.050456283189377116\n",
      "Permutation 74\n",
      "Fitting 5 folds for each of 100 candidates, totalling 500 fits\n",
      "Fitting 5 folds for each of 100 candidates, totalling 500 fits\n",
      "Fitting 5 folds for each of 100 candidates, totalling 500 fits\n",
      "Fitting 5 folds for each of 100 candidates, totalling 500 fits\n",
      "Fitting 5 folds for each of 100 candidates, totalling 500 fits\n",
      "mean R^2 performance on test data: 0.1092470853771027\n",
      "Permutation 75\n",
      "Fitting 5 folds for each of 100 candidates, totalling 500 fits\n",
      "Fitting 5 folds for each of 100 candidates, totalling 500 fits\n"
     ]
    },
    {
     "name": "stderr",
     "output_type": "stream",
     "text": [
      "/home/ubuntu/anaconda3/lib/python3.8/site-packages/scipy/stats/stats.py:4264: SpearmanRConstantInputWarning: An input array is constant; the correlation coefficent is not defined.\n",
      "  warnings.warn(SpearmanRConstantInputWarning())\n"
     ]
    },
    {
     "name": "stdout",
     "output_type": "stream",
     "text": [
      "Fitting 5 folds for each of 100 candidates, totalling 500 fits\n",
      "Fitting 5 folds for each of 100 candidates, totalling 500 fits\n",
      "Fitting 5 folds for each of 100 candidates, totalling 500 fits\n",
      "mean R^2 performance on test data: 0.054963752798677865\n",
      "Permutation 76\n",
      "Fitting 5 folds for each of 100 candidates, totalling 500 fits\n",
      "Fitting 5 folds for each of 100 candidates, totalling 500 fits\n",
      "Fitting 5 folds for each of 100 candidates, totalling 500 fits\n",
      "Fitting 5 folds for each of 100 candidates, totalling 500 fits\n",
      "Fitting 5 folds for each of 100 candidates, totalling 500 fits\n",
      "mean R^2 performance on test data: -0.30986835965746085\n",
      "Permutation 77\n",
      "Fitting 5 folds for each of 100 candidates, totalling 500 fits\n",
      "Fitting 5 folds for each of 100 candidates, totalling 500 fits\n",
      "Fitting 5 folds for each of 100 candidates, totalling 500 fits\n",
      "Fitting 5 folds for each of 100 candidates, totalling 500 fits\n",
      "Fitting 5 folds for each of 100 candidates, totalling 500 fits\n",
      "mean R^2 performance on test data: -0.25766076315150743\n",
      "Permutation 78\n",
      "Fitting 5 folds for each of 100 candidates, totalling 500 fits\n"
     ]
    },
    {
     "name": "stderr",
     "output_type": "stream",
     "text": [
      "/home/ubuntu/anaconda3/lib/python3.8/site-packages/scipy/stats/stats.py:4264: SpearmanRConstantInputWarning: An input array is constant; the correlation coefficent is not defined.\n",
      "  warnings.warn(SpearmanRConstantInputWarning())\n"
     ]
    },
    {
     "name": "stdout",
     "output_type": "stream",
     "text": [
      "Fitting 5 folds for each of 100 candidates, totalling 500 fits\n",
      "Fitting 5 folds for each of 100 candidates, totalling 500 fits\n",
      "Fitting 5 folds for each of 100 candidates, totalling 500 fits\n",
      "Fitting 5 folds for each of 100 candidates, totalling 500 fits\n",
      "mean R^2 performance on test data: 0.04068144308381701\n",
      "Permutation 79\n",
      "Fitting 5 folds for each of 100 candidates, totalling 500 fits\n",
      "Fitting 5 folds for each of 100 candidates, totalling 500 fits\n",
      "Fitting 5 folds for each of 100 candidates, totalling 500 fits\n",
      "Fitting 5 folds for each of 100 candidates, totalling 500 fits\n",
      "Fitting 5 folds for each of 100 candidates, totalling 500 fits\n",
      "mean R^2 performance on test data: 0.10051729731093337\n",
      "Permutation 80\n",
      "Fitting 5 folds for each of 100 candidates, totalling 500 fits\n",
      "Fitting 5 folds for each of 100 candidates, totalling 500 fits\n",
      "Fitting 5 folds for each of 100 candidates, totalling 500 fits\n",
      "Fitting 5 folds for each of 100 candidates, totalling 500 fits\n",
      "Fitting 5 folds for each of 100 candidates, totalling 500 fits\n",
      "mean R^2 performance on test data: -0.05564866960337942\n",
      "Permutation 81\n",
      "Fitting 5 folds for each of 100 candidates, totalling 500 fits\n",
      "Fitting 5 folds for each of 100 candidates, totalling 500 fits\n",
      "Fitting 5 folds for each of 100 candidates, totalling 500 fits\n"
     ]
    },
    {
     "name": "stderr",
     "output_type": "stream",
     "text": [
      "/home/ubuntu/anaconda3/lib/python3.8/site-packages/scipy/stats/stats.py:4264: SpearmanRConstantInputWarning: An input array is constant; the correlation coefficent is not defined.\n",
      "  warnings.warn(SpearmanRConstantInputWarning())\n"
     ]
    },
    {
     "name": "stdout",
     "output_type": "stream",
     "text": [
      "Fitting 5 folds for each of 100 candidates, totalling 500 fits\n",
      "Fitting 5 folds for each of 100 candidates, totalling 500 fits\n",
      "mean R^2 performance on test data: 0.13105599296144566\n",
      "Permutation 82\n",
      "Fitting 5 folds for each of 100 candidates, totalling 500 fits\n",
      "Fitting 5 folds for each of 100 candidates, totalling 500 fits\n",
      "Fitting 5 folds for each of 100 candidates, totalling 500 fits\n",
      "Fitting 5 folds for each of 100 candidates, totalling 500 fits\n",
      "Fitting 5 folds for each of 100 candidates, totalling 500 fits\n",
      "mean R^2 performance on test data: 0.06347569074202919\n",
      "Permutation 83\n",
      "Fitting 5 folds for each of 100 candidates, totalling 500 fits\n",
      "Fitting 5 folds for each of 100 candidates, totalling 500 fits\n",
      "Fitting 5 folds for each of 100 candidates, totalling 500 fits\n",
      "Fitting 5 folds for each of 100 candidates, totalling 500 fits\n",
      "Fitting 5 folds for each of 100 candidates, totalling 500 fits\n",
      "mean R^2 performance on test data: 0.1222032818520015\n",
      "Permutation 84\n",
      "Fitting 5 folds for each of 100 candidates, totalling 500 fits\n",
      "Fitting 5 folds for each of 100 candidates, totalling 500 fits\n",
      "Fitting 5 folds for each of 100 candidates, totalling 500 fits\n",
      "Fitting 5 folds for each of 100 candidates, totalling 500 fits\n",
      "Fitting 5 folds for each of 100 candidates, totalling 500 fits\n",
      "mean R^2 performance on test data: 0.0943088027347363\n",
      "Permutation 85\n",
      "Fitting 5 folds for each of 100 candidates, totalling 500 fits\n",
      "Fitting 5 folds for each of 100 candidates, totalling 500 fits\n",
      "Fitting 5 folds for each of 100 candidates, totalling 500 fits\n",
      "Fitting 5 folds for each of 100 candidates, totalling 500 fits\n",
      "Fitting 5 folds for each of 100 candidates, totalling 500 fits\n",
      "mean R^2 performance on test data: 0.09478931754084759\n",
      "Permutation 86\n",
      "Fitting 5 folds for each of 100 candidates, totalling 500 fits\n",
      "Fitting 5 folds for each of 100 candidates, totalling 500 fits\n",
      "Fitting 5 folds for each of 100 candidates, totalling 500 fits\n",
      "Fitting 5 folds for each of 100 candidates, totalling 500 fits\n",
      "Fitting 5 folds for each of 100 candidates, totalling 500 fits\n",
      "mean R^2 performance on test data: -0.17295338511132727\n",
      "Permutation 87\n",
      "Fitting 5 folds for each of 100 candidates, totalling 500 fits\n",
      "Fitting 5 folds for each of 100 candidates, totalling 500 fits\n"
     ]
    },
    {
     "name": "stderr",
     "output_type": "stream",
     "text": [
      "/home/ubuntu/anaconda3/lib/python3.8/site-packages/scipy/stats/stats.py:4264: SpearmanRConstantInputWarning: An input array is constant; the correlation coefficent is not defined.\n",
      "  warnings.warn(SpearmanRConstantInputWarning())\n"
     ]
    },
    {
     "name": "stdout",
     "output_type": "stream",
     "text": [
      "Fitting 5 folds for each of 100 candidates, totalling 500 fits\n",
      "Fitting 5 folds for each of 100 candidates, totalling 500 fits\n",
      "Fitting 5 folds for each of 100 candidates, totalling 500 fits\n",
      "mean R^2 performance on test data: 0.029888335803308342\n",
      "Permutation 88\n",
      "Fitting 5 folds for each of 100 candidates, totalling 500 fits\n"
     ]
    },
    {
     "name": "stderr",
     "output_type": "stream",
     "text": [
      "/home/ubuntu/anaconda3/lib/python3.8/site-packages/scipy/stats/stats.py:4264: SpearmanRConstantInputWarning: An input array is constant; the correlation coefficent is not defined.\n",
      "  warnings.warn(SpearmanRConstantInputWarning())\n"
     ]
    },
    {
     "name": "stdout",
     "output_type": "stream",
     "text": [
      "Fitting 5 folds for each of 100 candidates, totalling 500 fits\n",
      "Fitting 5 folds for each of 100 candidates, totalling 500 fits\n",
      "Fitting 5 folds for each of 100 candidates, totalling 500 fits\n",
      "Fitting 5 folds for each of 100 candidates, totalling 500 fits\n",
      "mean R^2 performance on test data: 0.0689802288530926\n",
      "Permutation 89\n",
      "Fitting 5 folds for each of 100 candidates, totalling 500 fits\n",
      "Fitting 5 folds for each of 100 candidates, totalling 500 fits\n",
      "Fitting 5 folds for each of 100 candidates, totalling 500 fits\n",
      "Fitting 5 folds for each of 100 candidates, totalling 500 fits\n",
      "Fitting 5 folds for each of 100 candidates, totalling 500 fits\n",
      "mean R^2 performance on test data: 0.1293262849851071\n",
      "Permutation 90\n",
      "Fitting 5 folds for each of 100 candidates, totalling 500 fits\n",
      "Fitting 5 folds for each of 100 candidates, totalling 500 fits\n"
     ]
    },
    {
     "name": "stderr",
     "output_type": "stream",
     "text": [
      "/home/ubuntu/anaconda3/lib/python3.8/site-packages/scipy/stats/stats.py:4264: SpearmanRConstantInputWarning: An input array is constant; the correlation coefficent is not defined.\n",
      "  warnings.warn(SpearmanRConstantInputWarning())\n"
     ]
    },
    {
     "name": "stdout",
     "output_type": "stream",
     "text": [
      "Fitting 5 folds for each of 100 candidates, totalling 500 fits\n",
      "Fitting 5 folds for each of 100 candidates, totalling 500 fits\n",
      "Fitting 5 folds for each of 100 candidates, totalling 500 fits\n",
      "mean R^2 performance on test data: 0.20283498143559217\n",
      "Permutation 91\n",
      "Fitting 5 folds for each of 100 candidates, totalling 500 fits\n",
      "Fitting 5 folds for each of 100 candidates, totalling 500 fits\n",
      "Fitting 5 folds for each of 100 candidates, totalling 500 fits\n",
      "Fitting 5 folds for each of 100 candidates, totalling 500 fits\n",
      "Fitting 5 folds for each of 100 candidates, totalling 500 fits\n",
      "mean R^2 performance on test data: 0.025933458033206437\n",
      "Permutation 92\n",
      "Fitting 5 folds for each of 100 candidates, totalling 500 fits\n"
     ]
    },
    {
     "name": "stderr",
     "output_type": "stream",
     "text": [
      "/home/ubuntu/anaconda3/lib/python3.8/site-packages/scipy/stats/stats.py:4264: SpearmanRConstantInputWarning: An input array is constant; the correlation coefficent is not defined.\n",
      "  warnings.warn(SpearmanRConstantInputWarning())\n"
     ]
    },
    {
     "name": "stdout",
     "output_type": "stream",
     "text": [
      "Fitting 5 folds for each of 100 candidates, totalling 500 fits\n",
      "Fitting 5 folds for each of 100 candidates, totalling 500 fits\n",
      "Fitting 5 folds for each of 100 candidates, totalling 500 fits\n",
      "Fitting 5 folds for each of 100 candidates, totalling 500 fits\n",
      "mean R^2 performance on test data: -0.006871117870792998\n",
      "Permutation 93\n",
      "Fitting 5 folds for each of 100 candidates, totalling 500 fits\n"
     ]
    },
    {
     "name": "stderr",
     "output_type": "stream",
     "text": [
      "/home/ubuntu/anaconda3/lib/python3.8/site-packages/scipy/stats/stats.py:4264: SpearmanRConstantInputWarning: An input array is constant; the correlation coefficent is not defined.\n",
      "  warnings.warn(SpearmanRConstantInputWarning())\n"
     ]
    },
    {
     "name": "stdout",
     "output_type": "stream",
     "text": [
      "Fitting 5 folds for each of 100 candidates, totalling 500 fits\n",
      "Fitting 5 folds for each of 100 candidates, totalling 500 fits\n",
      "Fitting 5 folds for each of 100 candidates, totalling 500 fits\n",
      "Fitting 5 folds for each of 100 candidates, totalling 500 fits\n",
      "mean R^2 performance on test data: -0.004347188536057578\n",
      "Permutation 94\n",
      "Fitting 5 folds for each of 100 candidates, totalling 500 fits\n",
      "Fitting 5 folds for each of 100 candidates, totalling 500 fits\n",
      "Fitting 5 folds for each of 100 candidates, totalling 500 fits\n",
      "Fitting 5 folds for each of 100 candidates, totalling 500 fits\n",
      "Fitting 5 folds for each of 100 candidates, totalling 500 fits\n",
      "mean R^2 performance on test data: 0.11973993887252629\n",
      "Permutation 95\n",
      "Fitting 5 folds for each of 100 candidates, totalling 500 fits\n",
      "Fitting 5 folds for each of 100 candidates, totalling 500 fits\n",
      "Fitting 5 folds for each of 100 candidates, totalling 500 fits\n",
      "Fitting 5 folds for each of 100 candidates, totalling 500 fits\n",
      "Fitting 5 folds for each of 100 candidates, totalling 500 fits\n",
      "mean R^2 performance on test data: -0.05890501596791804\n",
      "Permutation 96\n",
      "Fitting 5 folds for each of 100 candidates, totalling 500 fits\n",
      "Fitting 5 folds for each of 100 candidates, totalling 500 fits\n",
      "Fitting 5 folds for each of 100 candidates, totalling 500 fits\n",
      "Fitting 5 folds for each of 100 candidates, totalling 500 fits\n",
      "Fitting 5 folds for each of 100 candidates, totalling 500 fits\n",
      "mean R^2 performance on test data: 0.15673471023847954\n",
      "Permutation 97\n",
      "Fitting 5 folds for each of 100 candidates, totalling 500 fits\n",
      "Fitting 5 folds for each of 100 candidates, totalling 500 fits\n",
      "Fitting 5 folds for each of 100 candidates, totalling 500 fits\n",
      "Fitting 5 folds for each of 100 candidates, totalling 500 fits\n",
      "Fitting 5 folds for each of 100 candidates, totalling 500 fits\n",
      "mean R^2 performance on test data: -0.004167784994472412\n",
      "Permutation 98\n",
      "Fitting 5 folds for each of 100 candidates, totalling 500 fits\n",
      "Fitting 5 folds for each of 100 candidates, totalling 500 fits\n",
      "Fitting 5 folds for each of 100 candidates, totalling 500 fits\n",
      "Fitting 5 folds for each of 100 candidates, totalling 500 fits\n",
      "Fitting 5 folds for each of 100 candidates, totalling 500 fits\n",
      "mean R^2 performance on test data: 0.1811989258175606\n",
      "Permutation 99\n",
      "Fitting 5 folds for each of 100 candidates, totalling 500 fits\n",
      "Fitting 5 folds for each of 100 candidates, totalling 500 fits\n",
      "Fitting 5 folds for each of 100 candidates, totalling 500 fits\n",
      "Fitting 5 folds for each of 100 candidates, totalling 500 fits\n",
      "Fitting 5 folds for each of 100 candidates, totalling 500 fits\n",
      "mean R^2 performance on test data: -0.20144024543788497\n",
      "Permutation 100\n",
      "Fitting 5 folds for each of 100 candidates, totalling 500 fits\n",
      "Fitting 5 folds for each of 100 candidates, totalling 500 fits\n",
      "Fitting 5 folds for each of 100 candidates, totalling 500 fits\n",
      "Fitting 5 folds for each of 100 candidates, totalling 500 fits\n"
     ]
    },
    {
     "name": "stderr",
     "output_type": "stream",
     "text": [
      "/home/ubuntu/anaconda3/lib/python3.8/site-packages/scipy/stats/stats.py:4264: SpearmanRConstantInputWarning: An input array is constant; the correlation coefficent is not defined.\n",
      "  warnings.warn(SpearmanRConstantInputWarning())\n"
     ]
    },
    {
     "name": "stdout",
     "output_type": "stream",
     "text": [
      "Fitting 5 folds for each of 100 candidates, totalling 500 fits\n",
      "mean R^2 performance on test data: 0.04791401283729748\n"
     ]
    }
   ],
   "source": [
    "#number of permutations\n",
    "perms=100\n",
    "sc_scores_perms=[]\n",
    "cog = 0\n",
    "\n",
    "print(\"Cognition: \", cognition[cog])\n",
    "for p in range(perms): #iterate permutations\n",
    "\n",
    "    #joblib-based parallelism to increase speed\n",
    "    with parallel_backend('loky', n_jobs=16):\n",
    "        \n",
    "        #print permutation # you're on\n",
    "        print('Permutation %d' %(p+1))\n",
    "        outer_cv = KFold(n_splits=k, shuffle=True, random_state=p)\n",
    "\n",
    "        #Splitting the dataset into a hold-out test set and training set for model selection.\n",
    "        #x, x_test, y, y_test = train_test_split(X, Y, test_size=1-train_size, shuffle=True, random_state=p)\n",
    "        scores_cv=[]\n",
    "        for train_idx, test_idx in outer_cv.split(X,Y):\n",
    "            x = X[train_idx]\n",
    "            y = Y[train_idx]\n",
    "            x_test = X[test_idx]\n",
    "            y_test = Y[test_idx]\n",
    "\n",
    "            # only test one cog score at a time\n",
    "            y = y[:,cog]\n",
    "            y_test = y_test[:,cog]\n",
    "\n",
    "            #store all the y_test values in a separate variable that can be accessed later if needed\n",
    "            #cogtest[cog,:] = y_test\n",
    "\n",
    "            #create variables to store nested CV scores, and best parameters from hyperparameter optimisation\n",
    "            nested_scores = []\n",
    "            best_params = []\n",
    "\n",
    "            #Normalize training and test data using scaler fit to training data    \n",
    "            scaler = preprocessing.StandardScaler().fit(x)\n",
    "            x = scaler.transform(x)\n",
    "            x_test = scaler.transform(x_test)\n",
    "\n",
    "            # Feature selection: use only the top 40 SC edges based on correlation of training features with cognitive score\n",
    "            correl=[]\n",
    "            for i in range(0, x.shape[1]):\n",
    "                correl.append(abs(spearmanr(x[:,i], y)[0]))\n",
    "            ind = np.argpartition(correl, -40)[-40:]\n",
    "            x=x[:,ind]\n",
    "            \n",
    "            x_test=x_test[:,ind]\n",
    "\n",
    "            #print(\"Size of X: \" + str(x.shape))\n",
    "            #print(\"Size of y: \" + str(y.shape))\n",
    "\n",
    "            #set parameters for inner loop for CV\n",
    "            inner_cv = KFold(n_splits=k, shuffle=True, random_state=p)\n",
    "\n",
    "            # Initializing regression model\n",
    "            regr = linear_model.Ridge(normalize=True, max_iter=1000000)\n",
    "\n",
    "            #set hyperparameter grid space you want to search through for the model\n",
    "            alphas = np.logspace(-2,2, num=100, endpoint=True,base=10, axis=0)\n",
    "            paramGrid = {'alpha': alphas}    \n",
    "\n",
    "            # regression scoring metrics\n",
    "            scores = {\"R-squared\": \"r2\", \"mse\":'neg_mean_squared_error'}\n",
    "\n",
    "            # Set up GridSearchCV object\n",
    "            gcv = GridSearchCV(estimator=regr,\n",
    "                                   param_grid=paramGrid,\n",
    "                                   scoring=scores,\n",
    "                                   n_jobs=16,\n",
    "                                   cv=inner_cv,\n",
    "                                   return_train_score=True,\n",
    "                                   verbose=0,\n",
    "                                   refit=\"R-squared\")\n",
    "\n",
    "            #print(\"Starting inner loops\" )\n",
    "            # perform model selection (inner loop)\n",
    "            gcv.fit(x, y) \n",
    "\n",
    "            # Save opt. alpha\n",
    "            best_params.append(list(gcv.best_params_.values()))\n",
    "            \n",
    "            # Get the best estimator on the whole training set\n",
    "            best_model = gcv.best_estimator_\n",
    "            \n",
    "            #print(\"Testing model on hold-out data...\")\n",
    "            # evaluate model on the hold out dataset\n",
    "            yhat = best_model.predict(x_test)\n",
    "            \n",
    "            #print(\"score: \"+ str(gcv.score(x_test, y_test)))\n",
    "            scores_cv.append(gcv.score(x_test,y_test))\n",
    "            \n",
    "        print(\"mean R^2 performance on test data: \" + str(np.mean(scores_cv)))\n",
    "        sc_scores_perms.append(np.mean(scores_cv))\n",
    "            "
   ]
  },
  {
   "cell_type": "code",
   "execution_count": 7,
   "id": "0878941b",
   "metadata": {},
   "outputs": [
    {
     "name": "stdout",
     "output_type": "stream",
     "text": [
      "Cognition:  TMT\n",
      "Permutation 1\n",
      "mean R^2 performance on test data: -0.038729139284281636\n",
      "Permutation 2\n",
      "mean R^2 performance on test data: 0.17981758312078402\n",
      "Permutation 3\n",
      "mean R^2 performance on test data: 0.06171202053813925\n",
      "Permutation 4\n",
      "mean R^2 performance on test data: -0.03354445666576853\n",
      "Permutation 5\n",
      "mean R^2 performance on test data: 0.07155347286230036\n",
      "Permutation 6\n",
      "mean R^2 performance on test data: -0.10406485278046354\n",
      "Permutation 7\n",
      "mean R^2 performance on test data: -0.055318612673401324\n",
      "Permutation 8\n",
      "mean R^2 performance on test data: 0.06234173804461256\n",
      "Permutation 9\n",
      "mean R^2 performance on test data: -0.07899186259496141\n",
      "Permutation 10\n",
      "mean R^2 performance on test data: -0.03731415083383656\n",
      "Permutation 11\n",
      "mean R^2 performance on test data: -0.1417357673459993\n",
      "Permutation 12\n",
      "mean R^2 performance on test data: 0.022372173296347796\n",
      "Permutation 13\n",
      "mean R^2 performance on test data: 0.06702348784429983\n",
      "Permutation 14\n",
      "mean R^2 performance on test data: 0.06370142995832517\n",
      "Permutation 15\n",
      "mean R^2 performance on test data: -0.04609358121289016\n",
      "Permutation 16\n",
      "mean R^2 performance on test data: -0.11298967268415203\n",
      "Permutation 17\n",
      "mean R^2 performance on test data: 0.024990836468671507\n",
      "Permutation 18\n",
      "mean R^2 performance on test data: 0.005361388008815959\n",
      "Permutation 19\n",
      "mean R^2 performance on test data: 0.01046389237297638\n",
      "Permutation 20\n",
      "mean R^2 performance on test data: -0.04044524350249294\n",
      "Permutation 21\n",
      "mean R^2 performance on test data: 0.055967334279524786\n",
      "Permutation 22\n",
      "mean R^2 performance on test data: 0.012630687504166538\n",
      "Permutation 23\n",
      "mean R^2 performance on test data: -0.048521962011373154\n",
      "Permutation 24\n",
      "mean R^2 performance on test data: 0.11875679843759364\n",
      "Permutation 25\n",
      "mean R^2 performance on test data: 0.10875241802851861\n",
      "Permutation 26\n",
      "mean R^2 performance on test data: -0.04728053975343276\n",
      "Permutation 27\n",
      "mean R^2 performance on test data: 0.022553410581827627\n",
      "Permutation 28\n",
      "mean R^2 performance on test data: 0.06156323084255964\n",
      "Permutation 29\n",
      "mean R^2 performance on test data: 0.03279462499034043\n",
      "Permutation 30\n",
      "mean R^2 performance on test data: -0.009554941270968542\n",
      "Permutation 31\n",
      "mean R^2 performance on test data: 0.02672635905772336\n",
      "Permutation 32\n",
      "mean R^2 performance on test data: 0.05701649198226479\n",
      "Permutation 33\n",
      "mean R^2 performance on test data: -0.15579581694264208\n",
      "Permutation 34\n",
      "mean R^2 performance on test data: 0.09386783870905684\n",
      "Permutation 35\n",
      "mean R^2 performance on test data: -0.05693570530779028\n",
      "Permutation 36\n",
      "mean R^2 performance on test data: 0.009961033844857692\n",
      "Permutation 37\n",
      "mean R^2 performance on test data: 0.044452535028650056\n",
      "Permutation 38\n",
      "mean R^2 performance on test data: -0.045720956410231814\n",
      "Permutation 39\n",
      "mean R^2 performance on test data: 0.09124297026610488\n",
      "Permutation 40\n",
      "mean R^2 performance on test data: -0.05663964077949939\n",
      "Permutation 41\n",
      "mean R^2 performance on test data: 0.03235134449785058\n",
      "Permutation 42\n",
      "mean R^2 performance on test data: -0.22379985448298084\n",
      "Permutation 43\n",
      "mean R^2 performance on test data: 0.1769539877558514\n",
      "Permutation 44\n",
      "mean R^2 performance on test data: 0.10519564482989288\n",
      "Permutation 45\n",
      "mean R^2 performance on test data: -0.08178064685107815\n",
      "Permutation 46\n",
      "mean R^2 performance on test data: 0.06205897240681859\n",
      "Permutation 47\n",
      "mean R^2 performance on test data: 0.10014497722721134\n",
      "Permutation 48\n",
      "mean R^2 performance on test data: -0.044367187269111596\n",
      "Permutation 49\n",
      "mean R^2 performance on test data: -0.0752578039634936\n",
      "Permutation 50\n",
      "mean R^2 performance on test data: 0.09538149521084557\n",
      "Permutation 51\n",
      "mean R^2 performance on test data: -0.011411558816007927\n",
      "Permutation 52\n",
      "mean R^2 performance on test data: -0.05151988412352053\n",
      "Permutation 53\n",
      "mean R^2 performance on test data: -0.06383311848579265\n",
      "Permutation 54\n",
      "mean R^2 performance on test data: 0.022041957365649623\n",
      "Permutation 55\n",
      "mean R^2 performance on test data: 0.03428177626010269\n",
      "Permutation 56\n",
      "mean R^2 performance on test data: -0.02590573474916704\n",
      "Permutation 57\n",
      "mean R^2 performance on test data: 0.06939682180296114\n",
      "Permutation 58\n",
      "mean R^2 performance on test data: -0.054062503556755924\n",
      "Permutation 59\n",
      "mean R^2 performance on test data: 0.054159097279030434\n",
      "Permutation 60\n",
      "mean R^2 performance on test data: 0.10019807049374005\n",
      "Permutation 61\n",
      "mean R^2 performance on test data: -0.05710906014187491\n",
      "Permutation 62\n",
      "mean R^2 performance on test data: 0.024651616090357285\n",
      "Permutation 63\n",
      "mean R^2 performance on test data: 0.05216869671383084\n",
      "Permutation 64\n",
      "mean R^2 performance on test data: 0.03912293266165658\n",
      "Permutation 65\n",
      "mean R^2 performance on test data: 0.10671358526386324\n",
      "Permutation 66\n",
      "mean R^2 performance on test data: -0.03545854973109064\n",
      "Permutation 67\n",
      "mean R^2 performance on test data: -0.0699015050966915\n",
      "Permutation 68\n",
      "mean R^2 performance on test data: 0.07496973423233688\n",
      "Permutation 69\n",
      "mean R^2 performance on test data: 0.019129170458342927\n",
      "Permutation 70\n",
      "mean R^2 performance on test data: 0.01511845350304326\n",
      "Permutation 71\n",
      "mean R^2 performance on test data: 0.041348481253318047\n",
      "Permutation 72\n",
      "mean R^2 performance on test data: -0.009361427680465306\n",
      "Permutation 73\n",
      "mean R^2 performance on test data: 0.018643609792291495\n",
      "Permutation 74\n",
      "mean R^2 performance on test data: 0.12231884723713349\n",
      "Permutation 75\n",
      "mean R^2 performance on test data: 0.07223825631733316\n",
      "Permutation 76\n",
      "mean R^2 performance on test data: -0.10388933175407297\n",
      "Permutation 77\n",
      "mean R^2 performance on test data: 0.059157437644155084\n",
      "Permutation 78\n",
      "mean R^2 performance on test data: 0.03419020080184916\n",
      "Permutation 79\n",
      "mean R^2 performance on test data: 0.03901060069342403\n",
      "Permutation 80\n",
      "mean R^2 performance on test data: 0.0839395199697071\n",
      "Permutation 81\n",
      "mean R^2 performance on test data: 0.10613207992088103\n",
      "Permutation 82\n",
      "mean R^2 performance on test data: 0.006597035998585099\n",
      "Permutation 83\n",
      "mean R^2 performance on test data: 0.074991649656589\n",
      "Permutation 84\n",
      "mean R^2 performance on test data: -0.11203286985802599\n",
      "Permutation 85\n",
      "mean R^2 performance on test data: 0.052454917719455985\n",
      "Permutation 86\n",
      "mean R^2 performance on test data: 0.09607412265137989\n",
      "Permutation 87\n",
      "mean R^2 performance on test data: 0.04695999299197351\n",
      "Permutation 88\n",
      "mean R^2 performance on test data: 0.010739938491678957\n",
      "Permutation 89\n",
      "mean R^2 performance on test data: -0.011640457438911423\n",
      "Permutation 90\n",
      "mean R^2 performance on test data: 0.11395640907913236\n",
      "Permutation 91\n",
      "mean R^2 performance on test data: -0.07522939861822789\n",
      "Permutation 92\n",
      "mean R^2 performance on test data: -0.0650499912828822\n",
      "Permutation 93\n",
      "mean R^2 performance on test data: -0.0015511463921349833\n",
      "Permutation 94\n",
      "mean R^2 performance on test data: 0.08272932889978271\n",
      "Permutation 95\n",
      "mean R^2 performance on test data: -0.0096215960436006\n",
      "Permutation 96\n",
      "mean R^2 performance on test data: 0.06243531758191097\n",
      "Permutation 97\n",
      "mean R^2 performance on test data: 0.04572413220710632\n",
      "Permutation 98\n",
      "mean R^2 performance on test data: 0.11154439495681112\n",
      "Permutation 99\n",
      "mean R^2 performance on test data: -0.09812203912864317\n",
      "Permutation 100\n",
      "mean R^2 performance on test data: 0.10796819178494484\n"
     ]
    }
   ],
   "source": [
    "#FC \n",
    "\n",
    "#number of permutations\n",
    "perms=100\n",
    "fc_scores_perms=[]\n",
    "cog = 0\n",
    "\n",
    "print(\"Cognition: \", cognition[cog])\n",
    "for p in range(perms): #iterate permutations\n",
    "\n",
    "    #joblib-based parallelism to increase speed\n",
    "    with parallel_backend('loky', n_jobs=16):\n",
    "        \n",
    "        #print permutation # you're on\n",
    "        print('Permutation %d' %(p+1))\n",
    "        outer_cv = KFold(n_splits=k, shuffle=True, random_state=p)\n",
    "\n",
    "        #Splitting the dataset into a hold-out test set and training set for model selection.\n",
    "        #x, x_test, y, y_test = train_test_split(X, Y, test_size=1-train_size, shuffle=True, random_state=p)\n",
    "        scores_cv=[]\n",
    "        for train_idx, test_idx in outer_cv.split(X,Y):\n",
    "            x = X[train_idx]\n",
    "            y = Y[train_idx]\n",
    "            x_test = X[test_idx]\n",
    "            y_test = Y[test_idx]\n",
    "\n",
    "            # only test one cog score at a time\n",
    "            y = y[:,cog]\n",
    "            y_test = y_test[:,cog]\n",
    "\n",
    "            #store all the y_test values in a separate variable that can be accessed later if needed\n",
    "            #cogtest[cog,:] = y_test\n",
    "\n",
    "            #create variables to store nested CV scores, and best parameters from hyperparameter optimisation\n",
    "            nested_scores = []\n",
    "            best_params = []\n",
    "\n",
    "            #Normalize training and test data using scaler fit to training data    \n",
    "            scaler = preprocessing.StandardScaler().fit(x)\n",
    "            x = scaler.transform(x)\n",
    "            x_test = scaler.transform(x_test)\n",
    "\n",
    "            # Feature selection: use only the top 40 SC edges based on correlation of training features with cognitive score\n",
    "            correl=[]\n",
    "            for i in range(0, x.shape[1]):\n",
    "                correl.append(abs(spearmanr(x[:,i], y)[0]))\n",
    "            ind = np.argpartition(correl, -40)[-40:]\n",
    "            x=x[:,ind]\n",
    "            \n",
    "            x_test=x_test[:,ind]\n",
    "\n",
    "            #print(\"Size of X: \" + str(x.shape))\n",
    "            #print(\"Size of y: \" + str(y.shape))\n",
    "\n",
    "            #set parameters for inner loop for CV\n",
    "            inner_cv = KFold(n_splits=k, shuffle=True, random_state=p)\n",
    "\n",
    "            # Initializing regression model\n",
    "            regr = linear_model.Ridge(normalize=True, max_iter=1000000)\n",
    "\n",
    "            #set hyperparameter grid space you want to search through for the model\n",
    "            alphas = np.logspace(-2,2, num=100, endpoint=True,base=10, axis=0)\n",
    "            paramGrid = {'alpha': alphas}    \n",
    "\n",
    "            # regression scoring metrics\n",
    "            scores = {\"R-squared\": \"r2\", \"mse\":'neg_mean_squared_error'}\n",
    "\n",
    "            # Set up GridSearchCV object\n",
    "            gcv = GridSearchCV(estimator=regr,\n",
    "                                   param_grid=paramGrid,\n",
    "                                   scoring=scores,\n",
    "                                   n_jobs=16,\n",
    "                                   cv=inner_cv,\n",
    "                                   return_train_score=True,\n",
    "                                   verbose=0,\n",
    "                                   refit=\"R-squared\")\n",
    "\n",
    "            #print(\"Starting inner loops\" )\n",
    "            # perform model selection (inner loop)\n",
    "            gcv.fit(x, y) \n",
    "\n",
    "            # Save opt. alpha\n",
    "            best_params.append(list(gcv.best_params_.values()))\n",
    "            \n",
    "            # Get the best estimator on the whole training set\n",
    "            best_model = gcv.best_estimator_\n",
    "            \n",
    "            #print(\"Testing model on hold-out data...\")\n",
    "            # evaluate model on the hold out dataset\n",
    "            yhat = best_model.predict(x_test)\n",
    "        \n",
    "            #save optimised alpha values - choose it to be the value corresponding to the median nested score\n",
    "            #can also use np.max(nested_scores) to choose parameter corresponding to best nested score but might risk overfitting\n",
    "            # opt_alpha[cog] = best_params\n",
    "            #print(yhat.shape)\n",
    "            #print(y_test.shape)\n",
    "            \n",
    "            #print(\"score: \"+ str(gcv.score(x_test, y_test)))\n",
    "            scores_cv.append(gcv.score(x_test,y_test))\n",
    "            \n",
    "        print(\"mean R^2 performance on test data: \" + str(np.mean(scores_cv)))\n",
    "        fc_scores_perms.append(np.mean(scores_cv))\n",
    "            "
   ]
  },
  {
   "cell_type": "code",
   "execution_count": 10,
   "id": "8d6133ba",
   "metadata": {},
   "outputs": [],
   "source": [
    "np.savetxt('/home/ubuntu/cognition_iowa/results/100perm_ridge_spearmancorr_featureselect_r2_FC.txt', fc_scores_perms, delimiter=',')\n",
    "np.savetxt('/home/ubuntu/cognition_iowa/results/5foldcv_ridge_spearmancorr_featureselect_r2.txt', scores_cv, delimiter=',')\n",
    "\n"
   ]
  },
  {
   "cell_type": "code",
   "execution_count": 1,
   "id": "6102b510",
   "metadata": {},
   "outputs": [
    {
     "ename": "NameError",
     "evalue": "name 'fc_scores_perms' is not defined",
     "output_type": "error",
     "traceback": [
      "\u001b[0;31m---------------------------------------------------------------------------\u001b[0m",
      "\u001b[0;31mNameError\u001b[0m                                 Traceback (most recent call last)",
      "\u001b[0;32m<ipython-input-1-92e48929fcf9>\u001b[0m in \u001b[0;36m<module>\u001b[0;34m\u001b[0m\n\u001b[0;32m----> 1\u001b[0;31m \u001b[0mfc_scores_perms\u001b[0m\u001b[0;34m\u001b[0m\u001b[0;34m\u001b[0m\u001b[0m\n\u001b[0m",
      "\u001b[0;31mNameError\u001b[0m: name 'fc_scores_perms' is not defined"
     ]
    }
   ],
   "source": [
    "fc_scores_perms"
   ]
  },
  {
   "cell_type": "code",
   "execution_count": 289,
   "id": "085bcc86",
   "metadata": {},
   "outputs": [],
   "source": [
    "#iterate through permutations\n",
    "for p in range(perm):\n",
    "    #print permutation # you're on\n",
    "    print('Permutation %d' %(p+1))\n",
    "    #split data into train and test sets\n",
    "    x_train, x_test, cog_train, cog_test = train_test_split(X, Y, test_size=1-train_size, shuffle=True, random_state=p)\n",
    "\n",
    "    #iterate through the cognitive metrics you want to predict\n",
    "    for cog in range (n_cog):\n",
    "\n",
    "        #print cognitive metrics being predicted \n",
    "        print (\"Cognition: %s\" % cognition[cog])\n",
    "        \n",
    "        #set y values for train and test based on     \n",
    "        y_train = cog_train[:,cog]\n",
    "        y_test = cog_test[:,cog]\n",
    "        \n",
    "        #store all the y_test values in a separate variable that can be accessed later if needed\n",
    "        cogtest[p,cog,:] = y_test\n",
    "\n",
    "        #create variables to store nested CV scores, and best parameters from hyperparameter optimisation\n",
    "        nested_scores = []\n",
    "        best_params = []\n",
    "\n",
    "\n",
    "        #optimise regression model using nested CV\n",
    "        print('Training Models')\n",
    "        \n",
    "        #go through the loops of the cross validation\n",
    "        for i in range(cv_loops):\n",
    "\n",
    "\n",
    "            #set parameters for inner and outer loops for CV\n",
    "            inner_cv = KFold(n_splits=k, shuffle=True, random_state=i)\n",
    "            outer_cv = KFold(n_splits=k, shuffle=True, random_state=i)\n",
    "            \n",
    "            #define regressor with grid-search CV for inner loop\n",
    "            gridSearch = GridSearchCV(estimator=pipe, param_grid=paramGrid, n_jobs=-1, \n",
    "                                      verbose=0, cv=inner_cv, scoring='explained_variance')\n",
    "\n",
    "            #fit regressor\n",
    "            gridSearch.fit(x_train, y_train)\n",
    "\n",
    "            #save parameters corresponding to the best score\n",
    "            best_params.append(list(gridSearch.best_params_.values()))\n",
    "\n",
    "            #call cross_val_score for outer loop\n",
    "            nested_score = cross_val_score(gridSearch, X=x_train, y=y_train, cv=outer_cv, \n",
    "                                           scoring='explained_variance', verbose=1)\n",
    "\n",
    "            #record nested CV scores\n",
    "            nested_scores.append(np.median(nested_score))\n",
    "\n",
    "            #print how many cv loops are complete\n",
    "            print(\"%d/%d Complete\" % (i+1,cv_loops))\n",
    "            \n",
    "        #once all CV loops are complete, fit models based on optimised hyperparameters    \n",
    "        print('Testing Models')\n",
    "\n",
    "\n",
    "        #save optimised alpha values - choose it to be the value corresponding to the median nested score\n",
    "        #can also use np.max(nested_scores) to choose parameter corresponding to best nested score but might risk overfitting\n",
    "        opt_alpha[p,cog] = best_params[nested_scores.index(np.median(nested_scores))][0]\n",
    "\n",
    "\n",
    "        #fit model using optimised hyperparameter\n",
    "        pca_train = PCA(n_components=1)\n",
    "        x_train_pca=pca_train.fit_transform(x_train)\n",
    "        model = Ridge(normalize=True, max_iter=1000000,alpha = opt_alpha[p,cog])\n",
    "\n",
    "        model.fit(x_train_pca, y_train);\n",
    "        \n",
    "        #compute r^2 (coefficient of determination)\n",
    "        r2[p,cog]=model.score(pca_train.transform(x_test),y_test)\n",
    "\n",
    "        #generate predictions from model\n",
    "        preds[p,cog,:] = model.predict(pca_train.transform(x_test)).ravel()\n",
    "        \n",
    "        #compute explained variance \n",
    "        var[p,cog] = explained_variance_score(y_test, preds[p,cog,:])\n",
    "\n",
    "        #compute correlation between true and predicted\n",
    "        corr[p,cog] = np.corrcoef(y_test, preds[p,cog,:])[1,0]\n",
    "\n",
    "        #extract feature importance\n",
    "        pca_comp[p,:,:,cog] = pca_train.components_\n",
    "        featimp[p,:,cog] = model.coef_\n",
    "\n",
    "#save all of the outputs once everything is done\n",
    "#filepath is where you want to store it\n",
    "\n",
    "#np.savetxt('results/r2.txt', r2, delimiter=',')\n",
    "#np.savetxt('results/var.txt', var, delimiter=',')\n",
    "#np.savetxt('results/corr.txt', corr, delimiter=',')\n",
    "#np.savetxt('results/alpha.txt', opt_alpha, delimiter=',')\n",
    "\n",
    "#np.savetxt('results/sc_dmem_featimp.txt', featimp[:,:,0], delimiter=',')\n",
    "#np.savetxt('results/sc_trlsB_featimp.txt', featimp[:,:,1], delimiter=',')\n",
    "\n",
    "#np.savetxt('results/sc_dmem_preds.txt', preds[:,0,:], delimiter=',')\n",
    "#np.savetxt('results/sc_trlsB_preds.txt', preds[:,1,:], delimiter=',')\n",
    "\n",
    "#np.savetxt('results/sc_dmem_cogtest.txt', cogtest[:,:,0], delimiter=',')\n",
    "#np.savetxt('results/sc_trlsB_cogtest.txt', cogtest[:,:,1], delimiter=',')"
   ]
  },
  {
   "cell_type": "code",
   "execution_count": 282,
   "id": "e523d6bf",
   "metadata": {},
   "outputs": [
    {
     "data": {
      "text/plain": [
       "3201"
      ]
     },
     "execution_count": 282,
     "metadata": {},
     "output_type": "execute_result"
    }
   ],
   "source": [
    "len(correl)"
   ]
  },
  {
   "cell_type": "code",
   "execution_count": 301,
   "id": "01193e60",
   "metadata": {},
   "outputs": [
    {
     "name": "stdout",
     "output_type": "stream",
     "text": [
      "(80, 3201)\n"
     ]
    }
   ],
   "source": [
    "print(x.shape)"
   ]
  },
  {
   "cell_type": "code",
   "execution_count": 302,
   "id": "a4fb728c",
   "metadata": {},
   "outputs": [
    {
     "name": "stdout",
     "output_type": "stream",
     "text": [
      "(80, 3201)\n"
     ]
    }
   ],
   "source": [
    "\n",
    "print(x.shape)"
   ]
  },
  {
   "cell_type": "code",
   "execution_count": 101,
   "id": "35e860b3",
   "metadata": {},
   "outputs": [
    {
     "data": {
      "image/png": "[encoded data removed]",
      "text/plain": [
       "<Figure size 432x288 with 2 Axes>"
      ]
     },
     "metadata": {
      "needs_background": "light"
     },
     "output_type": "display_data"
    }
   ],
   "source": [
    "plt.imshow(x[1:100,1:2000])\n",
    "plt.colorbar()\n",
    "plt.show()"
   ]
  },
  {
   "cell_type": "code",
   "execution_count": 279,
   "id": "f95d0f38",
   "metadata": {},
   "outputs": [
    {
     "data": {
      "text/plain": [
       "80"
      ]
     },
     "execution_count": 279,
     "metadata": {},
     "output_type": "execute_result"
    }
   ],
   "source": [
    "len(correl)"
   ]
  },
  {
   "cell_type": "code",
   "execution_count": 256,
   "id": "e05bfe97",
   "metadata": {},
   "outputs": [
    {
     "ename": "AttributeError",
     "evalue": "module 'numpy' has no attribute 'correlation'",
     "output_type": "error",
     "traceback": [
      "\u001b[0;31m---------------------------------------------------------------------------\u001b[0m",
      "\u001b[0;31mAttributeError\u001b[0m                            Traceback (most recent call last)",
      "\u001b[0;32m<ipython-input-256-1f36aa9b4c2b>\u001b[0m in \u001b[0;36m<module>\u001b[0;34m\u001b[0m\n\u001b[0;32m----> 1\u001b[0;31m \u001b[0mnp\u001b[0m\u001b[0;34m.\u001b[0m\u001b[0mcorrelation\u001b[0m\u001b[0;34m(\u001b[0m\u001b[0mx\u001b[0m\u001b[0;34m,\u001b[0m \u001b[0my\u001b[0m\u001b[0;34m)\u001b[0m\u001b[0;34m\u001b[0m\u001b[0;34m\u001b[0m\u001b[0m\n\u001b[0m",
      "\u001b[0;32m~/anaconda3/lib/python3.8/site-packages/numpy/__init__.py\u001b[0m in \u001b[0;36m__getattr__\u001b[0;34m(attr)\u001b[0m\n\u001b[1;32m    301\u001b[0m                 \u001b[0;32mreturn\u001b[0m \u001b[0mTester\u001b[0m\u001b[0;34m\u001b[0m\u001b[0;34m\u001b[0m\u001b[0m\n\u001b[1;32m    302\u001b[0m \u001b[0;34m\u001b[0m\u001b[0m\n\u001b[0;32m--> 303\u001b[0;31m             raise AttributeError(\"module {!r} has no attribute \"\n\u001b[0m\u001b[1;32m    304\u001b[0m                                  \"{!r}\".format(__name__, attr))\n\u001b[1;32m    305\u001b[0m \u001b[0;34m\u001b[0m\u001b[0m\n",
      "\u001b[0;31mAttributeError\u001b[0m: module 'numpy' has no attribute 'correlation'"
     ]
    }
   ],
   "source": [
    "np.corr(x, y)"
   ]
  },
  {
   "cell_type": "code",
   "execution_count": 142,
   "id": "67acce5f",
   "metadata": {},
   "outputs": [
    {
     "data": {
      "image/png": "[encoded data removed]",
      "text/plain": [
       "<Figure size 432x288 with 1 Axes>"
      ]
     },
     "metadata": {
      "needs_background": "light"
     },
     "output_type": "display_data"
    }
   ],
   "source": [
    "plt.hist(X[1,:])\n",
    "x, x_test, y, y_test = train_test_split(X, Y, test_size=1-train_size, shuffle=True, random_state=p)\n"
   ]
  },
  {
   "cell_type": "code",
   "execution_count": 143,
   "id": "6ff18483",
   "metadata": {},
   "outputs": [
    {
     "data": {
      "text/plain": [
       "(array([3.195e+03, 5.000e+00, 0.000e+00, 0.000e+00, 0.000e+00, 0.000e+00,\n",
       "        0.000e+00, 0.000e+00, 0.000e+00, 1.000e+00]),\n",
       " array([     0.  ,  36154.65,  72309.3 , 108463.95, 144618.6 , 180773.25,\n",
       "        216927.9 , 253082.55, 289237.2 , 325391.85, 361546.5 ]),\n",
       " <BarContainer object of 10 artists>)"
      ]
     },
     "execution_count": 143,
     "metadata": {},
     "output_type": "execute_result"
    },
    {
     "data": {
      "image/png": "[encoded data removed]",
      "text/plain": [
       "<Figure size 432x288 with 1 Axes>"
      ]
     },
     "metadata": {
      "needs_background": "light"
     },
     "output_type": "display_data"
    }
   ],
   "source": [
    "plt.hist(x[3,:])"
   ]
  },
  {
   "cell_type": "code",
   "execution_count": 87,
   "id": "a07a82fd",
   "metadata": {},
   "outputs": [],
   "source": [
    "np.savetxt(results_dir+'fc_demo_dmemfu1_r2.txt', r2, delimiter=',')\n",
    "np.savetxt(results_dir+'fc_demo_dmemfu1_var.txt', var, delimiter=',')\n",
    "np.savetxt(results_dir+'fc_demo_dmemfu1_corr.txt', corr, delimiter=',')\n",
    "np.savetxt(results_dir+'fc_demo_dmemfu1_alpha.txt', opt_alpha, delimiter=',')\n",
    "\n",
    "np.savetxt(results_dir+'fc_demo_dmemfu1_featimp.txt', featimp, delimiter=',')\n",
    "np.savetxt(results_dir+'fc_demo_dmemfu1_preds.txt', preds, delimiter=',')\n",
    "np.savetxt(results_dir+'fc_demo_dmemfu1_cogtest.txt', cogtest, delimiter=',')\n"
   ]
  },
  {
   "cell_type": "code",
   "execution_count": 88,
   "id": "7f13cbca",
   "metadata": {},
   "outputs": [
    {
     "name": "stdout",
     "output_type": "stream",
     "text": [
      "Permutation 1\n",
      "Permutation 2\n",
      "Permutation 3\n",
      "Permutation 4\n",
      "Permutation 5\n",
      "Permutation 6\n",
      "Permutation 7\n",
      "Permutation 8\n",
      "Permutation 9\n",
      "Permutation 10\n",
      "Permutation 11\n",
      "Permutation 12\n",
      "Permutation 13\n",
      "Permutation 14\n",
      "Permutation 15\n",
      "Permutation 16\n",
      "Permutation 17\n",
      "Permutation 18\n",
      "Permutation 19\n",
      "Permutation 20\n",
      "Permutation 21\n",
      "Permutation 22\n",
      "Permutation 23\n",
      "Permutation 24\n",
      "Permutation 25\n",
      "Permutation 26\n",
      "Permutation 27\n",
      "Permutation 28\n",
      "Permutation 29\n",
      "Permutation 30\n",
      "Permutation 31\n",
      "Permutation 32\n",
      "Permutation 33\n",
      "Permutation 34\n",
      "Permutation 35\n",
      "Permutation 36\n",
      "Permutation 37\n",
      "Permutation 38\n",
      "Permutation 39\n",
      "Permutation 40\n",
      "Permutation 41\n",
      "Permutation 42\n",
      "Permutation 43\n",
      "Permutation 44\n",
      "Permutation 45\n",
      "Permutation 46\n",
      "Permutation 47\n",
      "Permutation 48\n",
      "Permutation 49\n",
      "Permutation 50\n",
      "Permutation 51\n",
      "Permutation 52\n",
      "Permutation 53\n",
      "Permutation 54\n",
      "Permutation 55\n",
      "Permutation 56\n",
      "Permutation 57\n",
      "Permutation 58\n",
      "Permutation 59\n",
      "Permutation 60\n",
      "Permutation 61\n",
      "Permutation 62\n",
      "Permutation 63\n",
      "Permutation 64\n",
      "Permutation 65\n",
      "Permutation 66\n",
      "Permutation 67\n",
      "Permutation 68\n",
      "Permutation 69\n",
      "Permutation 70\n",
      "Permutation 71\n",
      "Permutation 72\n",
      "Permutation 73\n",
      "Permutation 74\n",
      "Permutation 75\n",
      "Permutation 76\n",
      "Permutation 77\n",
      "Permutation 78\n",
      "Permutation 79\n",
      "Permutation 80\n",
      "Permutation 81\n",
      "Permutation 82\n",
      "Permutation 83\n",
      "Permutation 84\n",
      "Permutation 85\n",
      "Permutation 86\n",
      "Permutation 87\n",
      "Permutation 88\n",
      "Permutation 89\n",
      "Permutation 90\n",
      "Permutation 91\n",
      "Permutation 92\n",
      "Permutation 93\n",
      "Permutation 94\n",
      "Permutation 95\n",
      "Permutation 96\n",
      "Permutation 97\n",
      "Permutation 98\n",
      "Permutation 99\n",
      "Permutation 100\n"
     ]
    }
   ],
   "source": [
    "A = np.zeros([perm,n_feat])\n",
    "\n",
    "#iterate through permutations\n",
    "for p in range(perm):\n",
    "    print('Permutation %d' %(p+1))\n",
    "\n",
    "    cov_x= np.zeros([n_feat])\n",
    "    x_train, x_test, cog_train, cog_test = train_test_split(X, Y, test_size=1-train_size, shuffle=True, random_state=p)\n",
    "\n",
    "    #compute covariance of training X data\n",
    "    cov_x = np.cov(np.transpose(x_train))\n",
    "\n",
    "    #for each of the cognitive scores\n",
    "    for i in range(n_cog):\n",
    "        #compute covariance of training cognitive scores\n",
    "        cov_y = np.cov(cog_train[:,i])\n",
    "        #compute activation vector by matrix multiplying training X covariance, feature weights, and 1/training Y covariance \n",
    "        A[p,:] = np.matmul(cov_x,featimp[p,:])*(1/cov_y)\n",
    "\n",
    "\n",
    "A_avg = np.mean(A,axis=0)\n",
    "np.savetxt(results_dir+'fc_demo_demo_dmemorig_featimpA_dmemfu1.txt', A_avg, delimiter=',')"
   ]
  }
 ],
 "metadata": {
  "kernelspec": {
   "display_name": "Python 3",
   "language": "python",
   "name": "python3"
  },
  "language_info": {
   "codemirror_mode": {
    "name": "ipython",
    "version": 3
   },
   "file_extension": ".py",
   "mimetype": "text/x-python",
   "name": "python",
   "nbconvert_exporter": "python",
   "pygments_lexer": "ipython3",
   "version": "3.8.8"
  }
 },
 "nbformat": 4,
 "nbformat_minor": 5
}
