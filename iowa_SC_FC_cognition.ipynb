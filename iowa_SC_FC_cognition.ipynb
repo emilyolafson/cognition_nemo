{
 "cells": [
  {
   "cell_type": "code",
   "execution_count": 2,
   "id": "2dc70a80",
   "metadata": {},
   "outputs": [],
   "source": [
    "#import relevant libraries\n",
    "import sys; sys.path\n",
    "import pandas as pd\n",
    "import numpy as np \n",
    "import seaborn as sns\n",
    "from datetime import datetime\n",
    "import pickle \n",
    "from sklearn.pipeline import Pipeline\n",
    "import scipy.io as sio\n",
    "from scipy.stats import spearmanr, pearsonr\n",
    "from joblib import parallel_backend\n",
    "from sklearn import preprocessing, linear_model\n",
    "from sklearn.metrics import explained_variance_score, r2_score, make_scorer\n",
    "from sklearn.preprocessing import StandardScaler\n",
    "from sklearn.model_selection import train_test_split, GridSearchCV, cross_val_score, KFold\n",
    "from sklearn.decomposition import PCA\n",
    "import matplotlib.pyplot as plt\n",
    "from matplotlib.pyplot import figure\n",
    "from sklearn.datasets import load_boston\n",
    "from sklearn.utils.fixes import loguniform\n"
   ]
  },
  {
   "cell_type": "code",
   "execution_count": 3,
   "id": "f9e768ec",
   "metadata": {},
   "outputs": [],
   "source": [
    "data_dir='/home/ubuntu/cognition_iowa/data/'\n",
    "results_dir='/home/ubuntu/cognition_iowa/results/' "
   ]
  },
  {
   "cell_type": "code",
   "execution_count": 4,
   "id": "029c80b5",
   "metadata": {},
   "outputs": [],
   "source": [
    "#Load input variables (estimated SC) and save all subjects to one .mat file for eFC prediction (Zijin's code)\n",
    "\n",
    "nROIs=86\n",
    "subj_id =  pd.read_csv(data_dir + 'final_subIDs.csv',header=None)[0]\n",
    "sc = np.zeros([len(subj_id),3655])\n",
    "\n",
    "for i in range(len(subj_id)):\n",
    "    filename = data_dir + \"sc/%s_nemo_output_chacoconn_fs86subj_nemoSC_volnorm.txt\" % (subj_id[i])\n",
    "    sc_tmp = pd.read_csv(filename, header=0, sep=' ').values\n",
    "    np.fill_diagonal(sc_tmp, 0)\n",
    "    sc[i,:] = sc_tmp[np.triu_indices(nROIs,k=1)]\n",
    "    \n",
    "sio.savemat(data_dir + 'allstroke_SCs.mat', {'sc':sc}) # used to predict eFC using Zijin's code.\n",
    "\n",
    "# Load FC\n",
    "fc = np.zeros([len(subj_id),3655])\n",
    "\n",
    "for i in range(len(subj_id)):\n",
    "    filename = data_dir + \"fc/%s_FC.txt\" % (subj_id[i])\n",
    "    fc_tmp = pd.read_csv(filename, header=0, sep=' ').values\n",
    "    np.fill_diagonal(sc_tmp, 0)\n",
    "    fc[i,:] = fc_tmp[np.triu_indices(nROIs,k=1)]"
   ]
  },
  {
   "cell_type": "code",
   "execution_count": 5,
   "id": "6722e4d5",
   "metadata": {},
   "outputs": [],
   "source": [
    "# Load demographic variables and outcome measures (TMT and WAIS)\n",
    "\n",
    "#read in demographic info at first time point\n",
    "demo =  pd.read_csv(data_dir + 'demographic_final.csv',header=0)\n",
    "\n",
    "#read in cognitive scores at first time point\n",
    "tmt = pd.read_csv(data_dir + 'T_MT_A_TIME.csv',header=None)\n",
    "wais = pd.read_csv(data_dir + 'WAIS_IV_DS_TOTAL_RAW.csv',header=None)"
   ]
  },
  {
   "cell_type": "code",
   "execution_count": 6,
   "id": "d45e6b4b",
   "metadata": {},
   "outputs": [],
   "source": [
    "#set the number of folds you want in the inner and outer folds of the nested cross-validation\n",
    "k = 5\n",
    "\n",
    "#set the proportion of data you want in your training set\n",
    "train_size = .8\n",
    "\n",
    "#set the number of variables you want to predict\n",
    "ncog = 1\n",
    "\n",
    "#set x data to be the input variable you want to use\n",
    "#ie fc, sc, or hc\n",
    "X = fc\n",
    "\n",
    "# remove parameters that are 0 for all subjects\n",
    "zeros=X==0\n",
    "zeros=np.sum(zeros,0)\n",
    "zeros=zeros==101\n",
    "X=X[:,~zeros]\n",
    "\n",
    "#set y to be the cognitive metrics you want to predict\n",
    "Y = np.array(wais)\n",
    "#Y=np.concatenate((tmt, wais), axis=1)\n",
    "cognition=[\"TMT\", \"WAIS\"]\n",
    "\n",
    "#set the number of features\n",
    "n_feat = X.shape[0]\n",
    "\n",
    "#create arrays to store variables\n",
    "r2 = np.zeros([ncog]) #r^2 - coefficient of determination\n",
    "var = np.zeros([ncog])#explained variance\n",
    "corr = np.zeros([ncog]) #correlation between true and predicted (aka prediction accuracy)\n",
    "opt_alpha = np.zeros([ncog]) #optimised alpha (hyperparameter)\n",
    "preds = np.zeros([ncog,int(np.ceil(X.shape[0]*(1-train_size)))]) #predictions made by the model\n",
    "cogtest = np.zeros([ncog,int(np.ceil(X.shape[0]*(1-train_size)))]) #true test values for cognition\n",
    "featimp = np.zeros([n_feat, ncog]) #feature importance extracted from the model"
   ]
  },
  {
   "cell_type": "code",
   "execution_count": 59,
   "id": "e8065908",
   "metadata": {},
   "outputs": [
    {
     "data": {
      "text/plain": [
       "(101, 3570)"
      ]
     },
     "execution_count": 59,
     "metadata": {},
     "output_type": "execute_result"
    }
   ],
   "source": [
    "X.shape"
   ]
  },
  {
   "cell_type": "code",
   "execution_count": 43,
   "id": "820f51e6",
   "metadata": {
    "scrolled": false
   },
   "outputs": [
    {
     "name": "stdout",
     "output_type": "stream",
     "text": [
      "Cognition:  TMT\n",
      "Permutation 1\n",
      "Fitting 5 folds for each of 100 candidates, totalling 500 fits\n",
      "Fitting 5 folds for each of 100 candidates, totalling 500 fits\n",
      "Fitting 5 folds for each of 100 candidates, totalling 500 fits\n",
      "Fitting 5 folds for each of 100 candidates, totalling 500 fits\n",
      "Fitting 5 folds for each of 100 candidates, totalling 500 fits\n",
      "mean R^2 performance on test data: 0.038139662297032806\n",
      "Permutation 2\n",
      "Fitting 5 folds for each of 100 candidates, totalling 500 fits\n",
      "Fitting 5 folds for each of 100 candidates, totalling 500 fits\n",
      "Fitting 5 folds for each of 100 candidates, totalling 500 fits\n",
      "Fitting 5 folds for each of 100 candidates, totalling 500 fits\n",
      "Fitting 5 folds for each of 100 candidates, totalling 500 fits\n",
      "mean R^2 performance on test data: 0.017793627829188807\n",
      "Permutation 3\n",
      "Fitting 5 folds for each of 100 candidates, totalling 500 fits\n",
      "Fitting 5 folds for each of 100 candidates, totalling 500 fits\n",
      "Fitting 5 folds for each of 100 candidates, totalling 500 fits\n",
      "Fitting 5 folds for each of 100 candidates, totalling 500 fits\n",
      "Fitting 5 folds for each of 100 candidates, totalling 500 fits\n",
      "mean R^2 performance on test data: 0.16227561403145727\n",
      "Permutation 4\n",
      "Fitting 5 folds for each of 100 candidates, totalling 500 fits\n",
      "Fitting 5 folds for each of 100 candidates, totalling 500 fits\n"
     ]
    },
    {
     "name": "stderr",
     "output_type": "stream",
     "text": [
      "/home/ubuntu/anaconda3/lib/python3.8/site-packages/scipy/stats/stats.py:4264: SpearmanRConstantInputWarning: An input array is constant; the correlation coefficent is not defined.\n",
      "  warnings.warn(SpearmanRConstantInputWarning())\n"
     ]
    },
    {
     "name": "stdout",
     "output_type": "stream",
     "text": [
      "Fitting 5 folds for each of 100 candidates, totalling 500 fits\n",
      "Fitting 5 folds for each of 100 candidates, totalling 500 fits\n",
      "Fitting 5 folds for each of 100 candidates, totalling 500 fits\n",
      "mean R^2 performance on test data: 0.05526471221335112\n",
      "Permutation 5\n",
      "Fitting 5 folds for each of 100 candidates, totalling 500 fits\n",
      "Fitting 5 folds for each of 100 candidates, totalling 500 fits\n",
      "Fitting 5 folds for each of 100 candidates, totalling 500 fits\n",
      "Fitting 5 folds for each of 100 candidates, totalling 500 fits\n",
      "Fitting 5 folds for each of 100 candidates, totalling 500 fits\n",
      "mean R^2 performance on test data: 0.13454766419628042\n",
      "Permutation 6\n"
     ]
    },
    {
     "name": "stderr",
     "output_type": "stream",
     "text": [
      "/home/ubuntu/anaconda3/lib/python3.8/site-packages/scipy/stats/stats.py:4264: SpearmanRConstantInputWarning: An input array is constant; the correlation coefficent is not defined.\n",
      "  warnings.warn(SpearmanRConstantInputWarning())\n"
     ]
    },
    {
     "name": "stdout",
     "output_type": "stream",
     "text": [
      "Fitting 5 folds for each of 100 candidates, totalling 500 fits\n",
      "Fitting 5 folds for each of 100 candidates, totalling 500 fits\n",
      "Fitting 5 folds for each of 100 candidates, totalling 500 fits\n",
      "Fitting 5 folds for each of 100 candidates, totalling 500 fits\n",
      "Fitting 5 folds for each of 100 candidates, totalling 500 fits\n",
      "mean R^2 performance on test data: -0.07686717889594052\n",
      "Permutation 7\n",
      "Fitting 5 folds for each of 100 candidates, totalling 500 fits\n",
      "Fitting 5 folds for each of 100 candidates, totalling 500 fits\n"
     ]
    },
    {
     "name": "stderr",
     "output_type": "stream",
     "text": [
      "/home/ubuntu/anaconda3/lib/python3.8/site-packages/scipy/stats/stats.py:4264: SpearmanRConstantInputWarning: An input array is constant; the correlation coefficent is not defined.\n",
      "  warnings.warn(SpearmanRConstantInputWarning())\n"
     ]
    },
    {
     "name": "stdout",
     "output_type": "stream",
     "text": [
      "Fitting 5 folds for each of 100 candidates, totalling 500 fits\n",
      "Fitting 5 folds for each of 100 candidates, totalling 500 fits\n",
      "Fitting 5 folds for each of 100 candidates, totalling 500 fits\n",
      "mean R^2 performance on test data: 0.09656032564432501\n",
      "Permutation 8\n",
      "Fitting 5 folds for each of 100 candidates, totalling 500 fits\n",
      "Fitting 5 folds for each of 100 candidates, totalling 500 fits\n",
      "Fitting 5 folds for each of 100 candidates, totalling 500 fits\n",
      "Fitting 5 folds for each of 100 candidates, totalling 500 fits\n",
      "Fitting 5 folds for each of 100 candidates, totalling 500 fits\n",
      "mean R^2 performance on test data: -0.01009480856913123\n",
      "Permutation 9\n",
      "Fitting 5 folds for each of 100 candidates, totalling 500 fits\n",
      "Fitting 5 folds for each of 100 candidates, totalling 500 fits\n",
      "Fitting 5 folds for each of 100 candidates, totalling 500 fits\n",
      "Fitting 5 folds for each of 100 candidates, totalling 500 fits\n",
      "Fitting 5 folds for each of 100 candidates, totalling 500 fits\n",
      "mean R^2 performance on test data: -0.1839258144330606\n",
      "Permutation 10\n",
      "Fitting 5 folds for each of 100 candidates, totalling 500 fits\n",
      "Fitting 5 folds for each of 100 candidates, totalling 500 fits\n",
      "Fitting 5 folds for each of 100 candidates, totalling 500 fits\n",
      "Fitting 5 folds for each of 100 candidates, totalling 500 fits\n"
     ]
    },
    {
     "name": "stderr",
     "output_type": "stream",
     "text": [
      "/home/ubuntu/anaconda3/lib/python3.8/site-packages/scipy/stats/stats.py:4264: SpearmanRConstantInputWarning: An input array is constant; the correlation coefficent is not defined.\n",
      "  warnings.warn(SpearmanRConstantInputWarning())\n"
     ]
    },
    {
     "name": "stdout",
     "output_type": "stream",
     "text": [
      "Fitting 5 folds for each of 100 candidates, totalling 500 fits\n",
      "mean R^2 performance on test data: 0.1078302927777663\n",
      "Permutation 11\n",
      "Fitting 5 folds for each of 100 candidates, totalling 500 fits\n",
      "Fitting 5 folds for each of 100 candidates, totalling 500 fits\n",
      "Fitting 5 folds for each of 100 candidates, totalling 500 fits\n",
      "Fitting 5 folds for each of 100 candidates, totalling 500 fits\n",
      "Fitting 5 folds for each of 100 candidates, totalling 500 fits\n",
      "mean R^2 performance on test data: 0.1300014910501895\n",
      "Permutation 12\n"
     ]
    },
    {
     "name": "stderr",
     "output_type": "stream",
     "text": [
      "/home/ubuntu/anaconda3/lib/python3.8/site-packages/scipy/stats/stats.py:4264: SpearmanRConstantInputWarning: An input array is constant; the correlation coefficent is not defined.\n",
      "  warnings.warn(SpearmanRConstantInputWarning())\n"
     ]
    },
    {
     "name": "stdout",
     "output_type": "stream",
     "text": [
      "Fitting 5 folds for each of 100 candidates, totalling 500 fits\n",
      "Fitting 5 folds for each of 100 candidates, totalling 500 fits\n",
      "Fitting 5 folds for each of 100 candidates, totalling 500 fits\n",
      "Fitting 5 folds for each of 100 candidates, totalling 500 fits\n",
      "Fitting 5 folds for each of 100 candidates, totalling 500 fits\n",
      "mean R^2 performance on test data: 0.0930870143166633\n",
      "Permutation 13\n",
      "Fitting 5 folds for each of 100 candidates, totalling 500 fits\n",
      "Fitting 5 folds for each of 100 candidates, totalling 500 fits\n",
      "Fitting 5 folds for each of 100 candidates, totalling 500 fits\n",
      "Fitting 5 folds for each of 100 candidates, totalling 500 fits\n",
      "Fitting 5 folds for each of 100 candidates, totalling 500 fits\n",
      "mean R^2 performance on test data: 0.05504648216199868\n",
      "Permutation 14\n",
      "Fitting 5 folds for each of 100 candidates, totalling 500 fits\n",
      "Fitting 5 folds for each of 100 candidates, totalling 500 fits\n"
     ]
    },
    {
     "name": "stderr",
     "output_type": "stream",
     "text": [
      "/home/ubuntu/anaconda3/lib/python3.8/site-packages/scipy/stats/stats.py:4264: SpearmanRConstantInputWarning: An input array is constant; the correlation coefficent is not defined.\n",
      "  warnings.warn(SpearmanRConstantInputWarning())\n"
     ]
    },
    {
     "name": "stdout",
     "output_type": "stream",
     "text": [
      "Fitting 5 folds for each of 100 candidates, totalling 500 fits\n",
      "Fitting 5 folds for each of 100 candidates, totalling 500 fits\n"
     ]
    },
    {
     "name": "stderr",
     "output_type": "stream",
     "text": [
      "/home/ubuntu/anaconda3/lib/python3.8/site-packages/scipy/stats/stats.py:4264: SpearmanRConstantInputWarning: An input array is constant; the correlation coefficent is not defined.\n",
      "  warnings.warn(SpearmanRConstantInputWarning())\n"
     ]
    },
    {
     "name": "stdout",
     "output_type": "stream",
     "text": [
      "Fitting 5 folds for each of 100 candidates, totalling 500 fits\n",
      "mean R^2 performance on test data: -0.046652157873226185\n",
      "Permutation 15\n",
      "Fitting 5 folds for each of 100 candidates, totalling 500 fits\n",
      "Fitting 5 folds for each of 100 candidates, totalling 500 fits\n",
      "Fitting 5 folds for each of 100 candidates, totalling 500 fits\n",
      "Fitting 5 folds for each of 100 candidates, totalling 500 fits\n",
      "Fitting 5 folds for each of 100 candidates, totalling 500 fits\n",
      "mean R^2 performance on test data: 0.024935156598388762\n",
      "Permutation 16\n",
      "Fitting 5 folds for each of 100 candidates, totalling 500 fits\n",
      "Fitting 5 folds for each of 100 candidates, totalling 500 fits\n",
      "Fitting 5 folds for each of 100 candidates, totalling 500 fits\n",
      "Fitting 5 folds for each of 100 candidates, totalling 500 fits\n",
      "Fitting 5 folds for each of 100 candidates, totalling 500 fits\n",
      "mean R^2 performance on test data: 0.07773459331001506\n",
      "Permutation 17\n",
      "Fitting 5 folds for each of 100 candidates, totalling 500 fits\n",
      "Fitting 5 folds for each of 100 candidates, totalling 500 fits\n",
      "Fitting 5 folds for each of 100 candidates, totalling 500 fits\n"
     ]
    },
    {
     "name": "stderr",
     "output_type": "stream",
     "text": [
      "/home/ubuntu/anaconda3/lib/python3.8/site-packages/scipy/stats/stats.py:4264: SpearmanRConstantInputWarning: An input array is constant; the correlation coefficent is not defined.\n",
      "  warnings.warn(SpearmanRConstantInputWarning())\n"
     ]
    },
    {
     "name": "stdout",
     "output_type": "stream",
     "text": [
      "Fitting 5 folds for each of 100 candidates, totalling 500 fits\n",
      "Fitting 5 folds for each of 100 candidates, totalling 500 fits\n",
      "mean R^2 performance on test data: 0.08262861705776221\n",
      "Permutation 18\n",
      "Fitting 5 folds for each of 100 candidates, totalling 500 fits\n",
      "Fitting 5 folds for each of 100 candidates, totalling 500 fits\n",
      "Fitting 5 folds for each of 100 candidates, totalling 500 fits\n",
      "Fitting 5 folds for each of 100 candidates, totalling 500 fits\n",
      "Fitting 5 folds for each of 100 candidates, totalling 500 fits\n",
      "mean R^2 performance on test data: 0.008696721821020237\n",
      "Permutation 19\n",
      "Fitting 5 folds for each of 100 candidates, totalling 500 fits\n",
      "Fitting 5 folds for each of 100 candidates, totalling 500 fits\n",
      "Fitting 5 folds for each of 100 candidates, totalling 500 fits\n",
      "Fitting 5 folds for each of 100 candidates, totalling 500 fits\n"
     ]
    },
    {
     "name": "stderr",
     "output_type": "stream",
     "text": [
      "/home/ubuntu/anaconda3/lib/python3.8/site-packages/scipy/stats/stats.py:4264: SpearmanRConstantInputWarning: An input array is constant; the correlation coefficent is not defined.\n",
      "  warnings.warn(SpearmanRConstantInputWarning())\n"
     ]
    },
    {
     "name": "stdout",
     "output_type": "stream",
     "text": [
      "Fitting 5 folds for each of 100 candidates, totalling 500 fits\n",
      "mean R^2 performance on test data: 0.05407991003470625\n",
      "Permutation 20\n",
      "Fitting 5 folds for each of 100 candidates, totalling 500 fits\n",
      "Fitting 5 folds for each of 100 candidates, totalling 500 fits\n",
      "Fitting 5 folds for each of 100 candidates, totalling 500 fits\n"
     ]
    },
    {
     "name": "stderr",
     "output_type": "stream",
     "text": [
      "/home/ubuntu/anaconda3/lib/python3.8/site-packages/scipy/stats/stats.py:4264: SpearmanRConstantInputWarning: An input array is constant; the correlation coefficent is not defined.\n",
      "  warnings.warn(SpearmanRConstantInputWarning())\n"
     ]
    },
    {
     "name": "stdout",
     "output_type": "stream",
     "text": [
      "Fitting 5 folds for each of 100 candidates, totalling 500 fits\n",
      "Fitting 5 folds for each of 100 candidates, totalling 500 fits\n",
      "mean R^2 performance on test data: 0.1322666093050238\n",
      "Permutation 21\n",
      "Fitting 5 folds for each of 100 candidates, totalling 500 fits\n",
      "Fitting 5 folds for each of 100 candidates, totalling 500 fits\n",
      "Fitting 5 folds for each of 100 candidates, totalling 500 fits\n",
      "Fitting 5 folds for each of 100 candidates, totalling 500 fits\n",
      "Fitting 5 folds for each of 100 candidates, totalling 500 fits\n",
      "mean R^2 performance on test data: -0.013585793506877808\n",
      "Permutation 22\n",
      "Fitting 5 folds for each of 100 candidates, totalling 500 fits\n",
      "Fitting 5 folds for each of 100 candidates, totalling 500 fits\n",
      "Fitting 5 folds for each of 100 candidates, totalling 500 fits\n",
      "Fitting 5 folds for each of 100 candidates, totalling 500 fits\n",
      "Fitting 5 folds for each of 100 candidates, totalling 500 fits\n",
      "mean R^2 performance on test data: 0.07522711467389354\n",
      "Permutation 23\n",
      "Fitting 5 folds for each of 100 candidates, totalling 500 fits\n",
      "Fitting 5 folds for each of 100 candidates, totalling 500 fits\n",
      "Fitting 5 folds for each of 100 candidates, totalling 500 fits\n",
      "Fitting 5 folds for each of 100 candidates, totalling 500 fits\n",
      "Fitting 5 folds for each of 100 candidates, totalling 500 fits\n",
      "mean R^2 performance on test data: 0.021275990300170244\n",
      "Permutation 24\n",
      "Fitting 5 folds for each of 100 candidates, totalling 500 fits\n",
      "Fitting 5 folds for each of 100 candidates, totalling 500 fits\n",
      "Fitting 5 folds for each of 100 candidates, totalling 500 fits\n",
      "Fitting 5 folds for each of 100 candidates, totalling 500 fits\n",
      "Fitting 5 folds for each of 100 candidates, totalling 500 fits\n",
      "mean R^2 performance on test data: 0.08262197417833812\n",
      "Permutation 25\n",
      "Fitting 5 folds for each of 100 candidates, totalling 500 fits\n"
     ]
    },
    {
     "name": "stderr",
     "output_type": "stream",
     "text": [
      "/home/ubuntu/anaconda3/lib/python3.8/site-packages/scipy/stats/stats.py:4264: SpearmanRConstantInputWarning: An input array is constant; the correlation coefficent is not defined.\n",
      "  warnings.warn(SpearmanRConstantInputWarning())\n"
     ]
    },
    {
     "name": "stdout",
     "output_type": "stream",
     "text": [
      "Fitting 5 folds for each of 100 candidates, totalling 500 fits\n",
      "Fitting 5 folds for each of 100 candidates, totalling 500 fits\n",
      "Fitting 5 folds for each of 100 candidates, totalling 500 fits\n",
      "Fitting 5 folds for each of 100 candidates, totalling 500 fits\n",
      "mean R^2 performance on test data: 0.19995284165577049\n",
      "Permutation 26\n",
      "Fitting 5 folds for each of 100 candidates, totalling 500 fits\n",
      "Fitting 5 folds for each of 100 candidates, totalling 500 fits\n",
      "Fitting 5 folds for each of 100 candidates, totalling 500 fits\n",
      "Fitting 5 folds for each of 100 candidates, totalling 500 fits\n",
      "Fitting 5 folds for each of 100 candidates, totalling 500 fits\n",
      "mean R^2 performance on test data: 0.1098633275359305\n",
      "Permutation 27\n",
      "Fitting 5 folds for each of 100 candidates, totalling 500 fits\n"
     ]
    },
    {
     "name": "stderr",
     "output_type": "stream",
     "text": [
      "/home/ubuntu/anaconda3/lib/python3.8/site-packages/scipy/stats/stats.py:4264: SpearmanRConstantInputWarning: An input array is constant; the correlation coefficent is not defined.\n",
      "  warnings.warn(SpearmanRConstantInputWarning())\n"
     ]
    },
    {
     "name": "stdout",
     "output_type": "stream",
     "text": [
      "Fitting 5 folds for each of 100 candidates, totalling 500 fits\n",
      "Fitting 5 folds for each of 100 candidates, totalling 500 fits\n",
      "Fitting 5 folds for each of 100 candidates, totalling 500 fits\n"
     ]
    },
    {
     "name": "stderr",
     "output_type": "stream",
     "text": [
      "/home/ubuntu/anaconda3/lib/python3.8/site-packages/scipy/stats/stats.py:4264: SpearmanRConstantInputWarning: An input array is constant; the correlation coefficent is not defined.\n",
      "  warnings.warn(SpearmanRConstantInputWarning())\n"
     ]
    },
    {
     "name": "stdout",
     "output_type": "stream",
     "text": [
      "Fitting 5 folds for each of 100 candidates, totalling 500 fits\n",
      "mean R^2 performance on test data: 0.08065583732616377\n",
      "Permutation 28\n",
      "Fitting 5 folds for each of 100 candidates, totalling 500 fits\n",
      "Fitting 5 folds for each of 100 candidates, totalling 500 fits\n",
      "Fitting 5 folds for each of 100 candidates, totalling 500 fits\n",
      "Fitting 5 folds for each of 100 candidates, totalling 500 fits\n",
      "Fitting 5 folds for each of 100 candidates, totalling 500 fits\n",
      "mean R^2 performance on test data: 0.06524979210992354\n",
      "Permutation 29\n",
      "Fitting 5 folds for each of 100 candidates, totalling 500 fits\n",
      "Fitting 5 folds for each of 100 candidates, totalling 500 fits\n",
      "Fitting 5 folds for each of 100 candidates, totalling 500 fits\n",
      "Fitting 5 folds for each of 100 candidates, totalling 500 fits\n",
      "Fitting 5 folds for each of 100 candidates, totalling 500 fits\n",
      "mean R^2 performance on test data: 0.09352930482780308\n",
      "Permutation 30\n"
     ]
    },
    {
     "name": "stderr",
     "output_type": "stream",
     "text": [
      "/home/ubuntu/anaconda3/lib/python3.8/site-packages/scipy/stats/stats.py:4264: SpearmanRConstantInputWarning: An input array is constant; the correlation coefficent is not defined.\n",
      "  warnings.warn(SpearmanRConstantInputWarning())\n"
     ]
    },
    {
     "name": "stdout",
     "output_type": "stream",
     "text": [
      "Fitting 5 folds for each of 100 candidates, totalling 500 fits\n",
      "Fitting 5 folds for each of 100 candidates, totalling 500 fits\n",
      "Fitting 5 folds for each of 100 candidates, totalling 500 fits\n",
      "Fitting 5 folds for each of 100 candidates, totalling 500 fits\n",
      "Fitting 5 folds for each of 100 candidates, totalling 500 fits\n",
      "mean R^2 performance on test data: 0.0028600977251091566\n",
      "Permutation 31\n",
      "Fitting 5 folds for each of 100 candidates, totalling 500 fits\n"
     ]
    },
    {
     "name": "stderr",
     "output_type": "stream",
     "text": [
      "/home/ubuntu/anaconda3/lib/python3.8/site-packages/scipy/stats/stats.py:4264: SpearmanRConstantInputWarning: An input array is constant; the correlation coefficent is not defined.\n",
      "  warnings.warn(SpearmanRConstantInputWarning())\n"
     ]
    },
    {
     "name": "stdout",
     "output_type": "stream",
     "text": [
      "Fitting 5 folds for each of 100 candidates, totalling 500 fits\n",
      "Fitting 5 folds for each of 100 candidates, totalling 500 fits\n",
      "Fitting 5 folds for each of 100 candidates, totalling 500 fits\n",
      "Fitting 5 folds for each of 100 candidates, totalling 500 fits\n",
      "mean R^2 performance on test data: 0.10936319409183837\n",
      "Permutation 32\n",
      "Fitting 5 folds for each of 100 candidates, totalling 500 fits\n",
      "Fitting 5 folds for each of 100 candidates, totalling 500 fits\n",
      "Fitting 5 folds for each of 100 candidates, totalling 500 fits\n"
     ]
    },
    {
     "name": "stderr",
     "output_type": "stream",
     "text": [
      "/home/ubuntu/anaconda3/lib/python3.8/site-packages/scipy/stats/stats.py:4264: SpearmanRConstantInputWarning: An input array is constant; the correlation coefficent is not defined.\n",
      "  warnings.warn(SpearmanRConstantInputWarning())\n"
     ]
    },
    {
     "name": "stdout",
     "output_type": "stream",
     "text": [
      "Fitting 5 folds for each of 100 candidates, totalling 500 fits\n",
      "Fitting 5 folds for each of 100 candidates, totalling 500 fits\n",
      "mean R^2 performance on test data: 0.013682372549946753\n",
      "Permutation 33\n"
     ]
    },
    {
     "name": "stderr",
     "output_type": "stream",
     "text": [
      "/home/ubuntu/anaconda3/lib/python3.8/site-packages/scipy/stats/stats.py:4264: SpearmanRConstantInputWarning: An input array is constant; the correlation coefficent is not defined.\n",
      "  warnings.warn(SpearmanRConstantInputWarning())\n"
     ]
    },
    {
     "name": "stdout",
     "output_type": "stream",
     "text": [
      "Fitting 5 folds for each of 100 candidates, totalling 500 fits\n",
      "Fitting 5 folds for each of 100 candidates, totalling 500 fits\n",
      "Fitting 5 folds for each of 100 candidates, totalling 500 fits\n",
      "Fitting 5 folds for each of 100 candidates, totalling 500 fits\n"
     ]
    },
    {
     "name": "stderr",
     "output_type": "stream",
     "text": [
      "/home/ubuntu/anaconda3/lib/python3.8/site-packages/scipy/stats/stats.py:4264: SpearmanRConstantInputWarning: An input array is constant; the correlation coefficent is not defined.\n",
      "  warnings.warn(SpearmanRConstantInputWarning())\n"
     ]
    },
    {
     "name": "stdout",
     "output_type": "stream",
     "text": [
      "Fitting 5 folds for each of 100 candidates, totalling 500 fits\n",
      "mean R^2 performance on test data: -0.20802794058904245\n",
      "Permutation 34\n",
      "Fitting 5 folds for each of 100 candidates, totalling 500 fits\n",
      "Fitting 5 folds for each of 100 candidates, totalling 500 fits\n",
      "Fitting 5 folds for each of 100 candidates, totalling 500 fits\n",
      "Fitting 5 folds for each of 100 candidates, totalling 500 fits\n",
      "Fitting 5 folds for each of 100 candidates, totalling 500 fits\n",
      "mean R^2 performance on test data: -0.08641230849216783\n",
      "Permutation 35\n",
      "Fitting 5 folds for each of 100 candidates, totalling 500 fits\n",
      "Fitting 5 folds for each of 100 candidates, totalling 500 fits\n",
      "Fitting 5 folds for each of 100 candidates, totalling 500 fits\n",
      "Fitting 5 folds for each of 100 candidates, totalling 500 fits\n",
      "Fitting 5 folds for each of 100 candidates, totalling 500 fits\n",
      "mean R^2 performance on test data: -0.22904705606761908\n",
      "Permutation 36\n",
      "Fitting 5 folds for each of 100 candidates, totalling 500 fits\n",
      "Fitting 5 folds for each of 100 candidates, totalling 500 fits\n"
     ]
    },
    {
     "name": "stderr",
     "output_type": "stream",
     "text": [
      "/home/ubuntu/anaconda3/lib/python3.8/site-packages/scipy/stats/stats.py:4264: SpearmanRConstantInputWarning: An input array is constant; the correlation coefficent is not defined.\n",
      "  warnings.warn(SpearmanRConstantInputWarning())\n"
     ]
    },
    {
     "name": "stdout",
     "output_type": "stream",
     "text": [
      "Fitting 5 folds for each of 100 candidates, totalling 500 fits\n",
      "Fitting 5 folds for each of 100 candidates, totalling 500 fits\n",
      "Fitting 5 folds for each of 100 candidates, totalling 500 fits\n",
      "mean R^2 performance on test data: 0.05286197773670218\n",
      "Permutation 37\n",
      "Fitting 5 folds for each of 100 candidates, totalling 500 fits\n",
      "Fitting 5 folds for each of 100 candidates, totalling 500 fits\n",
      "Fitting 5 folds for each of 100 candidates, totalling 500 fits\n",
      "Fitting 5 folds for each of 100 candidates, totalling 500 fits\n",
      "Fitting 5 folds for each of 100 candidates, totalling 500 fits\n",
      "mean R^2 performance on test data: -0.12417379737063142\n",
      "Permutation 38\n",
      "Fitting 5 folds for each of 100 candidates, totalling 500 fits\n",
      "Fitting 5 folds for each of 100 candidates, totalling 500 fits\n",
      "Fitting 5 folds for each of 100 candidates, totalling 500 fits\n",
      "Fitting 5 folds for each of 100 candidates, totalling 500 fits\n",
      "Fitting 5 folds for each of 100 candidates, totalling 500 fits\n",
      "mean R^2 performance on test data: -0.05368670787432763\n",
      "Permutation 39\n",
      "Fitting 5 folds for each of 100 candidates, totalling 500 fits\n",
      "Fitting 5 folds for each of 100 candidates, totalling 500 fits\n",
      "Fitting 5 folds for each of 100 candidates, totalling 500 fits\n"
     ]
    },
    {
     "name": "stderr",
     "output_type": "stream",
     "text": [
      "/home/ubuntu/anaconda3/lib/python3.8/site-packages/scipy/stats/stats.py:4264: SpearmanRConstantInputWarning: An input array is constant; the correlation coefficent is not defined.\n",
      "  warnings.warn(SpearmanRConstantInputWarning())\n"
     ]
    },
    {
     "name": "stdout",
     "output_type": "stream",
     "text": [
      "Fitting 5 folds for each of 100 candidates, totalling 500 fits\n",
      "Fitting 5 folds for each of 100 candidates, totalling 500 fits\n",
      "mean R^2 performance on test data: -0.06657540346876692\n",
      "Permutation 40\n",
      "Fitting 5 folds for each of 100 candidates, totalling 500 fits\n",
      "Fitting 5 folds for each of 100 candidates, totalling 500 fits\n",
      "Fitting 5 folds for each of 100 candidates, totalling 500 fits\n",
      "Fitting 5 folds for each of 100 candidates, totalling 500 fits\n",
      "Fitting 5 folds for each of 100 candidates, totalling 500 fits\n",
      "mean R^2 performance on test data: -0.06605821440633945\n",
      "Permutation 41\n",
      "Fitting 5 folds for each of 100 candidates, totalling 500 fits\n",
      "Fitting 5 folds for each of 100 candidates, totalling 500 fits\n",
      "Fitting 5 folds for each of 100 candidates, totalling 500 fits\n",
      "Fitting 5 folds for each of 100 candidates, totalling 500 fits\n",
      "Fitting 5 folds for each of 100 candidates, totalling 500 fits\n",
      "mean R^2 performance on test data: 0.13357090565809276\n",
      "Permutation 42\n",
      "Fitting 5 folds for each of 100 candidates, totalling 500 fits\n",
      "Fitting 5 folds for each of 100 candidates, totalling 500 fits\n",
      "Fitting 5 folds for each of 100 candidates, totalling 500 fits\n",
      "Fitting 5 folds for each of 100 candidates, totalling 500 fits\n",
      "Fitting 5 folds for each of 100 candidates, totalling 500 fits\n",
      "mean R^2 performance on test data: 0.06266222307800262\n",
      "Permutation 43\n",
      "Fitting 5 folds for each of 100 candidates, totalling 500 fits\n",
      "Fitting 5 folds for each of 100 candidates, totalling 500 fits\n",
      "Fitting 5 folds for each of 100 candidates, totalling 500 fits\n",
      "Fitting 5 folds for each of 100 candidates, totalling 500 fits\n",
      "Fitting 5 folds for each of 100 candidates, totalling 500 fits\n",
      "mean R^2 performance on test data: 0.2310752132546698\n",
      "Permutation 44\n",
      "Fitting 5 folds for each of 100 candidates, totalling 500 fits\n",
      "Fitting 5 folds for each of 100 candidates, totalling 500 fits\n",
      "Fitting 5 folds for each of 100 candidates, totalling 500 fits\n",
      "Fitting 5 folds for each of 100 candidates, totalling 500 fits\n",
      "Fitting 5 folds for each of 100 candidates, totalling 500 fits\n",
      "mean R^2 performance on test data: 0.15688276947669055\n",
      "Permutation 45\n",
      "Fitting 5 folds for each of 100 candidates, totalling 500 fits\n",
      "Fitting 5 folds for each of 100 candidates, totalling 500 fits\n",
      "Fitting 5 folds for each of 100 candidates, totalling 500 fits\n",
      "Fitting 5 folds for each of 100 candidates, totalling 500 fits\n",
      "Fitting 5 folds for each of 100 candidates, totalling 500 fits\n",
      "mean R^2 performance on test data: -0.06939491611227466\n",
      "Permutation 46\n",
      "Fitting 5 folds for each of 100 candidates, totalling 500 fits\n",
      "Fitting 5 folds for each of 100 candidates, totalling 500 fits\n"
     ]
    },
    {
     "name": "stderr",
     "output_type": "stream",
     "text": [
      "/home/ubuntu/anaconda3/lib/python3.8/site-packages/scipy/stats/stats.py:4264: SpearmanRConstantInputWarning: An input array is constant; the correlation coefficent is not defined.\n",
      "  warnings.warn(SpearmanRConstantInputWarning())\n"
     ]
    },
    {
     "name": "stdout",
     "output_type": "stream",
     "text": [
      "Fitting 5 folds for each of 100 candidates, totalling 500 fits\n",
      "Fitting 5 folds for each of 100 candidates, totalling 500 fits\n",
      "Fitting 5 folds for each of 100 candidates, totalling 500 fits\n",
      "mean R^2 performance on test data: 0.14059808082231312\n",
      "Permutation 47\n",
      "Fitting 5 folds for each of 100 candidates, totalling 500 fits\n",
      "Fitting 5 folds for each of 100 candidates, totalling 500 fits\n",
      "Fitting 5 folds for each of 100 candidates, totalling 500 fits\n",
      "Fitting 5 folds for each of 100 candidates, totalling 500 fits\n",
      "Fitting 5 folds for each of 100 candidates, totalling 500 fits\n",
      "mean R^2 performance on test data: 0.045981028155827476\n",
      "Permutation 48\n",
      "Fitting 5 folds for each of 100 candidates, totalling 500 fits\n",
      "Fitting 5 folds for each of 100 candidates, totalling 500 fits\n",
      "Fitting 5 folds for each of 100 candidates, totalling 500 fits\n",
      "Fitting 5 folds for each of 100 candidates, totalling 500 fits\n",
      "Fitting 5 folds for each of 100 candidates, totalling 500 fits\n",
      "mean R^2 performance on test data: 0.06158472070369392\n",
      "Permutation 49\n",
      "Fitting 5 folds for each of 100 candidates, totalling 500 fits\n",
      "Fitting 5 folds for each of 100 candidates, totalling 500 fits\n",
      "Fitting 5 folds for each of 100 candidates, totalling 500 fits\n",
      "Fitting 5 folds for each of 100 candidates, totalling 500 fits\n",
      "Fitting 5 folds for each of 100 candidates, totalling 500 fits\n",
      "mean R^2 performance on test data: 0.02119449378764149\n",
      "Permutation 50\n",
      "Fitting 5 folds for each of 100 candidates, totalling 500 fits\n",
      "Fitting 5 folds for each of 100 candidates, totalling 500 fits\n",
      "Fitting 5 folds for each of 100 candidates, totalling 500 fits\n",
      "Fitting 5 folds for each of 100 candidates, totalling 500 fits\n",
      "Fitting 5 folds for each of 100 candidates, totalling 500 fits\n",
      "mean R^2 performance on test data: -0.008096125760893825\n",
      "Permutation 51\n",
      "Fitting 5 folds for each of 100 candidates, totalling 500 fits\n",
      "Fitting 5 folds for each of 100 candidates, totalling 500 fits\n",
      "Fitting 5 folds for each of 100 candidates, totalling 500 fits\n",
      "Fitting 5 folds for each of 100 candidates, totalling 500 fits\n",
      "Fitting 5 folds for each of 100 candidates, totalling 500 fits\n",
      "mean R^2 performance on test data: 0.12023162099795004\n",
      "Permutation 52\n",
      "Fitting 5 folds for each of 100 candidates, totalling 500 fits\n",
      "Fitting 5 folds for each of 100 candidates, totalling 500 fits\n",
      "Fitting 5 folds for each of 100 candidates, totalling 500 fits\n",
      "Fitting 5 folds for each of 100 candidates, totalling 500 fits\n",
      "Fitting 5 folds for each of 100 candidates, totalling 500 fits\n",
      "mean R^2 performance on test data: 0.030981526027346894\n",
      "Permutation 53\n",
      "Fitting 5 folds for each of 100 candidates, totalling 500 fits\n"
     ]
    },
    {
     "name": "stderr",
     "output_type": "stream",
     "text": [
      "/home/ubuntu/anaconda3/lib/python3.8/site-packages/scipy/stats/stats.py:4264: SpearmanRConstantInputWarning: An input array is constant; the correlation coefficent is not defined.\n",
      "  warnings.warn(SpearmanRConstantInputWarning())\n"
     ]
    },
    {
     "name": "stdout",
     "output_type": "stream",
     "text": [
      "Fitting 5 folds for each of 100 candidates, totalling 500 fits\n",
      "Fitting 5 folds for each of 100 candidates, totalling 500 fits\n",
      "Fitting 5 folds for each of 100 candidates, totalling 500 fits\n",
      "Fitting 5 folds for each of 100 candidates, totalling 500 fits\n",
      "mean R^2 performance on test data: 0.06222667354916549\n",
      "Permutation 54\n",
      "Fitting 5 folds for each of 100 candidates, totalling 500 fits\n",
      "Fitting 5 folds for each of 100 candidates, totalling 500 fits\n"
     ]
    },
    {
     "name": "stderr",
     "output_type": "stream",
     "text": [
      "/home/ubuntu/anaconda3/lib/python3.8/site-packages/scipy/stats/stats.py:4264: SpearmanRConstantInputWarning: An input array is constant; the correlation coefficent is not defined.\n",
      "  warnings.warn(SpearmanRConstantInputWarning())\n"
     ]
    },
    {
     "name": "stdout",
     "output_type": "stream",
     "text": [
      "Fitting 5 folds for each of 100 candidates, totalling 500 fits\n"
     ]
    },
    {
     "name": "stderr",
     "output_type": "stream",
     "text": [
      "/home/ubuntu/anaconda3/lib/python3.8/site-packages/scipy/stats/stats.py:4264: SpearmanRConstantInputWarning: An input array is constant; the correlation coefficent is not defined.\n",
      "  warnings.warn(SpearmanRConstantInputWarning())\n"
     ]
    },
    {
     "name": "stdout",
     "output_type": "stream",
     "text": [
      "Fitting 5 folds for each of 100 candidates, totalling 500 fits\n",
      "Fitting 5 folds for each of 100 candidates, totalling 500 fits\n",
      "mean R^2 performance on test data: 0.10589146641345104\n",
      "Permutation 55\n",
      "Fitting 5 folds for each of 100 candidates, totalling 500 fits\n",
      "Fitting 5 folds for each of 100 candidates, totalling 500 fits\n",
      "Fitting 5 folds for each of 100 candidates, totalling 500 fits\n",
      "Fitting 5 folds for each of 100 candidates, totalling 500 fits\n",
      "Fitting 5 folds for each of 100 candidates, totalling 500 fits\n",
      "mean R^2 performance on test data: 0.11180812340634436\n",
      "Permutation 56\n",
      "Fitting 5 folds for each of 100 candidates, totalling 500 fits\n",
      "Fitting 5 folds for each of 100 candidates, totalling 500 fits\n",
      "Fitting 5 folds for each of 100 candidates, totalling 500 fits\n",
      "Fitting 5 folds for each of 100 candidates, totalling 500 fits\n"
     ]
    },
    {
     "name": "stderr",
     "output_type": "stream",
     "text": [
      "/home/ubuntu/anaconda3/lib/python3.8/site-packages/scipy/stats/stats.py:4264: SpearmanRConstantInputWarning: An input array is constant; the correlation coefficent is not defined.\n",
      "  warnings.warn(SpearmanRConstantInputWarning())\n"
     ]
    },
    {
     "name": "stdout",
     "output_type": "stream",
     "text": [
      "Fitting 5 folds for each of 100 candidates, totalling 500 fits\n",
      "mean R^2 performance on test data: 0.04189351411884288\n",
      "Permutation 57\n",
      "Fitting 5 folds for each of 100 candidates, totalling 500 fits\n",
      "Fitting 5 folds for each of 100 candidates, totalling 500 fits\n",
      "Fitting 5 folds for each of 100 candidates, totalling 500 fits\n",
      "Fitting 5 folds for each of 100 candidates, totalling 500 fits\n",
      "Fitting 5 folds for each of 100 candidates, totalling 500 fits\n",
      "mean R^2 performance on test data: 0.05751685287556134\n",
      "Permutation 58\n",
      "Fitting 5 folds for each of 100 candidates, totalling 500 fits\n",
      "Fitting 5 folds for each of 100 candidates, totalling 500 fits\n",
      "Fitting 5 folds for each of 100 candidates, totalling 500 fits\n",
      "Fitting 5 folds for each of 100 candidates, totalling 500 fits\n",
      "Fitting 5 folds for each of 100 candidates, totalling 500 fits\n",
      "mean R^2 performance on test data: -0.13144164562405938\n",
      "Permutation 59\n"
     ]
    },
    {
     "name": "stderr",
     "output_type": "stream",
     "text": [
      "/home/ubuntu/anaconda3/lib/python3.8/site-packages/scipy/stats/stats.py:4264: SpearmanRConstantInputWarning: An input array is constant; the correlation coefficent is not defined.\n",
      "  warnings.warn(SpearmanRConstantInputWarning())\n"
     ]
    },
    {
     "name": "stdout",
     "output_type": "stream",
     "text": [
      "Fitting 5 folds for each of 100 candidates, totalling 500 fits\n",
      "Fitting 5 folds for each of 100 candidates, totalling 500 fits\n",
      "Fitting 5 folds for each of 100 candidates, totalling 500 fits\n",
      "Fitting 5 folds for each of 100 candidates, totalling 500 fits\n",
      "Fitting 5 folds for each of 100 candidates, totalling 500 fits\n",
      "mean R^2 performance on test data: 0.1356781465409747\n",
      "Permutation 60\n",
      "Fitting 5 folds for each of 100 candidates, totalling 500 fits\n",
      "Fitting 5 folds for each of 100 candidates, totalling 500 fits\n"
     ]
    },
    {
     "name": "stderr",
     "output_type": "stream",
     "text": [
      "/home/ubuntu/anaconda3/lib/python3.8/site-packages/scipy/stats/stats.py:4264: SpearmanRConstantInputWarning: An input array is constant; the correlation coefficent is not defined.\n",
      "  warnings.warn(SpearmanRConstantInputWarning())\n"
     ]
    },
    {
     "name": "stdout",
     "output_type": "stream",
     "text": [
      "Fitting 5 folds for each of 100 candidates, totalling 500 fits\n",
      "Fitting 5 folds for each of 100 candidates, totalling 500 fits\n",
      "Fitting 5 folds for each of 100 candidates, totalling 500 fits\n",
      "mean R^2 performance on test data: 0.21380144625890143\n",
      "Permutation 61\n",
      "Fitting 5 folds for each of 100 candidates, totalling 500 fits\n",
      "Fitting 5 folds for each of 100 candidates, totalling 500 fits\n",
      "Fitting 5 folds for each of 100 candidates, totalling 500 fits\n",
      "Fitting 5 folds for each of 100 candidates, totalling 500 fits\n",
      "Fitting 5 folds for each of 100 candidates, totalling 500 fits\n",
      "mean R^2 performance on test data: 0.07594829796964105\n",
      "Permutation 62\n",
      "Fitting 5 folds for each of 100 candidates, totalling 500 fits\n",
      "Fitting 5 folds for each of 100 candidates, totalling 500 fits\n",
      "Fitting 5 folds for each of 100 candidates, totalling 500 fits\n",
      "Fitting 5 folds for each of 100 candidates, totalling 500 fits\n",
      "Fitting 5 folds for each of 100 candidates, totalling 500 fits\n",
      "mean R^2 performance on test data: -0.17812632357075264\n",
      "Permutation 63\n",
      "Fitting 5 folds for each of 100 candidates, totalling 500 fits\n",
      "Fitting 5 folds for each of 100 candidates, totalling 500 fits\n",
      "Fitting 5 folds for each of 100 candidates, totalling 500 fits\n",
      "Fitting 5 folds for each of 100 candidates, totalling 500 fits\n",
      "Fitting 5 folds for each of 100 candidates, totalling 500 fits\n",
      "mean R^2 performance on test data: 0.1344832485210857\n",
      "Permutation 64\n",
      "Fitting 5 folds for each of 100 candidates, totalling 500 fits\n",
      "Fitting 5 folds for each of 100 candidates, totalling 500 fits\n",
      "Fitting 5 folds for each of 100 candidates, totalling 500 fits\n"
     ]
    },
    {
     "name": "stderr",
     "output_type": "stream",
     "text": [
      "/home/ubuntu/anaconda3/lib/python3.8/site-packages/scipy/stats/stats.py:4264: SpearmanRConstantInputWarning: An input array is constant; the correlation coefficent is not defined.\n",
      "  warnings.warn(SpearmanRConstantInputWarning())\n"
     ]
    },
    {
     "name": "stdout",
     "output_type": "stream",
     "text": [
      "Fitting 5 folds for each of 100 candidates, totalling 500 fits\n",
      "Fitting 5 folds for each of 100 candidates, totalling 500 fits\n",
      "mean R^2 performance on test data: 0.1640261282602525\n",
      "Permutation 65\n",
      "Fitting 5 folds for each of 100 candidates, totalling 500 fits\n",
      "Fitting 5 folds for each of 100 candidates, totalling 500 fits\n",
      "Fitting 5 folds for each of 100 candidates, totalling 500 fits\n",
      "Fitting 5 folds for each of 100 candidates, totalling 500 fits\n",
      "Fitting 5 folds for each of 100 candidates, totalling 500 fits\n",
      "mean R^2 performance on test data: 0.2285453262884582\n",
      "Permutation 66\n",
      "Fitting 5 folds for each of 100 candidates, totalling 500 fits\n",
      "Fitting 5 folds for each of 100 candidates, totalling 500 fits\n",
      "Fitting 5 folds for each of 100 candidates, totalling 500 fits\n",
      "Fitting 5 folds for each of 100 candidates, totalling 500 fits\n",
      "Fitting 5 folds for each of 100 candidates, totalling 500 fits\n",
      "mean R^2 performance on test data: -0.010488578489293165\n",
      "Permutation 67\n",
      "Fitting 5 folds for each of 100 candidates, totalling 500 fits\n"
     ]
    },
    {
     "name": "stderr",
     "output_type": "stream",
     "text": [
      "/home/ubuntu/anaconda3/lib/python3.8/site-packages/scipy/stats/stats.py:4264: SpearmanRConstantInputWarning: An input array is constant; the correlation coefficent is not defined.\n",
      "  warnings.warn(SpearmanRConstantInputWarning())\n"
     ]
    },
    {
     "name": "stdout",
     "output_type": "stream",
     "text": [
      "Fitting 5 folds for each of 100 candidates, totalling 500 fits\n",
      "Fitting 5 folds for each of 100 candidates, totalling 500 fits\n",
      "Fitting 5 folds for each of 100 candidates, totalling 500 fits\n",
      "Fitting 5 folds for each of 100 candidates, totalling 500 fits\n",
      "mean R^2 performance on test data: 0.0009339946229704133\n",
      "Permutation 68\n",
      "Fitting 5 folds for each of 100 candidates, totalling 500 fits\n",
      "Fitting 5 folds for each of 100 candidates, totalling 500 fits\n",
      "Fitting 5 folds for each of 100 candidates, totalling 500 fits\n",
      "Fitting 5 folds for each of 100 candidates, totalling 500 fits\n",
      "Fitting 5 folds for each of 100 candidates, totalling 500 fits\n",
      "mean R^2 performance on test data: 0.10059860069498934\n",
      "Permutation 69\n",
      "Fitting 5 folds for each of 100 candidates, totalling 500 fits\n",
      "Fitting 5 folds for each of 100 candidates, totalling 500 fits\n",
      "Fitting 5 folds for each of 100 candidates, totalling 500 fits\n",
      "Fitting 5 folds for each of 100 candidates, totalling 500 fits\n",
      "Fitting 5 folds for each of 100 candidates, totalling 500 fits\n",
      "mean R^2 performance on test data: 0.0685076526470751\n",
      "Permutation 70\n",
      "Fitting 5 folds for each of 100 candidates, totalling 500 fits\n",
      "Fitting 5 folds for each of 100 candidates, totalling 500 fits\n",
      "Fitting 5 folds for each of 100 candidates, totalling 500 fits\n",
      "Fitting 5 folds for each of 100 candidates, totalling 500 fits\n",
      "Fitting 5 folds for each of 100 candidates, totalling 500 fits\n",
      "mean R^2 performance on test data: 0.11285819993007237\n",
      "Permutation 71\n",
      "Fitting 5 folds for each of 100 candidates, totalling 500 fits\n",
      "Fitting 5 folds for each of 100 candidates, totalling 500 fits\n",
      "Fitting 5 folds for each of 100 candidates, totalling 500 fits\n",
      "Fitting 5 folds for each of 100 candidates, totalling 500 fits\n",
      "Fitting 5 folds for each of 100 candidates, totalling 500 fits\n",
      "mean R^2 performance on test data: 0.03776192632465123\n",
      "Permutation 72\n",
      "Fitting 5 folds for each of 100 candidates, totalling 500 fits\n",
      "Fitting 5 folds for each of 100 candidates, totalling 500 fits\n",
      "Fitting 5 folds for each of 100 candidates, totalling 500 fits\n",
      "Fitting 5 folds for each of 100 candidates, totalling 500 fits\n",
      "Fitting 5 folds for each of 100 candidates, totalling 500 fits\n",
      "mean R^2 performance on test data: -0.10466841001290483\n",
      "Permutation 73\n",
      "Fitting 5 folds for each of 100 candidates, totalling 500 fits\n",
      "Fitting 5 folds for each of 100 candidates, totalling 500 fits\n",
      "Fitting 5 folds for each of 100 candidates, totalling 500 fits\n"
     ]
    },
    {
     "name": "stderr",
     "output_type": "stream",
     "text": [
      "/home/ubuntu/anaconda3/lib/python3.8/site-packages/scipy/stats/stats.py:4264: SpearmanRConstantInputWarning: An input array is constant; the correlation coefficent is not defined.\n",
      "  warnings.warn(SpearmanRConstantInputWarning())\n"
     ]
    },
    {
     "name": "stdout",
     "output_type": "stream",
     "text": [
      "Fitting 5 folds for each of 100 candidates, totalling 500 fits\n",
      "Fitting 5 folds for each of 100 candidates, totalling 500 fits\n",
      "mean R^2 performance on test data: 0.050456283189377116\n",
      "Permutation 74\n",
      "Fitting 5 folds for each of 100 candidates, totalling 500 fits\n",
      "Fitting 5 folds for each of 100 candidates, totalling 500 fits\n",
      "Fitting 5 folds for each of 100 candidates, totalling 500 fits\n",
      "Fitting 5 folds for each of 100 candidates, totalling 500 fits\n",
      "Fitting 5 folds for each of 100 candidates, totalling 500 fits\n",
      "mean R^2 performance on test data: 0.1092470853771027\n",
      "Permutation 75\n",
      "Fitting 5 folds for each of 100 candidates, totalling 500 fits\n",
      "Fitting 5 folds for each of 100 candidates, totalling 500 fits\n"
     ]
    },
    {
     "name": "stderr",
     "output_type": "stream",
     "text": [
      "/home/ubuntu/anaconda3/lib/python3.8/site-packages/scipy/stats/stats.py:4264: SpearmanRConstantInputWarning: An input array is constant; the correlation coefficent is not defined.\n",
      "  warnings.warn(SpearmanRConstantInputWarning())\n"
     ]
    },
    {
     "name": "stdout",
     "output_type": "stream",
     "text": [
      "Fitting 5 folds for each of 100 candidates, totalling 500 fits\n",
      "Fitting 5 folds for each of 100 candidates, totalling 500 fits\n",
      "Fitting 5 folds for each of 100 candidates, totalling 500 fits\n",
      "mean R^2 performance on test data: 0.054963752798677865\n",
      "Permutation 76\n",
      "Fitting 5 folds for each of 100 candidates, totalling 500 fits\n",
      "Fitting 5 folds for each of 100 candidates, totalling 500 fits\n",
      "Fitting 5 folds for each of 100 candidates, totalling 500 fits\n",
      "Fitting 5 folds for each of 100 candidates, totalling 500 fits\n",
      "Fitting 5 folds for each of 100 candidates, totalling 500 fits\n",
      "mean R^2 performance on test data: -0.30986835965746085\n",
      "Permutation 77\n",
      "Fitting 5 folds for each of 100 candidates, totalling 500 fits\n",
      "Fitting 5 folds for each of 100 candidates, totalling 500 fits\n",
      "Fitting 5 folds for each of 100 candidates, totalling 500 fits\n",
      "Fitting 5 folds for each of 100 candidates, totalling 500 fits\n",
      "Fitting 5 folds for each of 100 candidates, totalling 500 fits\n",
      "mean R^2 performance on test data: -0.25766076315150743\n",
      "Permutation 78\n",
      "Fitting 5 folds for each of 100 candidates, totalling 500 fits\n"
     ]
    },
    {
     "name": "stderr",
     "output_type": "stream",
     "text": [
      "/home/ubuntu/anaconda3/lib/python3.8/site-packages/scipy/stats/stats.py:4264: SpearmanRConstantInputWarning: An input array is constant; the correlation coefficent is not defined.\n",
      "  warnings.warn(SpearmanRConstantInputWarning())\n"
     ]
    },
    {
     "name": "stdout",
     "output_type": "stream",
     "text": [
      "Fitting 5 folds for each of 100 candidates, totalling 500 fits\n",
      "Fitting 5 folds for each of 100 candidates, totalling 500 fits\n",
      "Fitting 5 folds for each of 100 candidates, totalling 500 fits\n",
      "Fitting 5 folds for each of 100 candidates, totalling 500 fits\n",
      "mean R^2 performance on test data: 0.04068144308381701\n",
      "Permutation 79\n",
      "Fitting 5 folds for each of 100 candidates, totalling 500 fits\n",
      "Fitting 5 folds for each of 100 candidates, totalling 500 fits\n",
      "Fitting 5 folds for each of 100 candidates, totalling 500 fits\n",
      "Fitting 5 folds for each of 100 candidates, totalling 500 fits\n",
      "Fitting 5 folds for each of 100 candidates, totalling 500 fits\n",
      "mean R^2 performance on test data: 0.10051729731093337\n",
      "Permutation 80\n",
      "Fitting 5 folds for each of 100 candidates, totalling 500 fits\n",
      "Fitting 5 folds for each of 100 candidates, totalling 500 fits\n",
      "Fitting 5 folds for each of 100 candidates, totalling 500 fits\n",
      "Fitting 5 folds for each of 100 candidates, totalling 500 fits\n",
      "Fitting 5 folds for each of 100 candidates, totalling 500 fits\n",
      "mean R^2 performance on test data: -0.05564866960337942\n",
      "Permutation 81\n",
      "Fitting 5 folds for each of 100 candidates, totalling 500 fits\n",
      "Fitting 5 folds for each of 100 candidates, totalling 500 fits\n",
      "Fitting 5 folds for each of 100 candidates, totalling 500 fits\n"
     ]
    },
    {
     "name": "stderr",
     "output_type": "stream",
     "text": [
      "/home/ubuntu/anaconda3/lib/python3.8/site-packages/scipy/stats/stats.py:4264: SpearmanRConstantInputWarning: An input array is constant; the correlation coefficent is not defined.\n",
      "  warnings.warn(SpearmanRConstantInputWarning())\n"
     ]
    },
    {
     "name": "stdout",
     "output_type": "stream",
     "text": [
      "Fitting 5 folds for each of 100 candidates, totalling 500 fits\n",
      "Fitting 5 folds for each of 100 candidates, totalling 500 fits\n",
      "mean R^2 performance on test data: 0.13105599296144566\n",
      "Permutation 82\n",
      "Fitting 5 folds for each of 100 candidates, totalling 500 fits\n",
      "Fitting 5 folds for each of 100 candidates, totalling 500 fits\n",
      "Fitting 5 folds for each of 100 candidates, totalling 500 fits\n",
      "Fitting 5 folds for each of 100 candidates, totalling 500 fits\n",
      "Fitting 5 folds for each of 100 candidates, totalling 500 fits\n",
      "mean R^2 performance on test data: 0.06347569074202919\n",
      "Permutation 83\n",
      "Fitting 5 folds for each of 100 candidates, totalling 500 fits\n",
      "Fitting 5 folds for each of 100 candidates, totalling 500 fits\n",
      "Fitting 5 folds for each of 100 candidates, totalling 500 fits\n",
      "Fitting 5 folds for each of 100 candidates, totalling 500 fits\n",
      "Fitting 5 folds for each of 100 candidates, totalling 500 fits\n",
      "mean R^2 performance on test data: 0.1222032818520015\n",
      "Permutation 84\n",
      "Fitting 5 folds for each of 100 candidates, totalling 500 fits\n",
      "Fitting 5 folds for each of 100 candidates, totalling 500 fits\n",
      "Fitting 5 folds for each of 100 candidates, totalling 500 fits\n",
      "Fitting 5 folds for each of 100 candidates, totalling 500 fits\n",
      "Fitting 5 folds for each of 100 candidates, totalling 500 fits\n",
      "mean R^2 performance on test data: 0.0943088027347363\n",
      "Permutation 85\n",
      "Fitting 5 folds for each of 100 candidates, totalling 500 fits\n",
      "Fitting 5 folds for each of 100 candidates, totalling 500 fits\n",
      "Fitting 5 folds for each of 100 candidates, totalling 500 fits\n",
      "Fitting 5 folds for each of 100 candidates, totalling 500 fits\n",
      "Fitting 5 folds for each of 100 candidates, totalling 500 fits\n",
      "mean R^2 performance on test data: 0.09478931754084759\n",
      "Permutation 86\n",
      "Fitting 5 folds for each of 100 candidates, totalling 500 fits\n",
      "Fitting 5 folds for each of 100 candidates, totalling 500 fits\n",
      "Fitting 5 folds for each of 100 candidates, totalling 500 fits\n",
      "Fitting 5 folds for each of 100 candidates, totalling 500 fits\n",
      "Fitting 5 folds for each of 100 candidates, totalling 500 fits\n",
      "mean R^2 performance on test data: -0.17295338511132727\n",
      "Permutation 87\n",
      "Fitting 5 folds for each of 100 candidates, totalling 500 fits\n",
      "Fitting 5 folds for each of 100 candidates, totalling 500 fits\n"
     ]
    },
    {
     "name": "stderr",
     "output_type": "stream",
     "text": [
      "/home/ubuntu/anaconda3/lib/python3.8/site-packages/scipy/stats/stats.py:4264: SpearmanRConstantInputWarning: An input array is constant; the correlation coefficent is not defined.\n",
      "  warnings.warn(SpearmanRConstantInputWarning())\n"
     ]
    },
    {
     "name": "stdout",
     "output_type": "stream",
     "text": [
      "Fitting 5 folds for each of 100 candidates, totalling 500 fits\n",
      "Fitting 5 folds for each of 100 candidates, totalling 500 fits\n",
      "Fitting 5 folds for each of 100 candidates, totalling 500 fits\n",
      "mean R^2 performance on test data: 0.029888335803308342\n",
      "Permutation 88\n",
      "Fitting 5 folds for each of 100 candidates, totalling 500 fits\n"
     ]
    },
    {
     "name": "stderr",
     "output_type": "stream",
     "text": [
      "/home/ubuntu/anaconda3/lib/python3.8/site-packages/scipy/stats/stats.py:4264: SpearmanRConstantInputWarning: An input array is constant; the correlation coefficent is not defined.\n",
      "  warnings.warn(SpearmanRConstantInputWarning())\n"
     ]
    },
    {
     "name": "stdout",
     "output_type": "stream",
     "text": [
      "Fitting 5 folds for each of 100 candidates, totalling 500 fits\n",
      "Fitting 5 folds for each of 100 candidates, totalling 500 fits\n",
      "Fitting 5 folds for each of 100 candidates, totalling 500 fits\n",
      "Fitting 5 folds for each of 100 candidates, totalling 500 fits\n",
      "mean R^2 performance on test data: 0.0689802288530926\n",
      "Permutation 89\n",
      "Fitting 5 folds for each of 100 candidates, totalling 500 fits\n",
      "Fitting 5 folds for each of 100 candidates, totalling 500 fits\n",
      "Fitting 5 folds for each of 100 candidates, totalling 500 fits\n",
      "Fitting 5 folds for each of 100 candidates, totalling 500 fits\n",
      "Fitting 5 folds for each of 100 candidates, totalling 500 fits\n",
      "mean R^2 performance on test data: 0.1293262849851071\n",
      "Permutation 90\n",
      "Fitting 5 folds for each of 100 candidates, totalling 500 fits\n",
      "Fitting 5 folds for each of 100 candidates, totalling 500 fits\n"
     ]
    },
    {
     "name": "stderr",
     "output_type": "stream",
     "text": [
      "/home/ubuntu/anaconda3/lib/python3.8/site-packages/scipy/stats/stats.py:4264: SpearmanRConstantInputWarning: An input array is constant; the correlation coefficent is not defined.\n",
      "  warnings.warn(SpearmanRConstantInputWarning())\n"
     ]
    },
    {
     "name": "stdout",
     "output_type": "stream",
     "text": [
      "Fitting 5 folds for each of 100 candidates, totalling 500 fits\n",
      "Fitting 5 folds for each of 100 candidates, totalling 500 fits\n",
      "Fitting 5 folds for each of 100 candidates, totalling 500 fits\n",
      "mean R^2 performance on test data: 0.20283498143559217\n",
      "Permutation 91\n",
      "Fitting 5 folds for each of 100 candidates, totalling 500 fits\n",
      "Fitting 5 folds for each of 100 candidates, totalling 500 fits\n",
      "Fitting 5 folds for each of 100 candidates, totalling 500 fits\n",
      "Fitting 5 folds for each of 100 candidates, totalling 500 fits\n",
      "Fitting 5 folds for each of 100 candidates, totalling 500 fits\n",
      "mean R^2 performance on test data: 0.025933458033206437\n",
      "Permutation 92\n",
      "Fitting 5 folds for each of 100 candidates, totalling 500 fits\n"
     ]
    },
    {
     "name": "stderr",
     "output_type": "stream",
     "text": [
      "/home/ubuntu/anaconda3/lib/python3.8/site-packages/scipy/stats/stats.py:4264: SpearmanRConstantInputWarning: An input array is constant; the correlation coefficent is not defined.\n",
      "  warnings.warn(SpearmanRConstantInputWarning())\n"
     ]
    },
    {
     "name": "stdout",
     "output_type": "stream",
     "text": [
      "Fitting 5 folds for each of 100 candidates, totalling 500 fits\n",
      "Fitting 5 folds for each of 100 candidates, totalling 500 fits\n",
      "Fitting 5 folds for each of 100 candidates, totalling 500 fits\n",
      "Fitting 5 folds for each of 100 candidates, totalling 500 fits\n",
      "mean R^2 performance on test data: -0.006871117870792998\n",
      "Permutation 93\n",
      "Fitting 5 folds for each of 100 candidates, totalling 500 fits\n"
     ]
    },
    {
     "name": "stderr",
     "output_type": "stream",
     "text": [
      "/home/ubuntu/anaconda3/lib/python3.8/site-packages/scipy/stats/stats.py:4264: SpearmanRConstantInputWarning: An input array is constant; the correlation coefficent is not defined.\n",
      "  warnings.warn(SpearmanRConstantInputWarning())\n"
     ]
    },
    {
     "name": "stdout",
     "output_type": "stream",
     "text": [
      "Fitting 5 folds for each of 100 candidates, totalling 500 fits\n",
      "Fitting 5 folds for each of 100 candidates, totalling 500 fits\n",
      "Fitting 5 folds for each of 100 candidates, totalling 500 fits\n",
      "Fitting 5 folds for each of 100 candidates, totalling 500 fits\n",
      "mean R^2 performance on test data: -0.004347188536057578\n",
      "Permutation 94\n",
      "Fitting 5 folds for each of 100 candidates, totalling 500 fits\n",
      "Fitting 5 folds for each of 100 candidates, totalling 500 fits\n",
      "Fitting 5 folds for each of 100 candidates, totalling 500 fits\n",
      "Fitting 5 folds for each of 100 candidates, totalling 500 fits\n",
      "Fitting 5 folds for each of 100 candidates, totalling 500 fits\n",
      "mean R^2 performance on test data: 0.11973993887252629\n",
      "Permutation 95\n",
      "Fitting 5 folds for each of 100 candidates, totalling 500 fits\n",
      "Fitting 5 folds for each of 100 candidates, totalling 500 fits\n",
      "Fitting 5 folds for each of 100 candidates, totalling 500 fits\n",
      "Fitting 5 folds for each of 100 candidates, totalling 500 fits\n",
      "Fitting 5 folds for each of 100 candidates, totalling 500 fits\n",
      "mean R^2 performance on test data: -0.05890501596791804\n",
      "Permutation 96\n",
      "Fitting 5 folds for each of 100 candidates, totalling 500 fits\n",
      "Fitting 5 folds for each of 100 candidates, totalling 500 fits\n",
      "Fitting 5 folds for each of 100 candidates, totalling 500 fits\n",
      "Fitting 5 folds for each of 100 candidates, totalling 500 fits\n",
      "Fitting 5 folds for each of 100 candidates, totalling 500 fits\n",
      "mean R^2 performance on test data: 0.15673471023847954\n",
      "Permutation 97\n",
      "Fitting 5 folds for each of 100 candidates, totalling 500 fits\n",
      "Fitting 5 folds for each of 100 candidates, totalling 500 fits\n",
      "Fitting 5 folds for each of 100 candidates, totalling 500 fits\n",
      "Fitting 5 folds for each of 100 candidates, totalling 500 fits\n",
      "Fitting 5 folds for each of 100 candidates, totalling 500 fits\n",
      "mean R^2 performance on test data: -0.004167784994472412\n",
      "Permutation 98\n",
      "Fitting 5 folds for each of 100 candidates, totalling 500 fits\n",
      "Fitting 5 folds for each of 100 candidates, totalling 500 fits\n",
      "Fitting 5 folds for each of 100 candidates, totalling 500 fits\n",
      "Fitting 5 folds for each of 100 candidates, totalling 500 fits\n",
      "Fitting 5 folds for each of 100 candidates, totalling 500 fits\n",
      "mean R^2 performance on test data: 0.1811989258175606\n",
      "Permutation 99\n",
      "Fitting 5 folds for each of 100 candidates, totalling 500 fits\n",
      "Fitting 5 folds for each of 100 candidates, totalling 500 fits\n",
      "Fitting 5 folds for each of 100 candidates, totalling 500 fits\n",
      "Fitting 5 folds for each of 100 candidates, totalling 500 fits\n",
      "Fitting 5 folds for each of 100 candidates, totalling 500 fits\n",
      "mean R^2 performance on test data: -0.20144024543788497\n",
      "Permutation 100\n",
      "Fitting 5 folds for each of 100 candidates, totalling 500 fits\n",
      "Fitting 5 folds for each of 100 candidates, totalling 500 fits\n",
      "Fitting 5 folds for each of 100 candidates, totalling 500 fits\n",
      "Fitting 5 folds for each of 100 candidates, totalling 500 fits\n"
     ]
    },
    {
     "name": "stderr",
     "output_type": "stream",
     "text": [
      "/home/ubuntu/anaconda3/lib/python3.8/site-packages/scipy/stats/stats.py:4264: SpearmanRConstantInputWarning: An input array is constant; the correlation coefficent is not defined.\n",
      "  warnings.warn(SpearmanRConstantInputWarning())\n"
     ]
    },
    {
     "name": "stdout",
     "output_type": "stream",
     "text": [
      "Fitting 5 folds for each of 100 candidates, totalling 500 fits\n",
      "mean R^2 performance on test data: 0.04791401283729748\n"
     ]
    }
   ],
   "source": [
    "#number of permutations\n",
    "perms=100\n",
    "sc_scores_perms=[]\n",
    "cog = 0\n",
    "\n",
    "print(\"Cognition: \", cognition[cog])\n",
    "for p in range(perms): #iterate permutations\n",
    "\n",
    "    #joblib-based parallelism to increase speed\n",
    "    with parallel_backend('loky', n_jobs=16):\n",
    "        \n",
    "        #print permutation # you're on\n",
    "        print('Permutation %d' %(p+1))\n",
    "        outer_cv = KFold(n_splits=k, shuffle=True, random_state=p)\n",
    "\n",
    "        #Splitting the dataset into a hold-out test set and training set for model selection.\n",
    "        #x, x_test, y, y_test = train_test_split(X, Y, test_size=1-train_size, shuffle=True, random_state=p)\n",
    "        scores_cv=[]\n",
    "        for train_idx, test_idx in outer_cv.split(X,Y):\n",
    "            x = X[train_idx]\n",
    "            y = Y[train_idx]\n",
    "            x_test = X[test_idx]\n",
    "            y_test = Y[test_idx]\n",
    "\n",
    "            # only test one cog score at a time\n",
    "            y = y[:,cog]\n",
    "            y_test = y_test[:,cog]\n",
    "\n",
    "            #store all the y_test values in a separate variable that can be accessed later if needed\n",
    "            #cogtest[cog,:] = y_test\n",
    "\n",
    "            #create variables to store nested CV scores, and best parameters from hyperparameter optimisation\n",
    "            nested_scores = []\n",
    "            best_params = []\n",
    "\n",
    "            #Normalize training and test data using scaler fit to training data    \n",
    "            scaler = preprocessing.StandardScaler().fit(x)\n",
    "            x = scaler.transform(x)\n",
    "            x_test = scaler.transform(x_test)\n",
    "\n",
    "            # Feature selection: use only the top 40 SC edges based on correlation of training features with cognitive score\n",
    "            correl=[]\n",
    "            for i in range(0, x.shape[1]):\n",
    "                correl.append(abs(spearmanr(x[:,i], y)[0]))\n",
    "            ind = np.argpartition(correl, -40)[-40:]\n",
    "            x=x[:,ind]\n",
    "            \n",
    "            x_test=x_test[:,ind]\n",
    "\n",
    "            #print(\"Size of X: \" + str(x.shape))\n",
    "            #print(\"Size of y: \" + str(y.shape))\n",
    "\n",
    "            #set parameters for inner loop for CV\n",
    "            inner_cv = KFold(n_splits=k, shuffle=True, random_state=p)\n",
    "\n",
    "            # Initializing regression model\n",
    "            regr = linear_model.Ridge(normalize=True, max_iter=1000000)\n",
    "\n",
    "            #set hyperparameter grid space you want to search through for the model\n",
    "            alphas = np.logspace(-2,2, num=100, endpoint=True,base=10, axis=0)\n",
    "            paramGrid = {'alpha': alphas}    \n",
    "\n",
    "            # regression scoring metrics\n",
    "            scores = {\"R-squared\": \"r2\", \"mse\":'neg_mean_squared_error'}\n",
    "\n",
    "            # Set up GridSearchCV object\n",
    "            gcv = GridSearchCV(estimator=regr,\n",
    "                                   param_grid=paramGrid,\n",
    "                                   scoring=scores,\n",
    "                                   n_jobs=16,\n",
    "                                   cv=inner_cv,\n",
    "                                   return_train_score=True,\n",
    "                                   verbose=0,\n",
    "                                   refit=\"R-squared\")\n",
    "\n",
    "            #print(\"Starting inner loops\" )\n",
    "            # perform model selection (inner loop)\n",
    "            gcv.fit(x, y) \n",
    "\n",
    "            # Save opt. alpha\n",
    "            best_params.append(list(gcv.best_params_.values()))\n",
    "            \n",
    "            # Get the best estimator on the whole training set\n",
    "            best_model = gcv.best_estimator_\n",
    "            \n",
    "            #print(\"Testing model on hold-out data...\")\n",
    "            # evaluate model on the hold out dataset\n",
    "            yhat = best_model.predict(x_test)\n",
    "        \n",
    "            #save optimised alpha values - choose it to be the value corresponding to the median nested score\n",
    "            #can also use np.max(nested_scores) to choose parameter corresponding to best nested score but might risk overfitting\n",
    "            # opt_alpha[cog] = best_params\n",
    "            #print(yhat.shape)\n",
    "            #print(y_test.shape)\n",
    "            \n",
    "            #print(\"score: \"+ str(gcv.score(x_test, y_test)))\n",
    "            scores_cv.append(gcv.score(x_test,y_test))\n",
    "            \n",
    "        print(\"mean R^2 performance on test data: \" + str(np.mean(scores_cv)))\n",
    "        sc_scores_perms.append(np.mean(scores_cv))\n",
    "            "
   ]
  },
  {
   "cell_type": "code",
   "execution_count": null,
   "id": "0878941b",
   "metadata": {},
   "outputs": [
    {
     "name": "stdout",
     "output_type": "stream",
     "text": [
      "Cognition:  TMT\n",
      "Permutation 1\n",
      "mean R^2 performance on test data: -0.038729139284281636\n",
      "Permutation 2\n",
      "mean R^2 performance on test data: 0.17981758312078402\n",
      "Permutation 3\n",
      "mean R^2 performance on test data: 0.06171202053813925\n",
      "Permutation 4\n",
      "mean R^2 performance on test data: -0.03354445666576853\n",
      "Permutation 5\n",
      "mean R^2 performance on test data: 0.07155347286230036\n",
      "Permutation 6\n",
      "mean R^2 performance on test data: -0.10406485278046354\n",
      "Permutation 7\n",
      "mean R^2 performance on test data: -0.055318612673401324\n",
      "Permutation 8\n",
      "mean R^2 performance on test data: 0.06234173804461256\n",
      "Permutation 9\n",
      "mean R^2 performance on test data: -0.07899186259496141\n",
      "Permutation 10\n",
      "mean R^2 performance on test data: -0.03731415083383656\n",
      "Permutation 11\n",
      "mean R^2 performance on test data: -0.1417357673459993\n",
      "Permutation 12\n",
      "mean R^2 performance on test data: 0.022372173296347796\n",
      "Permutation 13\n",
      "mean R^2 performance on test data: 0.06702348784429983\n",
      "Permutation 14\n",
      "mean R^2 performance on test data: 0.06370142995832517\n",
      "Permutation 15\n",
      "mean R^2 performance on test data: -0.04609358121289016\n",
      "Permutation 16\n",
      "mean R^2 performance on test data: -0.11298967268415203\n",
      "Permutation 17\n",
      "mean R^2 performance on test data: 0.024990836468671507\n",
      "Permutation 18\n",
      "mean R^2 performance on test data: 0.005361388008815959\n",
      "Permutation 19\n"
     ]
    }
   ],
   "source": [
    "#FC \n",
    "\n",
    "#number of permutations\n",
    "perms=100\n",
    "fc_scores_perms=[]\n",
    "cog = 0\n",
    "\n",
    "print(\"Cognition: \", cognition[cog])\n",
    "for p in range(perms): #iterate permutations\n",
    "\n",
    "    #joblib-based parallelism to increase speed\n",
    "    with parallel_backend('loky', n_jobs=16):\n",
    "        \n",
    "        #print permutation # you're on\n",
    "        print('Permutation %d' %(p+1))\n",
    "        outer_cv = KFold(n_splits=k, shuffle=True, random_state=p)\n",
    "\n",
    "        #Splitting the dataset into a hold-out test set and training set for model selection.\n",
    "        #x, x_test, y, y_test = train_test_split(X, Y, test_size=1-train_size, shuffle=True, random_state=p)\n",
    "        scores_cv=[]\n",
    "        for train_idx, test_idx in outer_cv.split(X,Y):\n",
    "            x = X[train_idx]\n",
    "            y = Y[train_idx]\n",
    "            x_test = X[test_idx]\n",
    "            y_test = Y[test_idx]\n",
    "\n",
    "            # only test one cog score at a time\n",
    "            y = y[:,cog]\n",
    "            y_test = y_test[:,cog]\n",
    "\n",
    "            #store all the y_test values in a separate variable that can be accessed later if needed\n",
    "            #cogtest[cog,:] = y_test\n",
    "\n",
    "            #create variables to store nested CV scores, and best parameters from hyperparameter optimisation\n",
    "            nested_scores = []\n",
    "            best_params = []\n",
    "\n",
    "            #Normalize training and test data using scaler fit to training data    \n",
    "            scaler = preprocessing.StandardScaler().fit(x)\n",
    "            x = scaler.transform(x)\n",
    "            x_test = scaler.transform(x_test)\n",
    "\n",
    "            # Feature selection: use only the top 40 SC edges based on correlation of training features with cognitive score\n",
    "            correl=[]\n",
    "            for i in range(0, x.shape[1]):\n",
    "                correl.append(abs(spearmanr(x[:,i], y)[0]))\n",
    "            ind = np.argpartition(correl, -40)[-40:]\n",
    "            x=x[:,ind]\n",
    "            \n",
    "            x_test=x_test[:,ind]\n",
    "\n",
    "            #print(\"Size of X: \" + str(x.shape))\n",
    "            #print(\"Size of y: \" + str(y.shape))\n",
    "\n",
    "            #set parameters for inner loop for CV\n",
    "            inner_cv = KFold(n_splits=k, shuffle=True, random_state=p)\n",
    "\n",
    "            # Initializing regression model\n",
    "            regr = linear_model.Ridge(normalize=True, max_iter=1000000)\n",
    "\n",
    "            #set hyperparameter grid space you want to search through for the model\n",
    "            alphas = np.logspace(-2,2, num=100, endpoint=True,base=10, axis=0)\n",
    "            paramGrid = {'alpha': alphas}    \n",
    "\n",
    "            # regression scoring metrics\n",
    "            scores = {\"R-squared\": \"r2\", \"mse\":'neg_mean_squared_error'}\n",
    "\n",
    "            # Set up GridSearchCV object\n",
    "            gcv = GridSearchCV(estimator=regr,\n",
    "                                   param_grid=paramGrid,\n",
    "                                   scoring=scores,\n",
    "                                   n_jobs=16,\n",
    "                                   cv=inner_cv,\n",
    "                                   return_train_score=True,\n",
    "                                   verbose=0,\n",
    "                                   refit=\"R-squared\")\n",
    "\n",
    "            #print(\"Starting inner loops\" )\n",
    "            # perform model selection (inner loop)\n",
    "            gcv.fit(x, y) \n",
    "\n",
    "            # Save opt. alpha\n",
    "            best_params.append(list(gcv.best_params_.values()))\n",
    "            \n",
    "            # Get the best estimator on the whole training set\n",
    "            best_model = gcv.best_estimator_\n",
    "            \n",
    "            #print(\"Testing model on hold-out data...\")\n",
    "            # evaluate model on the hold out dataset\n",
    "            yhat = best_model.predict(x_test)\n",
    "        \n",
    "            #save optimised alpha values - choose it to be the value corresponding to the median nested score\n",
    "            #can also use np.max(nested_scores) to choose parameter corresponding to best nested score but might risk overfitting\n",
    "            # opt_alpha[cog] = best_params\n",
    "            #print(yhat.shape)\n",
    "            #print(y_test.shape)\n",
    "            \n",
    "            #print(\"score: \"+ str(gcv.score(x_test, y_test)))\n",
    "            scores_cv.append(gcv.score(x_test,y_test))\n",
    "            \n",
    "        print(\"mean R^2 performance on test data: \" + str(np.mean(scores_cv)))\n",
    "        fc_scores_perms.append(np.mean(scores_cv))\n",
    "            "
   ]
  },
  {
   "cell_type": "code",
   "execution_count": null,
   "id": "8d6133ba",
   "metadata": {},
   "outputs": [],
   "source": [
    "np.savetxt('/home/ubuntu/cognition_iowa/results/100perm_ridge_spearmancorr_featureselect_r2.txt', fc_scores_perms, delimiter=',')\n",
    "np.savetxt('/home/ubuntu/cognition_iowa/results/5foldcv_ridge_spearmancorr_featureselect_r2.txt', scores_cv, delimiter=',')\n",
    "\n"
   ]
  },
  {
   "cell_type": "code",
   "execution_count": 1,
   "id": "89a0586a",
   "metadata": {},
   "outputs": [
    {
     "ename": "NameError",
     "evalue": "name 'fc_scores_perms' is not defined",
     "output_type": "error",
     "traceback": [
      "\u001b[0;31m---------------------------------------------------------------------------\u001b[0m",
      "\u001b[0;31mNameError\u001b[0m                                 Traceback (most recent call last)",
      "\u001b[0;32m<ipython-input-1-92e48929fcf9>\u001b[0m in \u001b[0;36m<module>\u001b[0;34m\u001b[0m\n\u001b[0;32m----> 1\u001b[0;31m \u001b[0mfc_scores_perms\u001b[0m\u001b[0;34m\u001b[0m\u001b[0;34m\u001b[0m\u001b[0m\n\u001b[0m",
      "\u001b[0;31mNameError\u001b[0m: name 'fc_scores_perms' is not defined"
     ]
    }
   ],
   "source": [
    "fc_scores_perms"
   ]
  },
  {
   "cell_type": "code",
   "execution_count": 289,
   "id": "085bcc86",
   "metadata": {},
   "outputs": [],
   "source": [
    "#iterate through permutations\n",
    "for p in range(perm):\n",
    "    #print permutation # you're on\n",
    "    print('Permutation %d' %(p+1))\n",
    "    #split data into train and test sets\n",
    "    x_train, x_test, cog_train, cog_test = train_test_split(X, Y, test_size=1-train_size, shuffle=True, random_state=p)\n",
    "\n",
    "    #iterate through the cognitive metrics you want to predict\n",
    "    for cog in range (n_cog):\n",
    "\n",
    "        #print cognitive metrics being predicted \n",
    "        print (\"Cognition: %s\" % cognition[cog])\n",
    "        \n",
    "        #set y values for train and test based on     \n",
    "        y_train = cog_train[:,cog]\n",
    "        y_test = cog_test[:,cog]\n",
    "        \n",
    "        #store all the y_test values in a separate variable that can be accessed later if needed\n",
    "        cogtest[p,cog,:] = y_test\n",
    "\n",
    "        #create variables to store nested CV scores, and best parameters from hyperparameter optimisation\n",
    "        nested_scores = []\n",
    "        best_params = []\n",
    "\n",
    "\n",
    "        #optimise regression model using nested CV\n",
    "        print('Training Models')\n",
    "        \n",
    "        #go through the loops of the cross validation\n",
    "        for i in range(cv_loops):\n",
    "\n",
    "\n",
    "            #set parameters for inner and outer loops for CV\n",
    "            inner_cv = KFold(n_splits=k, shuffle=True, random_state=i)\n",
    "            outer_cv = KFold(n_splits=k, shuffle=True, random_state=i)\n",
    "            \n",
    "            #define regressor with grid-search CV for inner loop\n",
    "            gridSearch = GridSearchCV(estimator=pipe, param_grid=paramGrid, n_jobs=-1, \n",
    "                                      verbose=0, cv=inner_cv, scoring='explained_variance')\n",
    "\n",
    "            #fit regressor\n",
    "            gridSearch.fit(x_train, y_train)\n",
    "\n",
    "            #save parameters corresponding to the best score\n",
    "            best_params.append(list(gridSearch.best_params_.values()))\n",
    "\n",
    "            #call cross_val_score for outer loop\n",
    "            nested_score = cross_val_score(gridSearch, X=x_train, y=y_train, cv=outer_cv, \n",
    "                                           scoring='explained_variance', verbose=1)\n",
    "\n",
    "            #record nested CV scores\n",
    "            nested_scores.append(np.median(nested_score))\n",
    "\n",
    "            #print how many cv loops are complete\n",
    "            print(\"%d/%d Complete\" % (i+1,cv_loops))\n",
    "            \n",
    "        #once all CV loops are complete, fit models based on optimised hyperparameters    \n",
    "        print('Testing Models')\n",
    "\n",
    "\n",
    "        #save optimised alpha values - choose it to be the value corresponding to the median nested score\n",
    "        #can also use np.max(nested_scores) to choose parameter corresponding to best nested score but might risk overfitting\n",
    "        opt_alpha[p,cog] = best_params[nested_scores.index(np.median(nested_scores))][0]\n",
    "\n",
    "\n",
    "        #fit model using optimised hyperparameter\n",
    "        pca_train = PCA(n_components=1)\n",
    "        x_train_pca=pca_train.fit_transform(x_train)\n",
    "        model = Ridge(normalize=True, max_iter=1000000,alpha = opt_alpha[p,cog])\n",
    "\n",
    "        model.fit(x_train_pca, y_train);\n",
    "        \n",
    "        #compute r^2 (coefficient of determination)\n",
    "        r2[p,cog]=model.score(pca_train.transform(x_test),y_test)\n",
    "\n",
    "        #generate predictions from model\n",
    "        preds[p,cog,:] = model.predict(pca_train.transform(x_test)).ravel()\n",
    "        \n",
    "        #compute explained variance \n",
    "        var[p,cog] = explained_variance_score(y_test, preds[p,cog,:])\n",
    "\n",
    "        #compute correlation between true and predicted\n",
    "        corr[p,cog] = np.corrcoef(y_test, preds[p,cog,:])[1,0]\n",
    "\n",
    "        #extract feature importance\n",
    "        pca_comp[p,:,:,cog] = pca_train.components_\n",
    "        featimp[p,:,cog] = model.coef_\n",
    "\n",
    "#save all of the outputs once everything is done\n",
    "#filepath is where you want to store it\n",
    "\n",
    "#np.savetxt('results/r2.txt', r2, delimiter=',')\n",
    "#np.savetxt('results/var.txt', var, delimiter=',')\n",
    "#np.savetxt('results/corr.txt', corr, delimiter=',')\n",
    "#np.savetxt('results/alpha.txt', opt_alpha, delimiter=',')\n",
    "\n",
    "#np.savetxt('results/sc_dmem_featimp.txt', featimp[:,:,0], delimiter=',')\n",
    "#np.savetxt('results/sc_trlsB_featimp.txt', featimp[:,:,1], delimiter=',')\n",
    "\n",
    "#np.savetxt('results/sc_dmem_preds.txt', preds[:,0,:], delimiter=',')\n",
    "#np.savetxt('results/sc_trlsB_preds.txt', preds[:,1,:], delimiter=',')\n",
    "\n",
    "#np.savetxt('results/sc_dmem_cogtest.txt', cogtest[:,:,0], delimiter=',')\n",
    "#np.savetxt('results/sc_trlsB_cogtest.txt', cogtest[:,:,1], delimiter=',')"
   ]
  },
  {
   "cell_type": "code",
   "execution_count": 282,
   "id": "e523d6bf",
   "metadata": {},
   "outputs": [
    {
     "data": {
      "text/plain": [
       "3201"
      ]
     },
     "execution_count": 282,
     "metadata": {},
     "output_type": "execute_result"
    }
   ],
   "source": [
    "len(correl)"
   ]
  },
  {
   "cell_type": "code",
   "execution_count": 301,
   "id": "01193e60",
   "metadata": {},
   "outputs": [
    {
     "name": "stdout",
     "output_type": "stream",
     "text": [
      "(80, 3201)\n"
     ]
    }
   ],
   "source": [
    "print(x.shape)"
   ]
  },
  {
   "cell_type": "code",
   "execution_count": 302,
   "id": "a4fb728c",
   "metadata": {},
   "outputs": [
    {
     "name": "stdout",
     "output_type": "stream",
     "text": [
      "(80, 3201)\n"
     ]
    }
   ],
   "source": [
    "\n",
    "print(x.shape)"
   ]
  },
  {
   "cell_type": "code",
   "execution_count": 101,
   "id": "35e860b3",
   "metadata": {},
   "outputs": [
    {
     "data": {
      "image/png": "[encoded data removed]",
      "text/plain": [
       "<Figure size 432x288 with 2 Axes>"
      ]
     },
     "metadata": {
      "needs_background": "light"
     },
     "output_type": "display_data"
    }
   ],
   "source": [
    "plt.imshow(x[1:100,1:2000])\n",
    "plt.colorbar()\n",
    "plt.show()"
   ]
  },
  {
   "cell_type": "code",
   "execution_count": 279,
   "id": "f95d0f38",
   "metadata": {},
   "outputs": [
    {
     "data": {
      "text/plain": [
       "80"
      ]
     },
     "execution_count": 279,
     "metadata": {},
     "output_type": "execute_result"
    }
   ],
   "source": [
    "len(correl)"
   ]
  },
  {
   "cell_type": "code",
   "execution_count": 256,
   "id": "e05bfe97",
   "metadata": {},
   "outputs": [
    {
     "ename": "AttributeError",
     "evalue": "module 'numpy' has no attribute 'correlation'",
     "output_type": "error",
     "traceback": [
      "\u001b[0;31m---------------------------------------------------------------------------\u001b[0m",
      "\u001b[0;31mAttributeError\u001b[0m                            Traceback (most recent call last)",
      "\u001b[0;32m<ipython-input-256-1f36aa9b4c2b>\u001b[0m in \u001b[0;36m<module>\u001b[0;34m\u001b[0m\n\u001b[0;32m----> 1\u001b[0;31m \u001b[0mnp\u001b[0m\u001b[0;34m.\u001b[0m\u001b[0mcorrelation\u001b[0m\u001b[0;34m(\u001b[0m\u001b[0mx\u001b[0m\u001b[0;34m,\u001b[0m \u001b[0my\u001b[0m\u001b[0;34m)\u001b[0m\u001b[0;34m\u001b[0m\u001b[0;34m\u001b[0m\u001b[0m\n\u001b[0m",
      "\u001b[0;32m~/anaconda3/lib/python3.8/site-packages/numpy/__init__.py\u001b[0m in \u001b[0;36m__getattr__\u001b[0;34m(attr)\u001b[0m\n\u001b[1;32m    301\u001b[0m                 \u001b[0;32mreturn\u001b[0m \u001b[0mTester\u001b[0m\u001b[0;34m\u001b[0m\u001b[0;34m\u001b[0m\u001b[0m\n\u001b[1;32m    302\u001b[0m \u001b[0;34m\u001b[0m\u001b[0m\n\u001b[0;32m--> 303\u001b[0;31m             raise AttributeError(\"module {!r} has no attribute \"\n\u001b[0m\u001b[1;32m    304\u001b[0m                                  \"{!r}\".format(__name__, attr))\n\u001b[1;32m    305\u001b[0m \u001b[0;34m\u001b[0m\u001b[0m\n",
      "\u001b[0;31mAttributeError\u001b[0m: module 'numpy' has no attribute 'correlation'"
     ]
    }
   ],
   "source": [
    "np.corr(x, y)"
   ]
  },
  {
   "cell_type": "code",
   "execution_count": 142,
   "id": "67acce5f",
   "metadata": {},
   "outputs": [
    {
     "data": {
      "image/png": "[encoded data removed]",
      "text/plain": [
       "<Figure size 432x288 with 1 Axes>"
      ]
     },
     "metadata": {
      "needs_background": "light"
     },
     "output_type": "display_data"
    }
   ],
   "source": [
    "plt.hist(X[1,:])\n",
    "x, x_test, y, y_test = train_test_split(X, Y, test_size=1-train_size, shuffle=True, random_state=p)\n"
   ]
  },
  {
   "cell_type": "code",
   "execution_count": 143,
   "id": "6ff18483",
   "metadata": {},
   "outputs": [
    {
     "data": {
      "text/plain": [
       "(array([3.195e+03, 5.000e+00, 0.000e+00, 0.000e+00, 0.000e+00, 0.000e+00,\n",
       "        0.000e+00, 0.000e+00, 0.000e+00, 1.000e+00]),\n",
       " array([     0.  ,  36154.65,  72309.3 , 108463.95, 144618.6 , 180773.25,\n",
       "        216927.9 , 253082.55, 289237.2 , 325391.85, 361546.5 ]),\n",
       " <BarContainer object of 10 artists>)"
      ]
     },
     "execution_count": 143,
     "metadata": {},
     "output_type": "execute_result"
    },
    {
     "data": {
      "image/png": "[encoded data removed]",
      "text/plain": [
       "<Figure size 432x288 with 1 Axes>"
      ]
     },
     "metadata": {
      "needs_background": "light"
     },
     "output_type": "display_data"
    }
   ],
   "source": [
    "plt.hist(x[3,:])"
   ]
  },
  {
   "cell_type": "code",
   "execution_count": 87,
   "id": "a07a82fd",
   "metadata": {},
   "outputs": [],
   "source": [
    "np.savetxt(results_dir+'fc_demo_dmemfu1_r2.txt', r2, delimiter=',')\n",
    "np.savetxt(results_dir+'fc_demo_dmemfu1_var.txt', var, delimiter=',')\n",
    "np.savetxt(results_dir+'fc_demo_dmemfu1_corr.txt', corr, delimiter=',')\n",
    "np.savetxt(results_dir+'fc_demo_dmemfu1_alpha.txt', opt_alpha, delimiter=',')\n",
    "\n",
    "np.savetxt(results_dir+'fc_demo_dmemfu1_featimp.txt', featimp, delimiter=',')\n",
    "np.savetxt(results_dir+'fc_demo_dmemfu1_preds.txt', preds, delimiter=',')\n",
    "np.savetxt(results_dir+'fc_demo_dmemfu1_cogtest.txt', cogtest, delimiter=',')\n"
   ]
  },
  {
   "cell_type": "code",
   "execution_count": 88,
   "id": "7f13cbca",
   "metadata": {},
   "outputs": [
    {
     "name": "stdout",
     "output_type": "stream",
     "text": [
      "Permutation 1\n",
      "Permutation 2\n",
      "Permutation 3\n",
      "Permutation 4\n",
      "Permutation 5\n",
      "Permutation 6\n",
      "Permutation 7\n",
      "Permutation 8\n",
      "Permutation 9\n",
      "Permutation 10\n",
      "Permutation 11\n",
      "Permutation 12\n",
      "Permutation 13\n",
      "Permutation 14\n",
      "Permutation 15\n",
      "Permutation 16\n",
      "Permutation 17\n",
      "Permutation 18\n",
      "Permutation 19\n",
      "Permutation 20\n",
      "Permutation 21\n",
      "Permutation 22\n",
      "Permutation 23\n",
      "Permutation 24\n",
      "Permutation 25\n",
      "Permutation 26\n",
      "Permutation 27\n",
      "Permutation 28\n",
      "Permutation 29\n",
      "Permutation 30\n",
      "Permutation 31\n",
      "Permutation 32\n",
      "Permutation 33\n",
      "Permutation 34\n",
      "Permutation 35\n",
      "Permutation 36\n",
      "Permutation 37\n",
      "Permutation 38\n",
      "Permutation 39\n",
      "Permutation 40\n",
      "Permutation 41\n",
      "Permutation 42\n",
      "Permutation 43\n",
      "Permutation 44\n",
      "Permutation 45\n",
      "Permutation 46\n",
      "Permutation 47\n",
      "Permutation 48\n",
      "Permutation 49\n",
      "Permutation 50\n",
      "Permutation 51\n",
      "Permutation 52\n",
      "Permutation 53\n",
      "Permutation 54\n",
      "Permutation 55\n",
      "Permutation 56\n",
      "Permutation 57\n",
      "Permutation 58\n",
      "Permutation 59\n",
      "Permutation 60\n",
      "Permutation 61\n",
      "Permutation 62\n",
      "Permutation 63\n",
      "Permutation 64\n",
      "Permutation 65\n",
      "Permutation 66\n",
      "Permutation 67\n",
      "Permutation 68\n",
      "Permutation 69\n",
      "Permutation 70\n",
      "Permutation 71\n",
      "Permutation 72\n",
      "Permutation 73\n",
      "Permutation 74\n",
      "Permutation 75\n",
      "Permutation 76\n",
      "Permutation 77\n",
      "Permutation 78\n",
      "Permutation 79\n",
      "Permutation 80\n",
      "Permutation 81\n",
      "Permutation 82\n",
      "Permutation 83\n",
      "Permutation 84\n",
      "Permutation 85\n",
      "Permutation 86\n",
      "Permutation 87\n",
      "Permutation 88\n",
      "Permutation 89\n",
      "Permutation 90\n",
      "Permutation 91\n",
      "Permutation 92\n",
      "Permutation 93\n",
      "Permutation 94\n",
      "Permutation 95\n",
      "Permutation 96\n",
      "Permutation 97\n",
      "Permutation 98\n",
      "Permutation 99\n",
      "Permutation 100\n"
     ]
    }
   ],
   "source": [
    "A = np.zeros([perm,n_feat])\n",
    "\n",
    "#iterate through permutations\n",
    "for p in range(perm):\n",
    "    print('Permutation %d' %(p+1))\n",
    "\n",
    "    cov_x= np.zeros([n_feat])\n",
    "    x_train, x_test, cog_train, cog_test = train_test_split(X, Y, test_size=1-train_size, shuffle=True, random_state=p)\n",
    "\n",
    "    #compute covariance of training X data\n",
    "    cov_x = np.cov(np.transpose(x_train))\n",
    "\n",
    "    #for each of the cognitive scores\n",
    "    for i in range(n_cog):\n",
    "        #compute covariance of training cognitive scores\n",
    "        cov_y = np.cov(cog_train[:,i])\n",
    "        #compute activation vector by matrix multiplying training X covariance, feature weights, and 1/training Y covariance \n",
    "        A[p,:] = np.matmul(cov_x,featimp[p,:])*(1/cov_y)\n",
    "\n",
    "\n",
    "A_avg = np.mean(A,axis=0)\n",
    "np.savetxt(results_dir+'fc_demo_demo_dmemorig_featimpA_dmemfu1.txt', A_avg, delimiter=',')"
   ]
  }
 ],
 "metadata": {
  "kernelspec": {
   "display_name": "Python 3",
   "language": "python",
   "name": "python3"
  },
  "language_info": {
   "codemirror_mode": {
    "name": "ipython",
    "version": 3
   },
   "file_extension": ".py",
   "mimetype": "text/x-python",
   "name": "python",
   "nbconvert_exporter": "python",
   "pygments_lexer": "ipython3",
   "version": "3.8.8"
  }
 },
 "nbformat": 4,
 "nbformat_minor": 5
}
