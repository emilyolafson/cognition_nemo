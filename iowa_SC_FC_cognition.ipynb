{
 "cells": [
  {
   "cell_type": "code",
   "execution_count": 188,
   "id": "2dc70a80",
   "metadata": {},
   "outputs": [],
   "source": [
    "# This Jupyter notebook was created by Emily Olafson to predicit cognitive scores from structural and functional connectivity data in stroke subjects.\n",
    "# Last updated: Friday Jan 14 2022\n",
    "# https://github.com/emilyolafson/cognition_nemo\n",
    "\n",
    "#import relevant libraries\n",
    "import sys; sys.path\n",
    "import pandas as pd\n",
    "import numpy as np \n",
    "import seaborn as sns\n",
    "from datetime import datetime\n",
    "import pickle \n",
    "from sklearn.pipeline import Pipeline\n",
    "import scipy.io as sio\n",
    "from scipy.stats import spearmanr, pearsonr\n",
    "from joblib import parallel_backend, Parallel, delayed\n",
    "from sklearn import preprocessing, linear_model\n",
    "from sklearn.metrics import explained_variance_score, r2_score, make_scorer\n",
    "from sklearn.preprocessing import StandardScaler\n",
    "from sklearn.model_selection import train_test_split, GridSearchCV, cross_val_score, KFold\n",
    "from sklearn.decomposition import PCA\n",
    "import matplotlib.pyplot as plt\n",
    "from matplotlib.pyplot import figure\n",
    "from sklearn.utils.fixes import loguniform\n",
    "import matplotlib as mpl\n"
   ]
  },
  {
   "cell_type": "code",
   "execution_count": 2,
   "id": "029c80b5",
   "metadata": {},
   "outputs": [],
   "source": [
    "# Set paths\n",
    "data_dir='/home/ubuntu/cognition_iowa/data/'\n",
    "results_dir='/home/ubuntu/cognition_iowa/results/' \n",
    "\n",
    "#Load input variables (estimated SC and FC) and save all subjects to one .mat file for eFC prediction (Zijin's code)\n",
    "nROIs=86\n",
    "subj_id =  pd.read_csv(data_dir + 'final_subIDs.csv',header=None)[0]\n",
    "sc = np.zeros([len(subj_id),3655])\n",
    "\n",
    "for i in range(len(subj_id)):\n",
    "    filename = data_dir + \"sc/%s_nemo_output_chacoconn_fs86subj_nemoSC_volnorm.txt\" % (subj_id[i])\n",
    "    sc_tmp = pd.read_csv(filename, header=0, sep=' ').values\n",
    "    np.fill_diagonal(sc_tmp, 0)\n",
    "    sc[i,:] = sc_tmp[np.triu_indices(nROIs,k=1)]\n",
    "    \n",
    "sio.savemat(data_dir + 'allstroke_SCs.mat', {'sc':sc}) # used to predict eFC using Zijin's code.\n",
    "\n",
    "# Load FC\n",
    "fc = np.zeros([len(subj_id),3655])\n",
    "\n",
    "for i in range(len(subj_id)):\n",
    "    filename = data_dir + \"fc/%s_FC.txt\" % (subj_id[i])\n",
    "    fc_tmp = pd.read_csv(filename, header=0, sep=' ').values\n",
    "    np.fill_diagonal(sc_tmp, 0)\n",
    "    fc[i,:] = fc_tmp[np.triu_indices(nROIs,k=1)]\n",
    "    \n",
    "    \n",
    "# Load demographic variables and outcome measures (TMT and WAIS)\n",
    "#read in demographic info at first time point\n",
    "demo =  pd.read_csv(data_dir + 'demographic_final.csv',header=0)\n",
    "\n",
    "#read in cognitive scores at first time point\n",
    "tmt = pd.read_csv(data_dir + 'T_MT_A_TIME.csv',header=None)\n",
    "wais = pd.read_csv(data_dir + 'WAIS_IV_DS_TOTAL_RAW.csv',header=None)"
   ]
  },
  {
   "cell_type": "code",
   "execution_count": 287,
   "id": "46b10f2a",
   "metadata": {},
   "outputs": [],
   "source": [
    "import matplotlib\n",
    "import matplotlib.pyplot as plt\n",
    "from mpl_toolkits.axes_grid1 import AxesGrid\n",
    "\n",
    "def shiftedColorMap(cmap, start=0, midpoint=0.5, stop=1.0, name='shiftedcmap'):\n",
    "    '''\n",
    "    FROM: https://stackoverflow.com/questions/7404116/defining-the-midpoint-of-a-colormap-in-matplotlib\n",
    "    Function to offset the \"center\" of a colormap. Useful for\n",
    "    data with a negative min and positive max and you want the\n",
    "    middle of the colormap's dynamic range to be at zero.\n",
    "\n",
    "    Input\n",
    "    -----\n",
    "      cmap : The matplotlib colormap to be altered\n",
    "      start : Offset from lowest point in the colormap's range.\n",
    "          Defaults to 0.0 (no lower offset). Should be between\n",
    "          0.0 and `midpoint`.\n",
    "      midpoint : The new center of the colormap. Defaults to \n",
    "          0.5 (no shift). Should be between 0.0 and 1.0. In\n",
    "          general, this should be  1 - vmax / (vmax + abs(vmin))\n",
    "          For example if your data range from -15.0 to +5.0 and\n",
    "          you want the center of the colormap at 0.0, `midpoint`\n",
    "          should be set to  1 - 5/(5 + 15)) or 0.75\n",
    "      stop : Offset from highest point in the colormap's range.\n",
    "          Defaults to 1.0 (no upper offset). Should be between\n",
    "          `midpoint` and 1.0.\n",
    "    '''\n",
    "    cdict = {\n",
    "        'red': [],\n",
    "        'green': [],\n",
    "        'blue': [],\n",
    "        'alpha': []\n",
    "    }\n",
    "\n",
    "    # regular index to compute the colors\n",
    "    reg_index = np.linspace(start, stop, 257)\n",
    "\n",
    "    # shifted index to match the data\n",
    "    shift_index = np.hstack([\n",
    "        np.linspace(0.0, midpoint, 128, endpoint=False), \n",
    "        np.linspace(midpoint, 1.0, 129, endpoint=True)\n",
    "    ])\n",
    "\n",
    "    for ri, si in zip(reg_index, shift_index):\n",
    "        r, g, b, a = cmap(ri)\n",
    "\n",
    "        cdict['red'].append((si, r, r))\n",
    "        cdict['green'].append((si, g, g))\n",
    "        cdict['blue'].append((si, b, b))\n",
    "        cdict['alpha'].append((si, a, a))\n",
    "\n",
    "    newcmap = matplotlib.colors.LinearSegmentedColormap(name, cdict)\n",
    "    plt.register_cmap(cmap=newcmap)\n",
    "\n",
    "    return newcmap\n",
    "\n",
    "def prepare_data(X):\n",
    "    '''Clean X-data (remove zero-value input variables)'''\n",
    "\n",
    "    # remove inputs that are 0 for all subjects\n",
    "    zeros=X==0\n",
    "    zeros=np.sum(zeros,0)\n",
    "    zeros=zeros==X.shape[0]\n",
    "    X=X[:,~zeros]\n",
    "    print(\"Final size of X: \" + str(X.shape))\n",
    "    \n",
    "    return X\n",
    "\n",
    "def np_pearson_cor(x, y):\n",
    "    '''Fast array-based pearson correlation that is more efficient. \n",
    "    FROM: https://cancerdatascience.org/blog/posts/pearson-correlation/.\n",
    "        x - input N x p\n",
    "        y - output N x 1\n",
    "        \n",
    "        returns correlation p x 1 '''\n",
    "    xv = x - x.mean(axis=0)\n",
    "    yv = y - y.mean(axis=0)\n",
    "    xvss = (xv * xv).sum(axis=0)\n",
    "    yvss = (yv * yv).sum(axis=0)\n",
    "    result = np.matmul(xv.transpose(), yv) / np.sqrt(np.outer(xvss, yvss))\n",
    "    \n",
    "    # bound the values to -1 to 1 in the event of precision issues\n",
    "    return np.maximum(np.minimum(result, 1.0), -1.0)\n",
    "\n",
    "\n",
    "def naive_pearson_cor(X, Y):\n",
    "    '''Naive (scipy-based/iterative) pearson correlation. \n",
    "    FROM: https://cancerdatascience.org/blog/posts/pearson-correlation/.\n",
    "        x - input N x p\n",
    "        y - output N x 1\n",
    "        \n",
    "        returns correlation p x 1 '''\n",
    "    result = np.zeros(shape=(X.shape[1], Y.shape[1]))\n",
    "    for i in range(X.shape[1]):\n",
    "        for j in range(Y.shape[1]):\n",
    "            r, _ = pearsonr(X[:,i], Y[:,j])\n",
    "            result[i,j] = r\n",
    "    return result\n",
    "\n",
    "\n",
    "def feature_select_PCA(x_train, x_test, a):\n",
    "    \"\"\"Return values for the top a PCs of x based on PCA of x.\n",
    "         \n",
    "         Inputs:\n",
    "             x = input matrix\n",
    "             y = variable/s predicted \n",
    "             a = number of PCs\n",
    "         \n",
    "        Returns:\n",
    "            x_train_featselect = training data with selected features \n",
    "            x_test_featselect = test data matrix with selected features \n",
    "            var_expl = variance explained by top a components\n",
    "            components = PCs selected\"\"\"\n",
    "    \n",
    "    # check that dimension of x is greater than a\n",
    "    if x_train.shape[1]<a:\n",
    "        raise Exception('Number of features in X is less than the number of features specified to retain (a).') \n",
    "    \n",
    "    # Feature selection: use only the top n features based on top a PCs in training data \n",
    "    pca = PCA(n_components=a, copy=True, random_state=42)\n",
    "    x_train_featselect = pca.fit(x_train).transform(x_train)\n",
    "    x_test_featselect = pca.transform(x_test)\n",
    "    components = pca.components_\n",
    "\n",
    "    \n",
    "    var_expl = pca.explained_variance_\n",
    "\n",
    "\n",
    "    return x_train_featselect,x_test_featselect, var_expl, components\n",
    "\n",
    "def feature_select_correlation(x_train, x_test, y, a):\n",
    "    \"\"\"Return values for the top a features of x based on abs. value Spearman correlation with y.\n",
    "         Inputs:\n",
    "             x = input matrix\n",
    "             y = variable/s predicted \n",
    "             a = number of features to retain\n",
    "        \n",
    "        Returns:\n",
    "            x_train_featselect = training data with selected features \n",
    "            x_test_featselect = test data matrix with selected features\n",
    "            ind = indices of top a features \"\"\"\n",
    "    \n",
    "    # check that dimension of x is greater than a\n",
    "    if x_train.shape[1]<a:\n",
    "        raise Exception('Number of features in X is less than the number of features specified to retain (a).') \n",
    "        \n",
    "        \n",
    "    # Feature selection: use only the top n features based on correlation of training features with y\n",
    "    correl = abs(np_pearson_cor(x_train, y))\n",
    "    ind = np.argpartition(correl, -a, 0)[-a:] # select top a features\n",
    "\n",
    "    # return training/test data with only top features\n",
    "    x_train_featselect=np.squeeze(x_train[:,ind],2)\n",
    "    \n",
    "    x_test_featselect=np.squeeze(x_test[:,ind],2)\n",
    "\n",
    "    return x_train_featselect,x_test_featselect, ind\n",
    "\n",
    "\n",
    "def scale_data(x_train, x_test):\n",
    "    '''Scale the training data and apply transformation to the test/validation data.\n",
    "\n",
    "        Inputs:\n",
    "            x_train = training predictors\n",
    "            x_test = training predictors \n",
    "        \n",
    "        Returns:\n",
    "            x_train_scaled\n",
    "            x_test_scaled '''\n",
    "    \n",
    "    # Scale x_train \n",
    "    scaler = preprocessing.StandardScaler().fit(x_train)\n",
    "    \n",
    "    # apply transformation to train & test set.\n",
    "    x_train_scaled = scaler.transform(x_train)\n",
    "    x_test_scaled = scaler.transform(x_test)\n",
    "    \n",
    "    return x_train_scaled, x_test_scaled\n",
    "\n",
    "\n",
    "def gcv_ridge(hyperparam, x, y, k, featsel='None', a=10):\n",
    "    \"\"\"Perform gridsearch using k-fold cross-validation on a single hyperparameter \n",
    "    in ridge regression, and return mean R^2 across inner folds.\n",
    "    \n",
    "    Inputs: \n",
    "        hyperparam = list of hyperparameter values to train & test on validation est\n",
    "        x = N x p input matrix\n",
    "        y = 1 x p variable to predict\n",
    "        k = k value in k-fold cross validation \n",
    "        featsel = type string, feature selection method, default=\"None\"\n",
    "            'None' - no feature selection; use all variables for prediction\n",
    "            'correlation'- calculate the abs. val. Pearson correlation between all training variables with the varibale to predict. Use the highest 'a' variables based on their correlation for prediction\n",
    "            'PCA' - perform PCA on the training variables and use the top 'a' PCs as input variables, by variance explained, for prediction\n",
    "        a = number of features to select using one of the above methods, default=10 \n",
    "    \n",
    "    Returns:\n",
    "        r2 = the mean R^2 (coefficient of determination) across inner loop folds for the given hyperparameter\n",
    "    \"\"\"\n",
    "    \n",
    "    # make sure k is reasonable \n",
    "    if x.shape[0]/k <= 2:\n",
    "        raise Exception('R^2 is not well-defined with less than 2 subjects.')   \n",
    "    \n",
    "    # set alpha in ridge regression\n",
    "    alpha = hyperparam\n",
    "    \n",
    "    # Initialize lists with final results\n",
    "    y_pred_total = []\n",
    "    y_valid_total = []\n",
    "    R2 = []\n",
    "    comp = []\n",
    "    \n",
    "    # Split data into test and train: random state fixed for reproducibility\n",
    "    kf = KFold(n_splits=k,shuffle=True,random_state=43)\n",
    "    \n",
    "    # K-fold cross-validation \n",
    "    for train_index, valid_index in kf.split(x):\n",
    "        x_train, x_valid = x[train_index], x[valid_index]\n",
    "        y_train, y_valid = y[train_index], y[valid_index]\n",
    "        \n",
    "        x_train, x_valid = scale_data(x_train, x_valid)\n",
    "        \n",
    "        if featsel=='correlation':\n",
    "            x_train, x_valid, ind = feature_select_correlation(x_train, x_valid, y_train, a)\n",
    "            comp.append(ind)\n",
    "            \n",
    "        elif featsel=='PCA':\n",
    "            x_train, x_valid, var_expl, components = feature_select_PCA(x_train, x_valid, a)\n",
    "            comp.append(components)\n",
    "\n",
    "        #x_train, x_valid = feature_select_correlation(x_train, x_valid, y_train, 10)\n",
    "        \n",
    "        # Fit ridge regression with (x_train_scaled, y_train), and predict x_train_scaled\n",
    "        regr = linear_model.Ridge(alpha=alpha, normalize=True, max_iter=1000000, random_state=42)\n",
    "        y_pred = regr.fit(x_train, y_train).predict(x_valid)\n",
    "\n",
    "        R2.append(r2_score(y_valid, y_pred))\n",
    "        \n",
    "        # Append y_pred and y_valid values of this k-fold step to list with total values\n",
    "        y_pred_total.append(y_pred)\n",
    "        y_valid_total.append(y_valid)\n",
    "   \n",
    "    r2=np.mean(R2)\n",
    "    return r2, comp\n",
    "\n",
    "def parallel_featsearch(alpha,feat):\n",
    "    r2, comp=gcv_ridge(alpha, x, y, k, featselect, feat)\n",
    "    return r2\n",
    "\n",
    "# Inner loop - grid search\n",
    "def gridsearch_cv(k, x, y, featselect):\n",
    "    ''' Performs grid search using fixed predefined hyperparameter ranges and returns the best alpha and # of features for \n",
    "        a given training/validation sample. \n",
    "        \n",
    "        Returns:\n",
    "            bestalpha - optimal alpha based on grid search\n",
    "            bestfeats - optimal number of features based on grid search\n",
    "            bestr2 - mean R^2 across folds obtained for the optimal combination of hyperparameters'''\n",
    "    \n",
    "    print(str(k)+\"-fold cross-validation results in \"+str((x.shape[0]/k)*(k-1))+ \" subjects in the training set, and \"+ str(x.shape[0]/k) + \" subjects in the validation set\")\n",
    "\n",
    "    # set hyperparameter search space\n",
    "    # range of alphas\n",
    "    n_alphas=20\n",
    "    alpha_start=-1\n",
    "    alpha_end=2\n",
    "    alphas = np.logspace(alpha_start, alpha_end, n_alphas, base=10, dtype=None)\n",
    "\n",
    "    #number of features (# pricipal components or variables to retain)\n",
    "    feat_start=10\n",
    "    feat_end=30\n",
    "    n_feats=feat_end-feat_start+1\n",
    "    feats = np.linspace(feat_start, feat_end, n_feats, dtype=int)\n",
    "\n",
    "    # initialize array to store r2\n",
    "    gcv_values=np.empty(shape=(len(alphas),len(feats)),dtype='float')\n",
    "\n",
    "    # iterate through alphas\n",
    "    for alpha in alphas:\n",
    "        row, = np.where(alphas==alpha)\n",
    "        \n",
    "        # run feature selection (# of components) in parallel\n",
    "        gcv=Parallel(n_jobs=-1,verbose=0)(delayed(parallel_featsearch)(alpha, feat) for feat in feats)\n",
    "        gcv=np.array(gcv)\n",
    "        gcv_values[row]=gcv\n",
    "            \n",
    "        row=np.argmax(np.max(gcv_values, axis=1))\n",
    "        col=np.argmax(np.max(gcv_values, axis=0))\n",
    "\n",
    "    bestalpha=alphas[row]\n",
    "    bestfeats=feats[col]\n",
    "    bestr2=np.max(gcv_values)\n",
    "\n",
    "    return bestalpha, bestfeats, bestr2, gcv_values, comps"
   ]
  },
  {
   "cell_type": "code",
   "execution_count": 288,
   "id": "d45e6b4b",
   "metadata": {},
   "outputs": [
    {
     "name": "stdout",
     "output_type": "stream",
     "text": [
      "Final size of X: (101, 3201)\n",
      "5-fold cross-validation results in 64.0 subjects in the training set, and 16.0 subjects in the validation set\n",
      "time to run one loop: 0:00:19.045842\n",
      "5-fold cross-validation results in 64.8 subjects in the training set, and 16.2 subjects in the validation set\n",
      "time to run one loop: 0:00:16.892730\n",
      "5-fold cross-validation results in 64.8 subjects in the training set, and 16.2 subjects in the validation set\n"
     ]
    },
    {
     "ename": "KeyboardInterrupt",
     "evalue": "",
     "output_type": "error",
     "traceback": [
      "\u001b[0;31m---------------------------------------------------------------------------\u001b[0m",
      "\u001b[0;31mKeyboardInterrupt\u001b[0m                         Traceback (most recent call last)",
      "\u001b[0;32m<ipython-input-288-5202dfa78e08>\u001b[0m in \u001b[0;36m<module>\u001b[0;34m\u001b[0m\n\u001b[1;32m     40\u001b[0m \u001b[0;34m\u001b[0m\u001b[0m\n\u001b[1;32m     41\u001b[0m         \u001b[0;31m# select model using training data\u001b[0m\u001b[0;34m\u001b[0m\u001b[0;34m\u001b[0m\u001b[0;34m\u001b[0m\u001b[0m\n\u001b[0;32m---> 42\u001b[0;31m         \u001b[0mbestalpha\u001b[0m\u001b[0;34m,\u001b[0m \u001b[0mbestfeats\u001b[0m\u001b[0;34m,\u001b[0m \u001b[0mbestr2\u001b[0m\u001b[0;34m,\u001b[0m \u001b[0mgcv_values\u001b[0m\u001b[0;34m,\u001b[0m \u001b[0mcomps\u001b[0m \u001b[0;34m=\u001b[0m \u001b[0mgridsearch_cv\u001b[0m\u001b[0;34m(\u001b[0m\u001b[0mk\u001b[0m\u001b[0;34m,\u001b[0m \u001b[0mX\u001b[0m\u001b[0;34m[\u001b[0m\u001b[0mtrain\u001b[0m\u001b[0;34m]\u001b[0m\u001b[0;34m,\u001b[0m \u001b[0mY\u001b[0m\u001b[0;34m[\u001b[0m\u001b[0mtrain\u001b[0m\u001b[0;34m]\u001b[0m\u001b[0;34m,\u001b[0m \u001b[0mfeatselect\u001b[0m\u001b[0;34m)\u001b[0m\u001b[0;34m\u001b[0m\u001b[0;34m\u001b[0m\u001b[0m\n\u001b[0m\u001b[1;32m     43\u001b[0m \u001b[0;34m\u001b[0m\u001b[0m\n\u001b[1;32m     44\u001b[0m         \u001b[0;31m# using optimal num. of features, select final features using entire training data.\u001b[0m\u001b[0;34m\u001b[0m\u001b[0;34m\u001b[0m\u001b[0;34m\u001b[0m\u001b[0m\n",
      "\u001b[0;32m<ipython-input-287-8e2c200bdaca>\u001b[0m in \u001b[0;36mgridsearch_cv\u001b[0;34m(k, x, y, featselect)\u001b[0m\n\u001b[1;32m    279\u001b[0m     \u001b[0;32mfor\u001b[0m \u001b[0malpha\u001b[0m \u001b[0;32min\u001b[0m \u001b[0malphas\u001b[0m\u001b[0;34m:\u001b[0m\u001b[0;34m\u001b[0m\u001b[0;34m\u001b[0m\u001b[0m\n\u001b[1;32m    280\u001b[0m         \u001b[0mrow\u001b[0m\u001b[0;34m,\u001b[0m \u001b[0;34m=\u001b[0m \u001b[0mnp\u001b[0m\u001b[0;34m.\u001b[0m\u001b[0mwhere\u001b[0m\u001b[0;34m(\u001b[0m\u001b[0malphas\u001b[0m\u001b[0;34m==\u001b[0m\u001b[0malpha\u001b[0m\u001b[0;34m)\u001b[0m\u001b[0;34m\u001b[0m\u001b[0;34m\u001b[0m\u001b[0m\n\u001b[0;32m--> 281\u001b[0;31m         \u001b[0mgcv\u001b[0m\u001b[0;34m=\u001b[0m\u001b[0mParallel\u001b[0m\u001b[0;34m(\u001b[0m\u001b[0mn_jobs\u001b[0m\u001b[0;34m=\u001b[0m\u001b[0;34m-\u001b[0m\u001b[0;36m1\u001b[0m\u001b[0;34m,\u001b[0m\u001b[0mverbose\u001b[0m\u001b[0;34m=\u001b[0m\u001b[0;36m0\u001b[0m\u001b[0;34m)\u001b[0m\u001b[0;34m(\u001b[0m\u001b[0mdelayed\u001b[0m\u001b[0;34m(\u001b[0m\u001b[0mparallel_featsearch\u001b[0m\u001b[0;34m)\u001b[0m\u001b[0;34m(\u001b[0m\u001b[0malpha\u001b[0m\u001b[0;34m,\u001b[0m \u001b[0mfeat\u001b[0m\u001b[0;34m)\u001b[0m \u001b[0;32mfor\u001b[0m \u001b[0mfeat\u001b[0m \u001b[0;32min\u001b[0m \u001b[0mfeats\u001b[0m\u001b[0;34m)\u001b[0m\u001b[0;34m\u001b[0m\u001b[0;34m\u001b[0m\u001b[0m\n\u001b[0m\u001b[1;32m    282\u001b[0m         \u001b[0mgcv\u001b[0m\u001b[0;34m=\u001b[0m\u001b[0mnp\u001b[0m\u001b[0;34m.\u001b[0m\u001b[0marray\u001b[0m\u001b[0;34m(\u001b[0m\u001b[0mgcv\u001b[0m\u001b[0;34m)\u001b[0m\u001b[0;34m\u001b[0m\u001b[0;34m\u001b[0m\u001b[0m\n\u001b[1;32m    283\u001b[0m         \u001b[0mgcv_values\u001b[0m\u001b[0;34m[\u001b[0m\u001b[0mrow\u001b[0m\u001b[0;34m]\u001b[0m\u001b[0;34m=\u001b[0m\u001b[0mgcv\u001b[0m\u001b[0;34m\u001b[0m\u001b[0;34m\u001b[0m\u001b[0m\n",
      "\u001b[0;32m~/anaconda3/lib/python3.8/site-packages/joblib/parallel.py\u001b[0m in \u001b[0;36m__call__\u001b[0;34m(self, iterable)\u001b[0m\n\u001b[1;32m   1062\u001b[0m                 \u001b[0mself\u001b[0m\u001b[0;34m.\u001b[0m\u001b[0m_backend\u001b[0m\u001b[0;34m.\u001b[0m\u001b[0mstop_call\u001b[0m\u001b[0;34m(\u001b[0m\u001b[0;34m)\u001b[0m\u001b[0;34m\u001b[0m\u001b[0;34m\u001b[0m\u001b[0m\n\u001b[1;32m   1063\u001b[0m             \u001b[0;32mif\u001b[0m \u001b[0;32mnot\u001b[0m \u001b[0mself\u001b[0m\u001b[0;34m.\u001b[0m\u001b[0m_managed_backend\u001b[0m\u001b[0;34m:\u001b[0m\u001b[0;34m\u001b[0m\u001b[0;34m\u001b[0m\u001b[0m\n\u001b[0;32m-> 1064\u001b[0;31m                 \u001b[0mself\u001b[0m\u001b[0;34m.\u001b[0m\u001b[0m_terminate_backend\u001b[0m\u001b[0;34m(\u001b[0m\u001b[0;34m)\u001b[0m\u001b[0;34m\u001b[0m\u001b[0;34m\u001b[0m\u001b[0m\n\u001b[0m\u001b[1;32m   1065\u001b[0m             \u001b[0mself\u001b[0m\u001b[0;34m.\u001b[0m\u001b[0m_jobs\u001b[0m \u001b[0;34m=\u001b[0m \u001b[0mlist\u001b[0m\u001b[0;34m(\u001b[0m\u001b[0;34m)\u001b[0m\u001b[0;34m\u001b[0m\u001b[0;34m\u001b[0m\u001b[0m\n\u001b[1;32m   1066\u001b[0m             \u001b[0mself\u001b[0m\u001b[0;34m.\u001b[0m\u001b[0m_pickle_cache\u001b[0m \u001b[0;34m=\u001b[0m \u001b[0;32mNone\u001b[0m\u001b[0;34m\u001b[0m\u001b[0;34m\u001b[0m\u001b[0m\n",
      "\u001b[0;32m~/anaconda3/lib/python3.8/site-packages/joblib/parallel.py\u001b[0m in \u001b[0;36m_terminate_backend\u001b[0;34m(self)\u001b[0m\n\u001b[1;32m    755\u001b[0m     \u001b[0;32mdef\u001b[0m \u001b[0m_terminate_backend\u001b[0m\u001b[0;34m(\u001b[0m\u001b[0mself\u001b[0m\u001b[0;34m)\u001b[0m\u001b[0;34m:\u001b[0m\u001b[0;34m\u001b[0m\u001b[0;34m\u001b[0m\u001b[0m\n\u001b[1;32m    756\u001b[0m         \u001b[0;32mif\u001b[0m \u001b[0mself\u001b[0m\u001b[0;34m.\u001b[0m\u001b[0m_backend\u001b[0m \u001b[0;32mis\u001b[0m \u001b[0;32mnot\u001b[0m \u001b[0;32mNone\u001b[0m\u001b[0;34m:\u001b[0m\u001b[0;34m\u001b[0m\u001b[0;34m\u001b[0m\u001b[0m\n\u001b[0;32m--> 757\u001b[0;31m             \u001b[0mself\u001b[0m\u001b[0;34m.\u001b[0m\u001b[0m_backend\u001b[0m\u001b[0;34m.\u001b[0m\u001b[0mterminate\u001b[0m\u001b[0;34m(\u001b[0m\u001b[0;34m)\u001b[0m\u001b[0;34m\u001b[0m\u001b[0;34m\u001b[0m\u001b[0m\n\u001b[0m\u001b[1;32m    758\u001b[0m \u001b[0;34m\u001b[0m\u001b[0m\n\u001b[1;32m    759\u001b[0m     \u001b[0;32mdef\u001b[0m \u001b[0m_dispatch\u001b[0m\u001b[0;34m(\u001b[0m\u001b[0mself\u001b[0m\u001b[0;34m,\u001b[0m \u001b[0mbatch\u001b[0m\u001b[0;34m)\u001b[0m\u001b[0;34m:\u001b[0m\u001b[0;34m\u001b[0m\u001b[0;34m\u001b[0m\u001b[0m\n",
      "\u001b[0;32m~/anaconda3/lib/python3.8/site-packages/joblib/_parallel_backends.py\u001b[0m in \u001b[0;36mterminate\u001b[0;34m(self)\u001b[0m\n\u001b[1;32m    549\u001b[0m             \u001b[0;31m# calls, but cleanup the temporary resources that the Parallel call\u001b[0m\u001b[0;34m\u001b[0m\u001b[0;34m\u001b[0m\u001b[0;34m\u001b[0m\u001b[0m\n\u001b[1;32m    550\u001b[0m             \u001b[0;31m# created. This 'hack' requires a private, low-level operation.\u001b[0m\u001b[0;34m\u001b[0m\u001b[0;34m\u001b[0m\u001b[0;34m\u001b[0m\u001b[0m\n\u001b[0;32m--> 551\u001b[0;31m             self._workers._temp_folder_manager._unlink_temporary_resources(\n\u001b[0m\u001b[1;32m    552\u001b[0m                 \u001b[0mcontext_id\u001b[0m\u001b[0;34m=\u001b[0m\u001b[0mself\u001b[0m\u001b[0;34m.\u001b[0m\u001b[0mparallel\u001b[0m\u001b[0;34m.\u001b[0m\u001b[0m_id\u001b[0m\u001b[0;34m\u001b[0m\u001b[0;34m\u001b[0m\u001b[0m\n\u001b[1;32m    553\u001b[0m             )\n",
      "\u001b[0;32m~/anaconda3/lib/python3.8/site-packages/joblib/_memmapping_reducer.py\u001b[0m in \u001b[0;36m_unlink_temporary_resources\u001b[0;34m(self, context_id)\u001b[0m\n\u001b[1;32m    625\u001b[0m                         \u001b[0mos\u001b[0m\u001b[0;34m.\u001b[0m\u001b[0mpath\u001b[0m\u001b[0;34m.\u001b[0m\u001b[0mjoin\u001b[0m\u001b[0;34m(\u001b[0m\u001b[0mtemp_folder\u001b[0m\u001b[0;34m,\u001b[0m \u001b[0mfilename\u001b[0m\u001b[0;34m)\u001b[0m\u001b[0;34m,\u001b[0m \u001b[0;34m\"file\"\u001b[0m\u001b[0;34m\u001b[0m\u001b[0;34m\u001b[0m\u001b[0m\n\u001b[1;32m    626\u001b[0m                     )\n\u001b[0;32m--> 627\u001b[0;31m                 self._try_delete_folder(\n\u001b[0m\u001b[1;32m    628\u001b[0m                     \u001b[0mallow_non_empty\u001b[0m\u001b[0;34m=\u001b[0m\u001b[0;32mFalse\u001b[0m\u001b[0;34m,\u001b[0m \u001b[0mcontext_id\u001b[0m\u001b[0;34m=\u001b[0m\u001b[0mcontext_id\u001b[0m\u001b[0;34m\u001b[0m\u001b[0;34m\u001b[0m\u001b[0m\n\u001b[1;32m    629\u001b[0m                 )\n",
      "\u001b[0;32m~/anaconda3/lib/python3.8/site-packages/joblib/_memmapping_reducer.py\u001b[0m in \u001b[0;36m_try_delete_folder\u001b[0;34m(self, allow_non_empty, context_id)\u001b[0m\n\u001b[1;32m    652\u001b[0m             \u001b[0mtemp_folder\u001b[0m \u001b[0;34m=\u001b[0m \u001b[0mself\u001b[0m\u001b[0;34m.\u001b[0m\u001b[0m_cached_temp_folders\u001b[0m\u001b[0;34m[\u001b[0m\u001b[0mcontext_id\u001b[0m\u001b[0;34m]\u001b[0m\u001b[0;34m\u001b[0m\u001b[0;34m\u001b[0m\u001b[0m\n\u001b[1;32m    653\u001b[0m             \u001b[0;32mtry\u001b[0m\u001b[0;34m:\u001b[0m\u001b[0;34m\u001b[0m\u001b[0;34m\u001b[0m\u001b[0m\n\u001b[0;32m--> 654\u001b[0;31m                 delete_folder(\n\u001b[0m\u001b[1;32m    655\u001b[0m                     \u001b[0mtemp_folder\u001b[0m\u001b[0;34m,\u001b[0m \u001b[0mallow_non_empty\u001b[0m\u001b[0;34m=\u001b[0m\u001b[0mallow_non_empty\u001b[0m\u001b[0;34m\u001b[0m\u001b[0;34m\u001b[0m\u001b[0m\n\u001b[1;32m    656\u001b[0m                 )\n",
      "\u001b[0;32m~/anaconda3/lib/python3.8/site-packages/joblib/disk.py\u001b[0m in \u001b[0;36mdelete_folder\u001b[0;34m(folder_path, onerror, allow_non_empty)\u001b[0m\n\u001b[1;32m    134\u001b[0m                         \u001b[0;31m# yet.\u001b[0m\u001b[0;34m\u001b[0m\u001b[0;34m\u001b[0m\u001b[0;34m\u001b[0m\u001b[0m\n\u001b[1;32m    135\u001b[0m                         \u001b[0;32mraise\u001b[0m\u001b[0;34m\u001b[0m\u001b[0;34m\u001b[0m\u001b[0m\n\u001b[0;32m--> 136\u001b[0;31m                 \u001b[0mtime\u001b[0m\u001b[0;34m.\u001b[0m\u001b[0msleep\u001b[0m\u001b[0;34m(\u001b[0m\u001b[0mRM_SUBDIRS_RETRY_TIME\u001b[0m\u001b[0;34m)\u001b[0m\u001b[0;34m\u001b[0m\u001b[0;34m\u001b[0m\u001b[0m\n\u001b[0m",
      "\u001b[0;31mKeyboardInterrupt\u001b[0m: "
     ]
    }
   ],
   "source": [
    "import datetime\n",
    "#set the number of folds you want in the inner and outer folds of the nested cross-validation\n",
    "k = 5\n",
    "\n",
    "#set the proportion of data you want in your training set\n",
    "train_size = .8\n",
    "\n",
    "#set x data to be the input variable you want to use\n",
    "#ie fc, sc, or hc\n",
    "#X=np.concatenate([sc, fc], axis=1)\n",
    "X=sc\n",
    "X=prepare_data(X)\n",
    "\n",
    "#set y to be the measure you want to predict\n",
    "Y = np.array(wais)\n",
    "\n",
    "# feature selection type\n",
    "featselect='PCA'\n",
    "\n",
    "# initialize lists to store model results for each permuation\n",
    "allR2=[]\n",
    "meanR2=[]\n",
    "features=[]\n",
    "bestalphas=[]\n",
    "importance=[]\n",
    "\n",
    "#joblib-based parallelism to increase speed,\n",
    "\n",
    "for p in range(0, 100):\n",
    "    outer_cv = KFold(n_splits=k, shuffle=True, random_state=p)\n",
    "    print('Permutation: ' + str(p))\n",
    "    # initialize lists to store model results for eah fold\n",
    "    R2=[]\n",
    "    feats=[]\n",
    "    best_alphas=[]\n",
    "    impt=[] \n",
    "\n",
    "    for train, test in outer_cv.split(X):\n",
    "        begin_time = datetime.datetime.now()\n",
    "\n",
    "        # select model using training data\n",
    "        bestalpha, bestfeats, bestr2, gcv_values, comps = gridsearch_cv(k, X[train], Y[train], featselect)\n",
    "        \n",
    "        # using optimal num. of features, select final features using entire training data.\n",
    "        x_train_featselect,x_test_featureselect,ind = feature_select_correlation(X[train],X[test], Y[train], bestfeats)\n",
    "\n",
    "        # initialize Ridge regression with alpha selected from hyperparameter search\n",
    "        regr = linear_model.Ridge(alpha=bestalpha, normalize=True, max_iter=1000000, random_state=p)\n",
    "\n",
    "        # fit model \n",
    "        y_pred = regr.fit(x_train_featselect, Y[train]).predict(x_test_featureselect)\n",
    "\n",
    "        # store results for each fold k\n",
    "        impt.append(regr.coef_)\n",
    "        R2.append(r2_score(Y[test], y_pred))\n",
    "        feats.append(ind)\n",
    "        best_alphas.append(bestalpha)\n",
    "        print('time to run loop: ' + str(datetime.datetime.now() - begin_time)) \n",
    "\n",
    "    # store results for each permutation p\n",
    "    meanR2.append(np.mean(R2))\n",
    "    allR2.append(R2)\n",
    "    features.append(feats)\n",
    "    bestalphas.append(best_alphas)\n",
    "    importance.append(impt)\n",
    "\n",
    "np.savetxt(results_dir + featselect + '_SC_allR2.txt', allR2, delimiter=',')\n",
    "np.savetxt(results_dir + featselect + '_SC_meanR2.txt', meanR2, delimiter=',')\n",
    "\n",
    "output = open(results_dir + featselect + '_SC_features.pkl', 'wb')\n",
    "pickle.dump(features, output)\n",
    "output.close()\n",
    "\n",
    "output = open(results_dir + featselect + '_SC_bestalphas.pkl', 'wb')\n",
    "pickle.dump(bestalphas, output)\n",
    "output.close()\n"
   ]
  },
  {
   "cell_type": "code",
   "execution_count": null,
   "id": "a03934cd",
   "metadata": {},
   "outputs": [],
   "source": [
    "\n",
    "#set x data to be the input variable you want to use\n",
    "#ie fc, sc, or hc\n",
    "#X=np.concatenate([sc, fc], axis=1)\n",
    "X=fc\n",
    "X=prepare_data(X)\n",
    "\n",
    "#set y to be the measure you want to predict\n",
    "Y = np.array(wais)\n",
    "\n",
    "# feature selection type\n",
    "featselect='PCA'\n",
    "\n",
    "# initialize lists to store model results for each permuation\n",
    "allR2=[]\n",
    "meanR2=[]\n",
    "features=[]\n",
    "bestalphas=[]\n",
    "importance=[]\n",
    "\n",
    "#joblib-based parallelism to increase speed,\n",
    "\n",
    "for p in range(0, 100):\n",
    "    outer_cv = KFold(n_splits=k, shuffle=True, random_state=p)\n",
    "    print('Permutation: ' + str(p))\n",
    "    # initialize lists to store model results for eah fold\n",
    "    R2=[]\n",
    "    feats=[]\n",
    "    best_alphas=[]\n",
    "    impt=[] \n",
    "\n",
    "    for train, test in outer_cv.split(X):\n",
    "        begin_time = datetime.datetime.now()\n",
    "\n",
    "        # select model using training data\n",
    "        bestalpha, bestfeats, bestr2, gcv_values, comps = gridsearch_cv(k, X[train], Y[train], featselect)\n",
    "        \n",
    "        # using optimal num. of features, select final features using entire training data.\n",
    "        x_train_featselect,x_test_featureselect,ind = feature_select_correlation(X[train],X[test], Y[train], bestfeats)\n",
    "\n",
    "        # initialize Ridge regression with alpha selected from hyperparameter search\n",
    "        regr = linear_model.Ridge(alpha=bestalpha, normalize=True, max_iter=1000000, random_state=p)\n",
    "\n",
    "        # fit model \n",
    "        y_pred = regr.fit(x_train_featselect, Y[train]).predict(x_test_featureselect)\n",
    "\n",
    "        # store results for each fold k\n",
    "        impt.append(regr.coef_)\n",
    "        R2.append(r2_score(Y[test], y_pred))\n",
    "        feats.append(ind)\n",
    "        best_alphas.append(bestalpha)\n",
    "        print('time to run loop: ' + str(datetime.datetime.now() - begin_time)) \n",
    "\n",
    "    # store results for each permutation p\n",
    "    meanR2.append(np.mean(R2))\n",
    "    allR2.append(R2)\n",
    "    features.append(feats)\n",
    "    bestalphas.append(best_alphas)\n",
    "    importance.append(impt)\n",
    "\n",
    "np.savetxt(results_dir + featselect + '_FC_allR2.txt', allR2, delimiter=',')\n",
    "np.savetxt(results_dir + featselect + '_FC_meanR2.txt', meanR2, delimiter=',')\n",
    "\n",
    "output = open(results_dir + featselect + '_FC_features.pkl', 'wb')\n",
    "pickle.dump(features, output)\n",
    "output.close()\n",
    "\n",
    "output = open(results_dir + featselect + '_FC_bestalphas.pkl', 'wb')\n",
    "pickle.dump(bestalphas, output)\n",
    "output.close()"
   ]
  },
  {
   "cell_type": "code",
   "execution_count": null,
   "id": "db1f94b6",
   "metadata": {},
   "outputs": [],
   "source": [
    "\n",
    "#set x data to be the input variable you want to use\n",
    "#ie fc, sc, or hc\n",
    "X=np.concatenate([sc, fc], axis=1)\n",
    "#X=fc\n",
    "X=prepare_data(X)\n",
    "\n",
    "#set y to be the measure you want to predict\n",
    "Y = np.array(wais)\n",
    "\n",
    "# feature selection type\n",
    "featselect='PCA'\n",
    "\n",
    "# initialize lists to store model results for each permuation\n",
    "allR2=[]\n",
    "meanR2=[]\n",
    "features=[]\n",
    "bestalphas=[]\n",
    "importance=[]\n",
    "\n",
    "#joblib-based parallelism to increase speed,\n",
    "\n",
    "for p in range(0, 100):\n",
    "    outer_cv = KFold(n_splits=k, shuffle=True, random_state=p)\n",
    "    print('Permutation: ' + str(p))\n",
    "    # initialize lists to store model results for eah fold\n",
    "    R2=[]\n",
    "    feats=[]\n",
    "    best_alphas=[]\n",
    "    impt=[] \n",
    "\n",
    "    for train, test in outer_cv.split(X):\n",
    "        begin_time = datetime.datetime.now()\n",
    "\n",
    "        # select model using training data\n",
    "        bestalpha, bestfeats, bestr2, gcv_values, comps = gridsearch_cv(k, X[train], Y[train], featselect)\n",
    "        \n",
    "        # using optimal num. of features, select final features using entire training data.\n",
    "        x_train_featselect,x_test_featureselect,ind = feature_select_correlation(X[train],X[test], Y[train], bestfeats)\n",
    "\n",
    "        # initialize Ridge regression with alpha selected from hyperparameter search\n",
    "        regr = linear_model.Ridge(alpha=bestalpha, normalize=True, max_iter=1000000, random_state=p)\n",
    "\n",
    "        # fit model \n",
    "        y_pred = regr.fit(x_train_featselect, Y[train]).predict(x_test_featureselect)\n",
    "\n",
    "        # store results for each fold k\n",
    "        impt.append(regr.coef_)\n",
    "        R2.append(r2_score(Y[test], y_pred))\n",
    "        feats.append(ind)\n",
    "        best_alphas.append(bestalpha)\n",
    "        print('time to run loop: ' + str(datetime.datetime.now() - begin_time)) \n",
    "\n",
    "    # store results for each permutation p\n",
    "    meanR2.append(np.mean(R2))\n",
    "    allR2.append(R2)\n",
    "    features.append(feats)\n",
    "    bestalphas.append(best_alphas)\n",
    "    importance.append(impt)\n",
    "\n",
    "np.savetxt(results_dir + featselect + '_SCFC_allR2.txt', allR2, delimiter=',')\n",
    "np.savetxt(results_dir + featselect + '_SCFC_meanR2.txt', meanR2, delimiter=',')\n",
    "\n",
    "output = open(results_dir + featselect + '_SCFC_features.pkl', 'wb')\n",
    "pickle.dump(features, output)\n",
    "output.close()\n",
    "\n",
    "output = open(results_dir + featselect + '_SCFC_bestalphas.pkl', 'wb')\n",
    "pickle.dump(bestalphas, output)\n",
    "output.close()"
   ]
  },
  {
   "cell_type": "code",
   "execution_count": null,
   "id": "49c657ac",
   "metadata": {},
   "outputs": [],
   "source": [
    "#set x data to be the input variable you want to use\n",
    "#ie fc, sc, or hc\n",
    "#X=np.concatenate([sc, fc], axis=1)\n",
    "X=sc\n",
    "X=prepare_data(X)\n",
    "\n",
    "#set y to be the measure you want to predict\n",
    "Y = np.array(wais)\n",
    "\n",
    "# feature selection type\n",
    "featselect='correlation'\n",
    "\n",
    "# initialize lists to store model results for each permuation\n",
    "allR2=[]\n",
    "meanR2=[]\n",
    "features=[]\n",
    "bestalphas=[]\n",
    "importance=[]\n",
    "\n",
    "#joblib-based parallelism to increase speed,\n",
    "\n",
    "for p in range(0, 100):\n",
    "    outer_cv = KFold(n_splits=k, shuffle=True, random_state=p)\n",
    "    print('Permutation: ' + str(p))\n",
    "    # initialize lists to store model results for eah fold\n",
    "    R2=[]\n",
    "    feats=[]\n",
    "    best_alphas=[]\n",
    "    impt=[] \n",
    "\n",
    "    for train, test in outer_cv.split(X):\n",
    "        begin_time = datetime.datetime.now()\n",
    "\n",
    "        # select model using training data\n",
    "        bestalpha, bestfeats, bestr2, gcv_values, comps = gridsearch_cv(k, X[train], Y[train], featselect)\n",
    "        \n",
    "        # using optimal num. of features, select final features using entire training data.\n",
    "        x_train_featselect,x_test_featureselect,ind = feature_select_correlation(X[train],X[test], Y[train], bestfeats)\n",
    "\n",
    "        # initialize Ridge regression with alpha selected from hyperparameter search\n",
    "        regr = linear_model.Ridge(alpha=bestalpha, normalize=True, max_iter=1000000, random_state=p)\n",
    "\n",
    "        # fit model \n",
    "        y_pred = regr.fit(x_train_featselect, Y[train]).predict(x_test_featureselect)\n",
    "\n",
    "        # store results for each fold k\n",
    "        impt.append(regr.coef_)\n",
    "        R2.append(r2_score(Y[test], y_pred))\n",
    "        feats.append(ind)\n",
    "        best_alphas.append(bestalpha)\n",
    "        print('time to run loop: ' + str(datetime.datetime.now() - begin_time)) \n",
    "\n",
    "    # store results for each permutation p\n",
    "    meanR2.append(np.mean(R2))\n",
    "    allR2.append(R2)\n",
    "    features.append(feats)\n",
    "    bestalphas.append(best_alphas)\n",
    "    importance.append(impt)\n",
    "\n",
    "np.savetxt(results_dir + featselect + '_SC_allR2.txt', allR2, delimiter=',')\n",
    "np.savetxt(results_dir + featselect + '_SC_meanR2.txt', meanR2, delimiter=',')\n",
    "\n",
    "output = open(results_dir + featselect + '_SC_features.pkl', 'wb')\n",
    "pickle.dump(features, output)\n",
    "output.close()\n",
    "\n",
    "output = open(results_dir + featselect + '_SC_bestalphas.pkl', 'wb')\n",
    "pickle.dump(bestalphas, output)\n",
    "output.close()\n"
   ]
  },
  {
   "cell_type": "code",
   "execution_count": null,
   "id": "3cdd92ba",
   "metadata": {},
   "outputs": [],
   "source": [
    "#MODEL OPTIMIZATION\n",
    "\n",
    "#set the number of folds you want in the inner and outer folds of the nested cross-validation\n",
    "k = 5\n",
    "\n",
    "#set the proportion of data you want in your training set\n",
    "train_size = .8\n",
    "\n",
    "#set x data to be the input variable you want to use\n",
    "#ie fc, sc, or hc\n",
    "#X=np.concatenate([sc, fc], axis=1)\n",
    "X=fc\n",
    "X=prepare_data(X)\n",
    "\n",
    "#set y to be the measure you want to predict\n",
    "Y = np.array(wais)\n",
    "\n",
    "# set aside data for hold-out final testing: \n",
    "x, x_test, y, y_test = train_test_split(X, Y, test_size=1-train_size, shuffle=True, random_state=42)\n",
    "# feature selection type\n",
    "featselect='PCA'\n",
    "bestalpha, bestfeats, bestr2, gcv_values, comps = gridsearch_cv(k, x, y, featselect)\n"
   ]
  },
  {
   "cell_type": "code",
   "execution_count": 285,
   "id": "c96aa62a",
   "metadata": {},
   "outputs": [
    {
     "data": {
      "text/plain": [
       "3.333333333333333"
      ]
     },
     "execution_count": 285,
     "metadata": {},
     "output_type": "execute_result"
    }
   ],
   "source": [
    "42/60/60*5*100-18/60/60*5*100"
   ]
  },
  {
   "cell_type": "code",
   "execution_count": 101,
   "id": "791ff2c8",
   "metadata": {},
   "outputs": [
    {
     "name": "stdout",
     "output_type": "stream",
     "text": [
      "Best combination: \n",
      " alpha =  0.8858667904100825 \n",
      " Features =  15 \n",
      " R^2 =  0.134\n"
     ]
    }
   ],
   "source": [
    "row=np.argmax(np.max(gcv_values, axis=1))\n",
    "col=np.argmax(np.max(gcv_values, axis=0))\n",
    "k = 5\n",
    "bestalpha=alphas[row]\n",
    "bestfeats=feats[col]\n",
    "\n",
    "print('Best combination: \\n alpha = ', str(alphas[row]), '\\n Features = ', str(feats[col]), '\\n R^2 = ', str(np.round(np.max(gcv_values), 3)))\n",
    "\n",
    "r2, comps=gcv_ridge(bestalpha, x, y, k, featselect, bestfeats)\n"
   ]
  },
  {
   "cell_type": "code",
   "execution_count": 49,
   "id": "af78d59f",
   "metadata": {},
   "outputs": [
    {
     "name": "stdout",
     "output_type": "stream",
     "text": [
      "[[24.  5. 13. 13. 17.]\n",
      " [ 5. 24.  5.  4.  6.]\n",
      " [13.  5. 24. 16. 17.]\n",
      " [13.  4. 16. 24. 17.]\n",
      " [17.  6. 17. 17. 24.]]\n"
     ]
    },
    {
     "data": {
      "image/png": "[encoded data removed]",
      "text/plain": [
       "<Figure size 360x360 with 2 Axes>"
      ]
     },
     "metadata": {
      "needs_background": "light"
     },
     "output_type": "display_data"
    }
   ],
   "source": [
    "#Consistency of correlation feature selection\n",
    "k=5\n",
    "intersect=np.empty(shape=(k, k), dtype='float')\n",
    "\n",
    "for i in range(0,k): # compare each fold to each other fold\n",
    "    for j in range(0,k):\n",
    "        intersect[i,j]=np.shape(np.intersect1d(comps[i], comps[j]))[0]\n",
    "\n",
    "print(intersect)\n",
    "plt.figure(figsize=(5,5))\n",
    "\n",
    "plt.imshow(intersect, cmap='hot', interpolation='nearest')\n",
    "cbar = plt.colorbar()\n",
    "cbar.set_label('Number of shared features')\n",
    "plt.title('Similarity of features between folds', fontsize=20)\n",
    "\n",
    "plt.scatter(row,col,color='k')\n",
    "plt.savefig(results_dir+string+ '.png')\n",
    "plt.show()"
   ]
  },
  {
   "cell_type": "code",
   "execution_count": 274,
   "id": "4452b089",
   "metadata": {},
   "outputs": [
    {
     "name": "stderr",
     "output_type": "stream",
     "text": [
      "<ipython-input-62-33ad16bafe0c>:15: MatplotlibDeprecationWarning: Adding an axes using the same arguments as a previous axes currently reuses the earlier instance.  In a future version, a new instance will always be created and returned.  Meanwhile, this warning can be suppressed, and the future behavior ensured, by passing a unique label to each axes instance.\n",
      "  ax = plt.axes()\n"
     ]
    },
    {
     "data": {
      "image/png": "[encoded data removed]",
      "text/plain": [
       "<Figure size 1224x1008 with 2 Axes>"
      ]
     },
     "metadata": {
      "needs_background": "light"
     },
     "output_type": "display_data"
    }
   ],
   "source": [
    "plot_figure(gcv_values,'test')"
   ]
  },
  {
   "cell_type": "code",
   "execution_count": 62,
   "id": "5cce0adb",
   "metadata": {},
   "outputs": [],
   "source": [
    "def plot_figure(gcv_values, string):\n",
    "    '''Plots the R^2 value obtained across all grid-search pairs (# features and regularization values.)'''\n",
    "    \n",
    "    plt.figure(figsize=(17,14))\n",
    "    shifted_cmap = shiftedColorMap(plt.get_cmap('bwr'), midpoint=0.85, name='shifted')\n",
    "\n",
    "    plt.imshow(gcv_values, cmap=shifted_cmap, interpolation='nearest')\n",
    "\n",
    "    plt.xlabel('# Features', fontsize=15, fontweight='bold')\n",
    "    plt.ylabel('Alphas', fontsize=15, fontweight='bold')\n",
    "\n",
    "    row=np.argmax(np.max(gcv_values, axis=0))\n",
    "    col=np.argmax(np.max(gcv_values, axis=1))\n",
    "\n",
    "    ax = plt.axes()\n",
    "\n",
    "    ax.xaxis.set_major_locator(plt.MultipleLocator(1))\n",
    "    ax.yaxis.set_major_locator(plt.MultipleLocator(1))\n",
    "\n",
    "    xticks= np.linspace(feat_start, feat_end,n_feats, dtype=int)\n",
    "    yticks= np.logspace(alpha_start, alpha_end, n_alphas, base=10, dtype=None)\n",
    "\n",
    "    plt.xticks(np.arange(len(feats)), fontsize=18)\n",
    "    plt.yticks(np.arange(len(alphas)), fontsize=18)\n",
    "\n",
    "    ax.set_xticklabels(xticks)\n",
    "    ax.set_yticklabels(np.round(yticks,3))\n",
    "\n",
    "    #ax.xaxis.set_major_formatter(mpl.ticker.StrMethodFormatter('{xticks: .2f}'))\n",
    "    cbar = plt.colorbar()\n",
    "    cbar.set_label('R^2')\n",
    "    plt.title(string + '_Best R^2 = ' + str(np.round(np.max(gcv_values), 3)), fontsize=20)\n",
    "\n",
    "    plt.scatter(row,col,color='k')\n",
    "    plt.savefig(results_dir+string+ '.png')\n",
    "    plt.show()\n",
    "\n"
   ]
  },
  {
   "cell_type": "code",
   "execution_count": 96,
   "id": "4e578919",
   "metadata": {},
   "outputs": [
    {
     "name": "stdout",
     "output_type": "stream",
     "text": [
      "15\n"
     ]
    },
    {
     "data": {
      "image/png": "[encoded data removed]",
      "text/plain": [
       "<Figure size 1080x1080 with 2 Axes>"
      ]
     },
     "metadata": {
      "needs_background": "light"
     },
     "output_type": "display_data"
    },
    {
     "data": {
      "image/png": "[encoded data removed]",
      "text/plain": [
       "<Figure size 1080x1080 with 2 Axes>"
      ]
     },
     "metadata": {
      "needs_background": "light"
     },
     "output_type": "display_data"
    },
    {
     "data": {
      "image/png": "[encoded data removed]",
      "text/plain": [
       "<Figure size 1080x1080 with 2 Axes>"
      ]
     },
     "metadata": {
      "needs_background": "light"
     },
     "output_type": "display_data"
    },
    {
     "data": {
      "image/png": "[encoded data removed]",
      "text/plain": [
       "<Figure size 1080x1080 with 2 Axes>"
      ]
     },
     "metadata": {
      "needs_background": "light"
     },
     "output_type": "display_data"
    },
    {
     "data": {
      "image/png": "[encoded data removed]",
      "text/plain": [
       "<Figure size 1080x1080 with 2 Axes>"
      ]
     },
     "metadata": {
      "needs_background": "light"
     },
     "output_type": "display_data"
    },
    {
     "data": {
      "image/png": "[encoded data removed]",
      "text/plain": [
       "<Figure size 1080x1080 with 2 Axes>"
      ]
     },
     "metadata": {
      "needs_background": "light"
     },
     "output_type": "display_data"
    },
    {
     "data": {
      "image/png": "[encoded data removed]",
      "text/plain": [
       "<Figure size 1080x1080 with 2 Axes>"
      ]
     },
     "metadata": {
      "needs_background": "light"
     },
     "output_type": "display_data"
    },
    {
     "data": {
      "image/png": "[encoded data removed]",
      "text/plain": [
       "<Figure size 1080x1080 with 2 Axes>"
      ]
     },
     "metadata": {
      "needs_background": "light"
     },
     "output_type": "display_data"
    },
    {
     "data": {
      "image/png": "[encoded data removed]",
      "text/plain": [
       "<Figure size 1080x1080 with 2 Axes>"
      ]
     },
     "metadata": {
      "needs_background": "light"
     },
     "output_type": "display_data"
    },
    {
     "data": {
      "image/png": "[encoded data removed]",
      "text/plain": [
       "<Figure size 1080x1080 with 2 Axes>"
      ]
     },
     "metadata": {
      "needs_background": "light"
     },
     "output_type": "display_data"
    },
    {
     "data": {
      "image/png": "[encoded data removed]",
      "text/plain": [
       "<Figure size 1080x1080 with 2 Axes>"
      ]
     },
     "metadata": {
      "needs_background": "light"
     },
     "output_type": "display_data"
    },
    {
     "data": {
      "image/png": "[encoded data removed]",
      "text/plain": [
       "<Figure size 1080x1080 with 2 Axes>"
      ]
     },
     "metadata": {
      "needs_background": "light"
     },
     "output_type": "display_data"
    },
    {
     "data": {
      "image/png": "[encoded data removed]",
      "text/plain": [
       "<Figure size 1080x1080 with 2 Axes>"
      ]
     },
     "metadata": {
      "needs_background": "light"
     },
     "output_type": "display_data"
    },
    {
     "data": {
      "image/png": "[encoded data removed]",
      "text/plain": [
       "<Figure size 1080x1080 with 2 Axes>"
      ]
     },
     "metadata": {
      "needs_background": "light"
     },
     "output_type": "display_data"
    },
    {
     "data": {
      "image/png": "[encoded data removed]",
      "text/plain": [
       "<Figure size 1080x1080 with 2 Axes>"
      ]
     },
     "metadata": {
      "needs_background": "light"
     },
     "output_type": "display_data"
    },
    {
     "data": {
      "text/plain": [
       "<BarContainer object of 15 artists>"
      ]
     },
     "execution_count": 96,
     "metadata": {},
     "output_type": "execute_result"
    },
    {
     "data": {
      "image/png": "[encoded data removed]",
      "text/plain": [
       "<Figure size 432x288 with 1 Axes>"
      ]
     },
     "metadata": {
      "needs_background": "light"
     },
     "output_type": "display_data"
    }
   ],
   "source": [
    "#Consistency of PCA feature selection\n",
    "\n",
    "print(bestfeats)\n",
    "\n",
    "correl=np.empty(shape=(k, k), dtype='float')\n",
    "correlationp=[]\n",
    "for p in range(0, bestfeats):\n",
    "    for i in range(0,k): # compare each fold to each other fold\n",
    "        for j in range(0,k):\n",
    "            if i==j:\n",
    "                correl[i,j]=np.nan\n",
    "            else:\n",
    "                #correlation between fold i and j for feature # p\n",
    "                correl[i,j]=np.corrcoef(comps[i][p], comps[j][p])[1,0]\n",
    "                #intersect[i, j]=np.intersect1d(comps[i], comps[j])\n",
    "    plt.figure(figsize=(15,15))\n",
    "\n",
    "    plt.subplot(bestfeats,2, p+1)\n",
    "    plt.imshow(correl)\n",
    "    cbar = plt.colorbar()\n",
    "    cbar.set_label('Correlation between folds')\n",
    "    plt.show()\n",
    "\n",
    "    correlationp.append(np.nanmean(np.nanmean(correl)))\n",
    "            \n",
    "\n",
    "\n",
    "plt.bar(range(0, bestfeats), correlationp)\n"
   ]
  }
 ],
 "metadata": {
  "kernelspec": {
   "display_name": "Python 3",
   "language": "python",
   "name": "python3"
  },
  "language_info": {
   "codemirror_mode": {
    "name": "ipython",
    "version": 3
   },
   "file_extension": ".py",
   "mimetype": "text/x-python",
   "name": "python",
   "nbconvert_exporter": "python",
   "pygments_lexer": "ipython3",
   "version": "3.8.8"
  }
 },
 "nbformat": 4,
 "nbformat_minor": 5
}
